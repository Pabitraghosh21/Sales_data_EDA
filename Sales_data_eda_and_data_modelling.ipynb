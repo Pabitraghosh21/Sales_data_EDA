{
  "cells": [
    {
      "cell_type": "markdown",
      "id": "1483f804",
      "metadata": {
        "papermill": {
          "duration": 0.028929,
          "end_time": "2022-12-14T15:57:10.501286",
          "exception": false,
          "start_time": "2022-12-14T15:57:10.472357",
          "status": "completed"
        },
        "tags": [],
        "id": "1483f804"
      },
      "source": [
        "## **Supermarket EDA, Prediction, and Data Modelling**"
      ]
    },
    {
      "cell_type": "markdown",
      "id": "91a70551",
      "metadata": {
        "papermill": {
          "duration": 0.021499,
          "end_time": "2022-12-14T15:57:10.634306",
          "exception": false,
          "start_time": "2022-12-14T15:57:10.612807",
          "status": "completed"
        },
        "tags": [],
        "id": "91a70551"
      },
      "source": [
        "#### **Importing required library** <a class=\"anchor\" id=\"su\"></a>"
      ]
    },
    {
      "cell_type": "code",
      "execution_count": 1,
      "id": "19c94959",
      "metadata": {
        "execution": {
          "iopub.execute_input": "2022-12-14T15:57:10.684012Z",
          "iopub.status.busy": "2022-12-14T15:57:10.683299Z",
          "iopub.status.idle": "2022-12-14T15:57:11.968964Z",
          "shell.execute_reply": "2022-12-14T15:57:11.967666Z"
        },
        "papermill": {
          "duration": 1.316284,
          "end_time": "2022-12-14T15:57:11.972497",
          "exception": false,
          "start_time": "2022-12-14T15:57:10.656213",
          "status": "completed"
        },
        "tags": [],
        "id": "19c94959"
      },
      "outputs": [],
      "source": [
        "import pandas as pd\n",
        "import numpy as np\n",
        "import matplotlib.pyplot as plt\n",
        "import seaborn as sns\n",
        "%matplotlib inline"
      ]
    },
    {
      "cell_type": "markdown",
      "id": "37fa5c2f",
      "metadata": {
        "papermill": {
          "duration": 0.023479,
          "end_time": "2022-12-14T15:57:12.018361",
          "exception": false,
          "start_time": "2022-12-14T15:57:11.994882",
          "status": "completed"
        },
        "tags": [],
        "id": "37fa5c2f"
      },
      "source": [
        "#### **Importing Dataset** <a class=\"anchor\" id=\"ids\"></a>"
      ]
    },
    {
      "cell_type": "code",
      "execution_count": 2,
      "id": "9ffced42",
      "metadata": {
        "execution": {
          "iopub.execute_input": "2022-12-14T15:57:12.064040Z",
          "iopub.status.busy": "2022-12-14T15:57:12.063647Z",
          "iopub.status.idle": "2022-12-14T15:57:12.120495Z",
          "shell.execute_reply": "2022-12-14T15:57:12.119171Z"
        },
        "papermill": {
          "duration": 0.083883,
          "end_time": "2022-12-14T15:57:12.124554",
          "exception": false,
          "start_time": "2022-12-14T15:57:12.040671",
          "status": "completed"
        },
        "tags": [],
        "colab": {
          "base_uri": "https://localhost:8080/",
          "height": 354
        },
        "id": "9ffced42",
        "outputId": "e78e4414-d122-4420-f439-f03b9850dcba"
      },
      "outputs": [
        {
          "output_type": "execute_result",
          "data": {
            "text/plain": [
              "    Invoice ID Branch       City Customer type  Gender  \\\n",
              "0  750-67-8428      A     Yangon        Member  Female   \n",
              "1  226-31-3081      C  Naypyitaw        Normal  Female   \n",
              "2  631-41-3108      A     Yangon        Normal    Male   \n",
              "3  123-19-1176      A     Yangon        Member    Male   \n",
              "4  373-73-7910      A     Yangon        Normal    Male   \n",
              "\n",
              "             Product line  Unit price  Quantity   Tax 5%     Total       Date  \\\n",
              "0       Health and beauty       74.69         7  26.1415  548.9715   1/5/2019   \n",
              "1  Electronic accessories       15.28         5   3.8200   80.2200   3/8/2019   \n",
              "2      Home and lifestyle       46.33         7  16.2155  340.5255   3/3/2019   \n",
              "3       Health and beauty       58.22         8  23.2880  489.0480  1/27/2019   \n",
              "4       Sports and travel       86.31         7  30.2085  634.3785   2/8/2019   \n",
              "\n",
              "    Time      Payment    cogs  gross margin percentage  gross income  Rating  \n",
              "0  13:08      Ewallet  522.83                 4.761905       26.1415     9.1  \n",
              "1  10:29         Cash   76.40                 4.761905        3.8200     9.6  \n",
              "2  13:23  Credit card  324.31                 4.761905       16.2155     7.4  \n",
              "3  20:33      Ewallet  465.76                 4.761905       23.2880     8.4  \n",
              "4  10:37      Ewallet  604.17                 4.761905       30.2085     5.3  "
            ],
            "text/html": [
              "\n",
              "  <div id=\"df-a1deef71-06d0-456e-ad43-cbe90901a358\">\n",
              "    <div class=\"colab-df-container\">\n",
              "      <div>\n",
              "<style scoped>\n",
              "    .dataframe tbody tr th:only-of-type {\n",
              "        vertical-align: middle;\n",
              "    }\n",
              "\n",
              "    .dataframe tbody tr th {\n",
              "        vertical-align: top;\n",
              "    }\n",
              "\n",
              "    .dataframe thead th {\n",
              "        text-align: right;\n",
              "    }\n",
              "</style>\n",
              "<table border=\"1\" class=\"dataframe\">\n",
              "  <thead>\n",
              "    <tr style=\"text-align: right;\">\n",
              "      <th></th>\n",
              "      <th>Invoice ID</th>\n",
              "      <th>Branch</th>\n",
              "      <th>City</th>\n",
              "      <th>Customer type</th>\n",
              "      <th>Gender</th>\n",
              "      <th>Product line</th>\n",
              "      <th>Unit price</th>\n",
              "      <th>Quantity</th>\n",
              "      <th>Tax 5%</th>\n",
              "      <th>Total</th>\n",
              "      <th>Date</th>\n",
              "      <th>Time</th>\n",
              "      <th>Payment</th>\n",
              "      <th>cogs</th>\n",
              "      <th>gross margin percentage</th>\n",
              "      <th>gross income</th>\n",
              "      <th>Rating</th>\n",
              "    </tr>\n",
              "  </thead>\n",
              "  <tbody>\n",
              "    <tr>\n",
              "      <th>0</th>\n",
              "      <td>750-67-8428</td>\n",
              "      <td>A</td>\n",
              "      <td>Yangon</td>\n",
              "      <td>Member</td>\n",
              "      <td>Female</td>\n",
              "      <td>Health and beauty</td>\n",
              "      <td>74.69</td>\n",
              "      <td>7</td>\n",
              "      <td>26.1415</td>\n",
              "      <td>548.9715</td>\n",
              "      <td>1/5/2019</td>\n",
              "      <td>13:08</td>\n",
              "      <td>Ewallet</td>\n",
              "      <td>522.83</td>\n",
              "      <td>4.761905</td>\n",
              "      <td>26.1415</td>\n",
              "      <td>9.1</td>\n",
              "    </tr>\n",
              "    <tr>\n",
              "      <th>1</th>\n",
              "      <td>226-31-3081</td>\n",
              "      <td>C</td>\n",
              "      <td>Naypyitaw</td>\n",
              "      <td>Normal</td>\n",
              "      <td>Female</td>\n",
              "      <td>Electronic accessories</td>\n",
              "      <td>15.28</td>\n",
              "      <td>5</td>\n",
              "      <td>3.8200</td>\n",
              "      <td>80.2200</td>\n",
              "      <td>3/8/2019</td>\n",
              "      <td>10:29</td>\n",
              "      <td>Cash</td>\n",
              "      <td>76.40</td>\n",
              "      <td>4.761905</td>\n",
              "      <td>3.8200</td>\n",
              "      <td>9.6</td>\n",
              "    </tr>\n",
              "    <tr>\n",
              "      <th>2</th>\n",
              "      <td>631-41-3108</td>\n",
              "      <td>A</td>\n",
              "      <td>Yangon</td>\n",
              "      <td>Normal</td>\n",
              "      <td>Male</td>\n",
              "      <td>Home and lifestyle</td>\n",
              "      <td>46.33</td>\n",
              "      <td>7</td>\n",
              "      <td>16.2155</td>\n",
              "      <td>340.5255</td>\n",
              "      <td>3/3/2019</td>\n",
              "      <td>13:23</td>\n",
              "      <td>Credit card</td>\n",
              "      <td>324.31</td>\n",
              "      <td>4.761905</td>\n",
              "      <td>16.2155</td>\n",
              "      <td>7.4</td>\n",
              "    </tr>\n",
              "    <tr>\n",
              "      <th>3</th>\n",
              "      <td>123-19-1176</td>\n",
              "      <td>A</td>\n",
              "      <td>Yangon</td>\n",
              "      <td>Member</td>\n",
              "      <td>Male</td>\n",
              "      <td>Health and beauty</td>\n",
              "      <td>58.22</td>\n",
              "      <td>8</td>\n",
              "      <td>23.2880</td>\n",
              "      <td>489.0480</td>\n",
              "      <td>1/27/2019</td>\n",
              "      <td>20:33</td>\n",
              "      <td>Ewallet</td>\n",
              "      <td>465.76</td>\n",
              "      <td>4.761905</td>\n",
              "      <td>23.2880</td>\n",
              "      <td>8.4</td>\n",
              "    </tr>\n",
              "    <tr>\n",
              "      <th>4</th>\n",
              "      <td>373-73-7910</td>\n",
              "      <td>A</td>\n",
              "      <td>Yangon</td>\n",
              "      <td>Normal</td>\n",
              "      <td>Male</td>\n",
              "      <td>Sports and travel</td>\n",
              "      <td>86.31</td>\n",
              "      <td>7</td>\n",
              "      <td>30.2085</td>\n",
              "      <td>634.3785</td>\n",
              "      <td>2/8/2019</td>\n",
              "      <td>10:37</td>\n",
              "      <td>Ewallet</td>\n",
              "      <td>604.17</td>\n",
              "      <td>4.761905</td>\n",
              "      <td>30.2085</td>\n",
              "      <td>5.3</td>\n",
              "    </tr>\n",
              "  </tbody>\n",
              "</table>\n",
              "</div>\n",
              "      <button class=\"colab-df-convert\" onclick=\"convertToInteractive('df-a1deef71-06d0-456e-ad43-cbe90901a358')\"\n",
              "              title=\"Convert this dataframe to an interactive table.\"\n",
              "              style=\"display:none;\">\n",
              "        \n",
              "  <svg xmlns=\"http://www.w3.org/2000/svg\" height=\"24px\"viewBox=\"0 0 24 24\"\n",
              "       width=\"24px\">\n",
              "    <path d=\"M0 0h24v24H0V0z\" fill=\"none\"/>\n",
              "    <path d=\"M18.56 5.44l.94 2.06.94-2.06 2.06-.94-2.06-.94-.94-2.06-.94 2.06-2.06.94zm-11 1L8.5 8.5l.94-2.06 2.06-.94-2.06-.94L8.5 2.5l-.94 2.06-2.06.94zm10 10l.94 2.06.94-2.06 2.06-.94-2.06-.94-.94-2.06-.94 2.06-2.06.94z\"/><path d=\"M17.41 7.96l-1.37-1.37c-.4-.4-.92-.59-1.43-.59-.52 0-1.04.2-1.43.59L10.3 9.45l-7.72 7.72c-.78.78-.78 2.05 0 2.83L4 21.41c.39.39.9.59 1.41.59.51 0 1.02-.2 1.41-.59l7.78-7.78 2.81-2.81c.8-.78.8-2.07 0-2.86zM5.41 20L4 18.59l7.72-7.72 1.47 1.35L5.41 20z\"/>\n",
              "  </svg>\n",
              "      </button>\n",
              "      \n",
              "  <style>\n",
              "    .colab-df-container {\n",
              "      display:flex;\n",
              "      flex-wrap:wrap;\n",
              "      gap: 12px;\n",
              "    }\n",
              "\n",
              "    .colab-df-convert {\n",
              "      background-color: #E8F0FE;\n",
              "      border: none;\n",
              "      border-radius: 50%;\n",
              "      cursor: pointer;\n",
              "      display: none;\n",
              "      fill: #1967D2;\n",
              "      height: 32px;\n",
              "      padding: 0 0 0 0;\n",
              "      width: 32px;\n",
              "    }\n",
              "\n",
              "    .colab-df-convert:hover {\n",
              "      background-color: #E2EBFA;\n",
              "      box-shadow: 0px 1px 2px rgba(60, 64, 67, 0.3), 0px 1px 3px 1px rgba(60, 64, 67, 0.15);\n",
              "      fill: #174EA6;\n",
              "    }\n",
              "\n",
              "    [theme=dark] .colab-df-convert {\n",
              "      background-color: #3B4455;\n",
              "      fill: #D2E3FC;\n",
              "    }\n",
              "\n",
              "    [theme=dark] .colab-df-convert:hover {\n",
              "      background-color: #434B5C;\n",
              "      box-shadow: 0px 1px 3px 1px rgba(0, 0, 0, 0.15);\n",
              "      filter: drop-shadow(0px 1px 2px rgba(0, 0, 0, 0.3));\n",
              "      fill: #FFFFFF;\n",
              "    }\n",
              "  </style>\n",
              "\n",
              "      <script>\n",
              "        const buttonEl =\n",
              "          document.querySelector('#df-a1deef71-06d0-456e-ad43-cbe90901a358 button.colab-df-convert');\n",
              "        buttonEl.style.display =\n",
              "          google.colab.kernel.accessAllowed ? 'block' : 'none';\n",
              "\n",
              "        async function convertToInteractive(key) {\n",
              "          const element = document.querySelector('#df-a1deef71-06d0-456e-ad43-cbe90901a358');\n",
              "          const dataTable =\n",
              "            await google.colab.kernel.invokeFunction('convertToInteractive',\n",
              "                                                     [key], {});\n",
              "          if (!dataTable) return;\n",
              "\n",
              "          const docLinkHtml = 'Like what you see? Visit the ' +\n",
              "            '<a target=\"_blank\" href=https://colab.research.google.com/notebooks/data_table.ipynb>data table notebook</a>'\n",
              "            + ' to learn more about interactive tables.';\n",
              "          element.innerHTML = '';\n",
              "          dataTable['output_type'] = 'display_data';\n",
              "          await google.colab.output.renderOutput(dataTable, element);\n",
              "          const docLink = document.createElement('div');\n",
              "          docLink.innerHTML = docLinkHtml;\n",
              "          element.appendChild(docLink);\n",
              "        }\n",
              "      </script>\n",
              "    </div>\n",
              "  </div>\n",
              "  "
            ]
          },
          "metadata": {},
          "execution_count": 2
        }
      ],
      "source": [
        "# Load the dataset into a Pandas DataFrame\n",
        "df = pd.read_csv(\"/content/supermarket_sales - Sheet1.csv\")\n",
        "df.head()"
      ]
    },
    {
      "cell_type": "markdown",
      "id": "81c8e985",
      "metadata": {
        "papermill": {
          "duration": 0.022439,
          "end_time": "2022-12-14T15:57:12.169817",
          "exception": false,
          "start_time": "2022-12-14T15:57:12.147378",
          "status": "completed"
        },
        "tags": [],
        "id": "81c8e985"
      },
      "source": [
        "#### **Data Processing** <a class=\"anchor\" id=\"dp\"></a>"
      ]
    },
    {
      "cell_type": "code",
      "source": [
        "# Checking the shape of the data\n",
        "df.shape"
      ],
      "metadata": {
        "colab": {
          "base_uri": "https://localhost:8080/"
        },
        "id": "lNnIZtqJshEV",
        "outputId": "eabb8597-9a5e-4f1d-a40b-a54bd43e3625"
      },
      "id": "lNnIZtqJshEV",
      "execution_count": 3,
      "outputs": [
        {
          "output_type": "execute_result",
          "data": {
            "text/plain": [
              "(1000, 17)"
            ]
          },
          "metadata": {},
          "execution_count": 3
        }
      ]
    },
    {
      "cell_type": "code",
      "execution_count": 4,
      "id": "ace677e3",
      "metadata": {
        "execution": {
          "iopub.execute_input": "2022-12-14T15:57:12.217279Z",
          "iopub.status.busy": "2022-12-14T15:57:12.216574Z",
          "iopub.status.idle": "2022-12-14T15:57:12.225867Z",
          "shell.execute_reply": "2022-12-14T15:57:12.224848Z"
        },
        "papermill": {
          "duration": 0.035898,
          "end_time": "2022-12-14T15:57:12.228365",
          "exception": false,
          "start_time": "2022-12-14T15:57:12.192467",
          "status": "completed"
        },
        "tags": [],
        "colab": {
          "base_uri": "https://localhost:8080/"
        },
        "id": "ace677e3",
        "outputId": "7adb1878-aa37-4c2d-db1a-bbeddf5ad61c"
      },
      "outputs": [
        {
          "output_type": "execute_result",
          "data": {
            "text/plain": [
              "Invoice ID                 0\n",
              "Branch                     0\n",
              "City                       0\n",
              "Customer type              0\n",
              "Gender                     0\n",
              "Product line               0\n",
              "Unit price                 0\n",
              "Quantity                   0\n",
              "Tax 5%                     0\n",
              "Total                      0\n",
              "Date                       0\n",
              "Time                       0\n",
              "Payment                    0\n",
              "cogs                       0\n",
              "gross margin percentage    0\n",
              "gross income               0\n",
              "Rating                     0\n",
              "dtype: int64"
            ]
          },
          "metadata": {},
          "execution_count": 4
        }
      ],
      "source": [
        "# checking for missing values\n",
        "\n",
        "missing_values = df.isnull().sum()\n",
        "\n",
        "missing_values"
      ]
    },
    {
      "cell_type": "code",
      "execution_count": 5,
      "id": "272e4227",
      "metadata": {
        "execution": {
          "iopub.execute_input": "2022-12-14T15:57:12.334510Z",
          "iopub.status.busy": "2022-12-14T15:57:12.334085Z",
          "iopub.status.idle": "2022-12-14T15:57:12.342040Z",
          "shell.execute_reply": "2022-12-14T15:57:12.340894Z"
        },
        "papermill": {
          "duration": 0.0346,
          "end_time": "2022-12-14T15:57:12.344354",
          "exception": false,
          "start_time": "2022-12-14T15:57:12.309754",
          "status": "completed"
        },
        "tags": [],
        "id": "272e4227",
        "outputId": "72214a87-c704-4871-bc16-59cb4d2be56e",
        "colab": {
          "base_uri": "https://localhost:8080/"
        }
      },
      "outputs": [
        {
          "output_type": "execute_result",
          "data": {
            "text/plain": [
              "Index(['Invoice ID', 'Branch', 'City', 'Customer type', 'Gender',\n",
              "       'Product line', 'Unit price', 'Quantity', 'Tax 5%', 'Total', 'Date',\n",
              "       'Time', 'Payment', 'cogs', 'gross margin percentage', 'gross income',\n",
              "       'Rating'],\n",
              "      dtype='object')"
            ]
          },
          "metadata": {},
          "execution_count": 5
        }
      ],
      "source": [
        "df.columns"
      ]
    },
    {
      "cell_type": "code",
      "execution_count": 6,
      "id": "0436964d",
      "metadata": {
        "execution": {
          "iopub.execute_input": "2022-12-14T15:57:12.275994Z",
          "iopub.status.busy": "2022-12-14T15:57:12.275573Z",
          "iopub.status.idle": "2022-12-14T15:57:12.284707Z",
          "shell.execute_reply": "2022-12-14T15:57:12.283577Z"
        },
        "papermill": {
          "duration": 0.035634,
          "end_time": "2022-12-14T15:57:12.287011",
          "exception": false,
          "start_time": "2022-12-14T15:57:12.251377",
          "status": "completed"
        },
        "tags": [],
        "colab": {
          "base_uri": "https://localhost:8080/"
        },
        "id": "0436964d",
        "outputId": "9f54295f-735e-415d-8b86-8bf532b597c1"
      },
      "outputs": [
        {
          "output_type": "execute_result",
          "data": {
            "text/plain": [
              "Invoice ID                  object\n",
              "Branch                      object\n",
              "City                        object\n",
              "Customer type               object\n",
              "Gender                      object\n",
              "Product line                object\n",
              "Unit price                 float64\n",
              "Quantity                     int64\n",
              "Tax 5%                     float64\n",
              "Total                      float64\n",
              "Date                        object\n",
              "Time                        object\n",
              "Payment                     object\n",
              "cogs                       float64\n",
              "gross margin percentage    float64\n",
              "gross income               float64\n",
              "Rating                     float64\n",
              "dtype: object"
            ]
          },
          "metadata": {},
          "execution_count": 6
        }
      ],
      "source": [
        "# dataset info\n",
        "\n",
        "df.dtypes"
      ]
    },
    {
      "cell_type": "markdown",
      "id": "a632931a",
      "metadata": {
        "papermill": {
          "duration": 0.022836,
          "end_time": "2022-12-14T15:57:12.485584",
          "exception": false,
          "start_time": "2022-12-14T15:57:12.462748",
          "status": "completed"
        },
        "tags": [],
        "id": "a632931a"
      },
      "source": [
        "#### **Exploratory Data Analysis** <a class=\"anchor\" id=\"eda\"></a>"
      ]
    },
    {
      "cell_type": "code",
      "execution_count": 7,
      "id": "ff6d9f1e",
      "metadata": {
        "execution": {
          "iopub.execute_input": "2022-12-14T15:57:12.392429Z",
          "iopub.status.busy": "2022-12-14T15:57:12.391987Z",
          "iopub.status.idle": "2022-12-14T15:57:12.437506Z",
          "shell.execute_reply": "2022-12-14T15:57:12.436562Z"
        },
        "papermill": {
          "duration": 0.072701,
          "end_time": "2022-12-14T15:57:12.439725",
          "exception": false,
          "start_time": "2022-12-14T15:57:12.367024",
          "status": "completed"
        },
        "tags": [],
        "id": "ff6d9f1e",
        "outputId": "6393a596-3c6c-40ce-954a-2288455fd702",
        "colab": {
          "base_uri": "https://localhost:8080/",
          "height": 300
        }
      },
      "outputs": [
        {
          "output_type": "execute_result",
          "data": {
            "text/plain": [
              "        Unit price     Quantity       Tax 5%        Total        cogs  \\\n",
              "count  1000.000000  1000.000000  1000.000000  1000.000000  1000.00000   \n",
              "mean     55.672130     5.510000    15.379369   322.966749   307.58738   \n",
              "std      26.494628     2.923431    11.708825   245.885335   234.17651   \n",
              "min      10.080000     1.000000     0.508500    10.678500    10.17000   \n",
              "25%      32.875000     3.000000     5.924875   124.422375   118.49750   \n",
              "50%      55.230000     5.000000    12.088000   253.848000   241.76000   \n",
              "75%      77.935000     8.000000    22.445250   471.350250   448.90500   \n",
              "max      99.960000    10.000000    49.650000  1042.650000   993.00000   \n",
              "\n",
              "       gross margin percentage  gross income      Rating  \n",
              "count              1000.000000   1000.000000  1000.00000  \n",
              "mean                  4.761905     15.379369     6.97270  \n",
              "std                   0.000000     11.708825     1.71858  \n",
              "min                   4.761905      0.508500     4.00000  \n",
              "25%                   4.761905      5.924875     5.50000  \n",
              "50%                   4.761905     12.088000     7.00000  \n",
              "75%                   4.761905     22.445250     8.50000  \n",
              "max                   4.761905     49.650000    10.00000  "
            ],
            "text/html": [
              "\n",
              "  <div id=\"df-49cf5e7d-9451-4831-a142-75f854e4af03\">\n",
              "    <div class=\"colab-df-container\">\n",
              "      <div>\n",
              "<style scoped>\n",
              "    .dataframe tbody tr th:only-of-type {\n",
              "        vertical-align: middle;\n",
              "    }\n",
              "\n",
              "    .dataframe tbody tr th {\n",
              "        vertical-align: top;\n",
              "    }\n",
              "\n",
              "    .dataframe thead th {\n",
              "        text-align: right;\n",
              "    }\n",
              "</style>\n",
              "<table border=\"1\" class=\"dataframe\">\n",
              "  <thead>\n",
              "    <tr style=\"text-align: right;\">\n",
              "      <th></th>\n",
              "      <th>Unit price</th>\n",
              "      <th>Quantity</th>\n",
              "      <th>Tax 5%</th>\n",
              "      <th>Total</th>\n",
              "      <th>cogs</th>\n",
              "      <th>gross margin percentage</th>\n",
              "      <th>gross income</th>\n",
              "      <th>Rating</th>\n",
              "    </tr>\n",
              "  </thead>\n",
              "  <tbody>\n",
              "    <tr>\n",
              "      <th>count</th>\n",
              "      <td>1000.000000</td>\n",
              "      <td>1000.000000</td>\n",
              "      <td>1000.000000</td>\n",
              "      <td>1000.000000</td>\n",
              "      <td>1000.00000</td>\n",
              "      <td>1000.000000</td>\n",
              "      <td>1000.000000</td>\n",
              "      <td>1000.00000</td>\n",
              "    </tr>\n",
              "    <tr>\n",
              "      <th>mean</th>\n",
              "      <td>55.672130</td>\n",
              "      <td>5.510000</td>\n",
              "      <td>15.379369</td>\n",
              "      <td>322.966749</td>\n",
              "      <td>307.58738</td>\n",
              "      <td>4.761905</td>\n",
              "      <td>15.379369</td>\n",
              "      <td>6.97270</td>\n",
              "    </tr>\n",
              "    <tr>\n",
              "      <th>std</th>\n",
              "      <td>26.494628</td>\n",
              "      <td>2.923431</td>\n",
              "      <td>11.708825</td>\n",
              "      <td>245.885335</td>\n",
              "      <td>234.17651</td>\n",
              "      <td>0.000000</td>\n",
              "      <td>11.708825</td>\n",
              "      <td>1.71858</td>\n",
              "    </tr>\n",
              "    <tr>\n",
              "      <th>min</th>\n",
              "      <td>10.080000</td>\n",
              "      <td>1.000000</td>\n",
              "      <td>0.508500</td>\n",
              "      <td>10.678500</td>\n",
              "      <td>10.17000</td>\n",
              "      <td>4.761905</td>\n",
              "      <td>0.508500</td>\n",
              "      <td>4.00000</td>\n",
              "    </tr>\n",
              "    <tr>\n",
              "      <th>25%</th>\n",
              "      <td>32.875000</td>\n",
              "      <td>3.000000</td>\n",
              "      <td>5.924875</td>\n",
              "      <td>124.422375</td>\n",
              "      <td>118.49750</td>\n",
              "      <td>4.761905</td>\n",
              "      <td>5.924875</td>\n",
              "      <td>5.50000</td>\n",
              "    </tr>\n",
              "    <tr>\n",
              "      <th>50%</th>\n",
              "      <td>55.230000</td>\n",
              "      <td>5.000000</td>\n",
              "      <td>12.088000</td>\n",
              "      <td>253.848000</td>\n",
              "      <td>241.76000</td>\n",
              "      <td>4.761905</td>\n",
              "      <td>12.088000</td>\n",
              "      <td>7.00000</td>\n",
              "    </tr>\n",
              "    <tr>\n",
              "      <th>75%</th>\n",
              "      <td>77.935000</td>\n",
              "      <td>8.000000</td>\n",
              "      <td>22.445250</td>\n",
              "      <td>471.350250</td>\n",
              "      <td>448.90500</td>\n",
              "      <td>4.761905</td>\n",
              "      <td>22.445250</td>\n",
              "      <td>8.50000</td>\n",
              "    </tr>\n",
              "    <tr>\n",
              "      <th>max</th>\n",
              "      <td>99.960000</td>\n",
              "      <td>10.000000</td>\n",
              "      <td>49.650000</td>\n",
              "      <td>1042.650000</td>\n",
              "      <td>993.00000</td>\n",
              "      <td>4.761905</td>\n",
              "      <td>49.650000</td>\n",
              "      <td>10.00000</td>\n",
              "    </tr>\n",
              "  </tbody>\n",
              "</table>\n",
              "</div>\n",
              "      <button class=\"colab-df-convert\" onclick=\"convertToInteractive('df-49cf5e7d-9451-4831-a142-75f854e4af03')\"\n",
              "              title=\"Convert this dataframe to an interactive table.\"\n",
              "              style=\"display:none;\">\n",
              "        \n",
              "  <svg xmlns=\"http://www.w3.org/2000/svg\" height=\"24px\"viewBox=\"0 0 24 24\"\n",
              "       width=\"24px\">\n",
              "    <path d=\"M0 0h24v24H0V0z\" fill=\"none\"/>\n",
              "    <path d=\"M18.56 5.44l.94 2.06.94-2.06 2.06-.94-2.06-.94-.94-2.06-.94 2.06-2.06.94zm-11 1L8.5 8.5l.94-2.06 2.06-.94-2.06-.94L8.5 2.5l-.94 2.06-2.06.94zm10 10l.94 2.06.94-2.06 2.06-.94-2.06-.94-.94-2.06-.94 2.06-2.06.94z\"/><path d=\"M17.41 7.96l-1.37-1.37c-.4-.4-.92-.59-1.43-.59-.52 0-1.04.2-1.43.59L10.3 9.45l-7.72 7.72c-.78.78-.78 2.05 0 2.83L4 21.41c.39.39.9.59 1.41.59.51 0 1.02-.2 1.41-.59l7.78-7.78 2.81-2.81c.8-.78.8-2.07 0-2.86zM5.41 20L4 18.59l7.72-7.72 1.47 1.35L5.41 20z\"/>\n",
              "  </svg>\n",
              "      </button>\n",
              "      \n",
              "  <style>\n",
              "    .colab-df-container {\n",
              "      display:flex;\n",
              "      flex-wrap:wrap;\n",
              "      gap: 12px;\n",
              "    }\n",
              "\n",
              "    .colab-df-convert {\n",
              "      background-color: #E8F0FE;\n",
              "      border: none;\n",
              "      border-radius: 50%;\n",
              "      cursor: pointer;\n",
              "      display: none;\n",
              "      fill: #1967D2;\n",
              "      height: 32px;\n",
              "      padding: 0 0 0 0;\n",
              "      width: 32px;\n",
              "    }\n",
              "\n",
              "    .colab-df-convert:hover {\n",
              "      background-color: #E2EBFA;\n",
              "      box-shadow: 0px 1px 2px rgba(60, 64, 67, 0.3), 0px 1px 3px 1px rgba(60, 64, 67, 0.15);\n",
              "      fill: #174EA6;\n",
              "    }\n",
              "\n",
              "    [theme=dark] .colab-df-convert {\n",
              "      background-color: #3B4455;\n",
              "      fill: #D2E3FC;\n",
              "    }\n",
              "\n",
              "    [theme=dark] .colab-df-convert:hover {\n",
              "      background-color: #434B5C;\n",
              "      box-shadow: 0px 1px 3px 1px rgba(0, 0, 0, 0.15);\n",
              "      filter: drop-shadow(0px 1px 2px rgba(0, 0, 0, 0.3));\n",
              "      fill: #FFFFFF;\n",
              "    }\n",
              "  </style>\n",
              "\n",
              "      <script>\n",
              "        const buttonEl =\n",
              "          document.querySelector('#df-49cf5e7d-9451-4831-a142-75f854e4af03 button.colab-df-convert');\n",
              "        buttonEl.style.display =\n",
              "          google.colab.kernel.accessAllowed ? 'block' : 'none';\n",
              "\n",
              "        async function convertToInteractive(key) {\n",
              "          const element = document.querySelector('#df-49cf5e7d-9451-4831-a142-75f854e4af03');\n",
              "          const dataTable =\n",
              "            await google.colab.kernel.invokeFunction('convertToInteractive',\n",
              "                                                     [key], {});\n",
              "          if (!dataTable) return;\n",
              "\n",
              "          const docLinkHtml = 'Like what you see? Visit the ' +\n",
              "            '<a target=\"_blank\" href=https://colab.research.google.com/notebooks/data_table.ipynb>data table notebook</a>'\n",
              "            + ' to learn more about interactive tables.';\n",
              "          element.innerHTML = '';\n",
              "          dataTable['output_type'] = 'display_data';\n",
              "          await google.colab.output.renderOutput(dataTable, element);\n",
              "          const docLink = document.createElement('div');\n",
              "          docLink.innerHTML = docLinkHtml;\n",
              "          element.appendChild(docLink);\n",
              "        }\n",
              "      </script>\n",
              "    </div>\n",
              "  </div>\n",
              "  "
            ]
          },
          "metadata": {},
          "execution_count": 7
        }
      ],
      "source": [
        "# quick statistical summary\n",
        "\n",
        "df.describe()"
      ]
    },
    {
      "cell_type": "code",
      "source": [
        "df.corr()"
      ],
      "metadata": {
        "colab": {
          "base_uri": "https://localhost:8080/",
          "height": 300
        },
        "id": "JL9UIKkxt-O6",
        "outputId": "35b8356e-6ea1-4bf0-ade8-452a0b82884b"
      },
      "id": "JL9UIKkxt-O6",
      "execution_count": 8,
      "outputs": [
        {
          "output_type": "execute_result",
          "data": {
            "text/plain": [
              "                         Unit price  Quantity    Tax 5%     Total      cogs  \\\n",
              "Unit price                 1.000000  0.010778  0.633962  0.633962  0.633962   \n",
              "Quantity                   0.010778  1.000000  0.705510  0.705510  0.705510   \n",
              "Tax 5%                     0.633962  0.705510  1.000000  1.000000  1.000000   \n",
              "Total                      0.633962  0.705510  1.000000  1.000000  1.000000   \n",
              "cogs                       0.633962  0.705510  1.000000  1.000000  1.000000   \n",
              "gross margin percentage         NaN       NaN       NaN       NaN       NaN   \n",
              "gross income               0.633962  0.705510  1.000000  1.000000  1.000000   \n",
              "Rating                    -0.008778 -0.015815 -0.036442 -0.036442 -0.036442   \n",
              "\n",
              "                         gross margin percentage  gross income    Rating  \n",
              "Unit price                                   NaN      0.633962 -0.008778  \n",
              "Quantity                                     NaN      0.705510 -0.015815  \n",
              "Tax 5%                                       NaN      1.000000 -0.036442  \n",
              "Total                                        NaN      1.000000 -0.036442  \n",
              "cogs                                         NaN      1.000000 -0.036442  \n",
              "gross margin percentage                      NaN           NaN       NaN  \n",
              "gross income                                 NaN      1.000000 -0.036442  \n",
              "Rating                                       NaN     -0.036442  1.000000  "
            ],
            "text/html": [
              "\n",
              "  <div id=\"df-44a31a17-1161-4cbd-b6f9-30eb7a75447e\">\n",
              "    <div class=\"colab-df-container\">\n",
              "      <div>\n",
              "<style scoped>\n",
              "    .dataframe tbody tr th:only-of-type {\n",
              "        vertical-align: middle;\n",
              "    }\n",
              "\n",
              "    .dataframe tbody tr th {\n",
              "        vertical-align: top;\n",
              "    }\n",
              "\n",
              "    .dataframe thead th {\n",
              "        text-align: right;\n",
              "    }\n",
              "</style>\n",
              "<table border=\"1\" class=\"dataframe\">\n",
              "  <thead>\n",
              "    <tr style=\"text-align: right;\">\n",
              "      <th></th>\n",
              "      <th>Unit price</th>\n",
              "      <th>Quantity</th>\n",
              "      <th>Tax 5%</th>\n",
              "      <th>Total</th>\n",
              "      <th>cogs</th>\n",
              "      <th>gross margin percentage</th>\n",
              "      <th>gross income</th>\n",
              "      <th>Rating</th>\n",
              "    </tr>\n",
              "  </thead>\n",
              "  <tbody>\n",
              "    <tr>\n",
              "      <th>Unit price</th>\n",
              "      <td>1.000000</td>\n",
              "      <td>0.010778</td>\n",
              "      <td>0.633962</td>\n",
              "      <td>0.633962</td>\n",
              "      <td>0.633962</td>\n",
              "      <td>NaN</td>\n",
              "      <td>0.633962</td>\n",
              "      <td>-0.008778</td>\n",
              "    </tr>\n",
              "    <tr>\n",
              "      <th>Quantity</th>\n",
              "      <td>0.010778</td>\n",
              "      <td>1.000000</td>\n",
              "      <td>0.705510</td>\n",
              "      <td>0.705510</td>\n",
              "      <td>0.705510</td>\n",
              "      <td>NaN</td>\n",
              "      <td>0.705510</td>\n",
              "      <td>-0.015815</td>\n",
              "    </tr>\n",
              "    <tr>\n",
              "      <th>Tax 5%</th>\n",
              "      <td>0.633962</td>\n",
              "      <td>0.705510</td>\n",
              "      <td>1.000000</td>\n",
              "      <td>1.000000</td>\n",
              "      <td>1.000000</td>\n",
              "      <td>NaN</td>\n",
              "      <td>1.000000</td>\n",
              "      <td>-0.036442</td>\n",
              "    </tr>\n",
              "    <tr>\n",
              "      <th>Total</th>\n",
              "      <td>0.633962</td>\n",
              "      <td>0.705510</td>\n",
              "      <td>1.000000</td>\n",
              "      <td>1.000000</td>\n",
              "      <td>1.000000</td>\n",
              "      <td>NaN</td>\n",
              "      <td>1.000000</td>\n",
              "      <td>-0.036442</td>\n",
              "    </tr>\n",
              "    <tr>\n",
              "      <th>cogs</th>\n",
              "      <td>0.633962</td>\n",
              "      <td>0.705510</td>\n",
              "      <td>1.000000</td>\n",
              "      <td>1.000000</td>\n",
              "      <td>1.000000</td>\n",
              "      <td>NaN</td>\n",
              "      <td>1.000000</td>\n",
              "      <td>-0.036442</td>\n",
              "    </tr>\n",
              "    <tr>\n",
              "      <th>gross margin percentage</th>\n",
              "      <td>NaN</td>\n",
              "      <td>NaN</td>\n",
              "      <td>NaN</td>\n",
              "      <td>NaN</td>\n",
              "      <td>NaN</td>\n",
              "      <td>NaN</td>\n",
              "      <td>NaN</td>\n",
              "      <td>NaN</td>\n",
              "    </tr>\n",
              "    <tr>\n",
              "      <th>gross income</th>\n",
              "      <td>0.633962</td>\n",
              "      <td>0.705510</td>\n",
              "      <td>1.000000</td>\n",
              "      <td>1.000000</td>\n",
              "      <td>1.000000</td>\n",
              "      <td>NaN</td>\n",
              "      <td>1.000000</td>\n",
              "      <td>-0.036442</td>\n",
              "    </tr>\n",
              "    <tr>\n",
              "      <th>Rating</th>\n",
              "      <td>-0.008778</td>\n",
              "      <td>-0.015815</td>\n",
              "      <td>-0.036442</td>\n",
              "      <td>-0.036442</td>\n",
              "      <td>-0.036442</td>\n",
              "      <td>NaN</td>\n",
              "      <td>-0.036442</td>\n",
              "      <td>1.000000</td>\n",
              "    </tr>\n",
              "  </tbody>\n",
              "</table>\n",
              "</div>\n",
              "      <button class=\"colab-df-convert\" onclick=\"convertToInteractive('df-44a31a17-1161-4cbd-b6f9-30eb7a75447e')\"\n",
              "              title=\"Convert this dataframe to an interactive table.\"\n",
              "              style=\"display:none;\">\n",
              "        \n",
              "  <svg xmlns=\"http://www.w3.org/2000/svg\" height=\"24px\"viewBox=\"0 0 24 24\"\n",
              "       width=\"24px\">\n",
              "    <path d=\"M0 0h24v24H0V0z\" fill=\"none\"/>\n",
              "    <path d=\"M18.56 5.44l.94 2.06.94-2.06 2.06-.94-2.06-.94-.94-2.06-.94 2.06-2.06.94zm-11 1L8.5 8.5l.94-2.06 2.06-.94-2.06-.94L8.5 2.5l-.94 2.06-2.06.94zm10 10l.94 2.06.94-2.06 2.06-.94-2.06-.94-.94-2.06-.94 2.06-2.06.94z\"/><path d=\"M17.41 7.96l-1.37-1.37c-.4-.4-.92-.59-1.43-.59-.52 0-1.04.2-1.43.59L10.3 9.45l-7.72 7.72c-.78.78-.78 2.05 0 2.83L4 21.41c.39.39.9.59 1.41.59.51 0 1.02-.2 1.41-.59l7.78-7.78 2.81-2.81c.8-.78.8-2.07 0-2.86zM5.41 20L4 18.59l7.72-7.72 1.47 1.35L5.41 20z\"/>\n",
              "  </svg>\n",
              "      </button>\n",
              "      \n",
              "  <style>\n",
              "    .colab-df-container {\n",
              "      display:flex;\n",
              "      flex-wrap:wrap;\n",
              "      gap: 12px;\n",
              "    }\n",
              "\n",
              "    .colab-df-convert {\n",
              "      background-color: #E8F0FE;\n",
              "      border: none;\n",
              "      border-radius: 50%;\n",
              "      cursor: pointer;\n",
              "      display: none;\n",
              "      fill: #1967D2;\n",
              "      height: 32px;\n",
              "      padding: 0 0 0 0;\n",
              "      width: 32px;\n",
              "    }\n",
              "\n",
              "    .colab-df-convert:hover {\n",
              "      background-color: #E2EBFA;\n",
              "      box-shadow: 0px 1px 2px rgba(60, 64, 67, 0.3), 0px 1px 3px 1px rgba(60, 64, 67, 0.15);\n",
              "      fill: #174EA6;\n",
              "    }\n",
              "\n",
              "    [theme=dark] .colab-df-convert {\n",
              "      background-color: #3B4455;\n",
              "      fill: #D2E3FC;\n",
              "    }\n",
              "\n",
              "    [theme=dark] .colab-df-convert:hover {\n",
              "      background-color: #434B5C;\n",
              "      box-shadow: 0px 1px 3px 1px rgba(0, 0, 0, 0.15);\n",
              "      filter: drop-shadow(0px 1px 2px rgba(0, 0, 0, 0.3));\n",
              "      fill: #FFFFFF;\n",
              "    }\n",
              "  </style>\n",
              "\n",
              "      <script>\n",
              "        const buttonEl =\n",
              "          document.querySelector('#df-44a31a17-1161-4cbd-b6f9-30eb7a75447e button.colab-df-convert');\n",
              "        buttonEl.style.display =\n",
              "          google.colab.kernel.accessAllowed ? 'block' : 'none';\n",
              "\n",
              "        async function convertToInteractive(key) {\n",
              "          const element = document.querySelector('#df-44a31a17-1161-4cbd-b6f9-30eb7a75447e');\n",
              "          const dataTable =\n",
              "            await google.colab.kernel.invokeFunction('convertToInteractive',\n",
              "                                                     [key], {});\n",
              "          if (!dataTable) return;\n",
              "\n",
              "          const docLinkHtml = 'Like what you see? Visit the ' +\n",
              "            '<a target=\"_blank\" href=https://colab.research.google.com/notebooks/data_table.ipynb>data table notebook</a>'\n",
              "            + ' to learn more about interactive tables.';\n",
              "          element.innerHTML = '';\n",
              "          dataTable['output_type'] = 'display_data';\n",
              "          await google.colab.output.renderOutput(dataTable, element);\n",
              "          const docLink = document.createElement('div');\n",
              "          docLink.innerHTML = docLinkHtml;\n",
              "          element.appendChild(docLink);\n",
              "        }\n",
              "      </script>\n",
              "    </div>\n",
              "  </div>\n",
              "  "
            ]
          },
          "metadata": {},
          "execution_count": 8
        }
      ]
    },
    {
      "cell_type": "markdown",
      "id": "ec52d5ba",
      "metadata": {
        "papermill": {
          "duration": 0.022773,
          "end_time": "2022-12-14T15:57:12.531632",
          "exception": false,
          "start_time": "2022-12-14T15:57:12.508859",
          "status": "completed"
        },
        "tags": [],
        "id": "ec52d5ba"
      },
      "source": [
        "**1. What is the average total amount spent by each customer type and gender**"
      ]
    },
    {
      "cell_type": "code",
      "source": [
        "df['Customer type'].unique()"
      ],
      "metadata": {
        "colab": {
          "base_uri": "https://localhost:8080/"
        },
        "id": "DhqDCjAzjDSh",
        "outputId": "ded041a8-f61c-4bc5-f0b0-172baf13140a"
      },
      "id": "DhqDCjAzjDSh",
      "execution_count": 9,
      "outputs": [
        {
          "output_type": "execute_result",
          "data": {
            "text/plain": [
              "array(['Member', 'Normal'], dtype=object)"
            ]
          },
          "metadata": {},
          "execution_count": 9
        }
      ]
    },
    {
      "cell_type": "code",
      "source": [
        "df['Total']"
      ],
      "metadata": {
        "colab": {
          "base_uri": "https://localhost:8080/"
        },
        "id": "MmogzxE8jH8O",
        "outputId": "cbe17237-f55f-4189-99c7-680b36fb1ff7"
      },
      "id": "MmogzxE8jH8O",
      "execution_count": 10,
      "outputs": [
        {
          "output_type": "execute_result",
          "data": {
            "text/plain": [
              "0       548.9715\n",
              "1        80.2200\n",
              "2       340.5255\n",
              "3       489.0480\n",
              "4       634.3785\n",
              "         ...    \n",
              "995      42.3675\n",
              "996    1022.4900\n",
              "997      33.4320\n",
              "998      69.1110\n",
              "999     649.2990\n",
              "Name: Total, Length: 1000, dtype: float64"
            ]
          },
          "metadata": {},
          "execution_count": 10
        }
      ]
    },
    {
      "cell_type": "code",
      "execution_count": 11,
      "id": "453c1816",
      "metadata": {
        "execution": {
          "iopub.execute_input": "2022-12-14T15:57:12.580688Z",
          "iopub.status.busy": "2022-12-14T15:57:12.580027Z",
          "iopub.status.idle": "2022-12-14T15:57:12.841250Z",
          "shell.execute_reply": "2022-12-14T15:57:12.840420Z"
        },
        "papermill": {
          "duration": 0.288952,
          "end_time": "2022-12-14T15:57:12.843680",
          "exception": false,
          "start_time": "2022-12-14T15:57:12.554728",
          "status": "completed"
        },
        "tags": [],
        "id": "453c1816",
        "outputId": "9b918f27-488d-4892-c79d-0ff6e59ddb7b",
        "colab": {
          "base_uri": "https://localhost:8080/",
          "height": 413
        }
      },
      "outputs": [
        {
          "output_type": "stream",
          "name": "stdout",
          "text": [
            "Customer type\n",
            "Member    327.791305\n",
            "Normal    318.122856\n",
            "Name: Total, dtype: float64\n"
          ]
        },
        {
          "output_type": "execute_result",
          "data": {
            "text/plain": [
              "<matplotlib.axes._subplots.AxesSubplot at 0x7f3262efe9a0>"
            ]
          },
          "metadata": {},
          "execution_count": 11
        },
        {
          "output_type": "display_data",
          "data": {
            "text/plain": [
              "<Figure size 432x288 with 1 Axes>"
            ],
            "image/png": "[encoded data removed]"
          },
          "metadata": {
            "needs_background": "light"
          }
        }
      ],
      "source": [
        "# group the data by customer type and calculate the average total amount spent by each type\n",
        "\n",
        "df_customer_type = df.groupby('Customer type')['Total'].mean()\n",
        "print(df_customer_type)\n",
        "\n",
        "# visualize the df_customer_type\n",
        "df_customer_type.plot(kind='bar', title = 'Average Total Amount Spent By Customer type ')"
      ]
    },
    {
      "cell_type": "code",
      "execution_count": 12,
      "id": "31ce105a",
      "metadata": {
        "execution": {
          "iopub.execute_input": "2022-12-14T15:57:12.893190Z",
          "iopub.status.busy": "2022-12-14T15:57:12.892696Z",
          "iopub.status.idle": "2022-12-14T15:57:13.130259Z",
          "shell.execute_reply": "2022-12-14T15:57:13.128805Z"
        },
        "papermill": {
          "duration": 0.266987,
          "end_time": "2022-12-14T15:57:13.134267",
          "exception": false,
          "start_time": "2022-12-14T15:57:12.867280",
          "status": "completed"
        },
        "tags": [],
        "id": "31ce105a",
        "outputId": "ce63e3f6-d09a-4860-e39c-55d8fea26c59",
        "colab": {
          "base_uri": "https://localhost:8080/",
          "height": 408
        }
      },
      "outputs": [
        {
          "output_type": "stream",
          "name": "stdout",
          "text": [
            "Gender\n",
            "Female    335.095659\n",
            "Male      310.789226\n",
            "Name: Total, dtype: float64\n"
          ]
        },
        {
          "output_type": "execute_result",
          "data": {
            "text/plain": [
              "<matplotlib.axes._subplots.AxesSubplot at 0x7f3262e32820>"
            ]
          },
          "metadata": {},
          "execution_count": 12
        },
        {
          "output_type": "display_data",
          "data": {
            "text/plain": [
              "<Figure size 432x288 with 1 Axes>"
            ],
            "image/png": "[encoded data removed]"
          },
          "metadata": {
            "needs_background": "light"
          }
        }
      ],
      "source": [
        "# group the data by customer type and calculate the average total amount spent by each type\n",
        "\n",
        "df_genderr = df.groupby('Gender')['Total'].mean()\n",
        "print(df_genderr)\n",
        "\n",
        "# visualize the df_customer_type\n",
        "df_genderr.plot(kind='bar', title = 'Average Total Amount Spent By Gender')"
      ]
    },
    {
      "cell_type": "markdown",
      "id": "937fc5ef",
      "metadata": {
        "papermill": {
          "duration": 0.023852,
          "end_time": "2022-12-14T15:57:13.182966",
          "exception": false,
          "start_time": "2022-12-14T15:57:13.159114",
          "status": "completed"
        },
        "tags": [],
        "id": "937fc5ef"
      },
      "source": [
        "**2. What is the total sales for each gender and product line combination?**"
      ]
    },
    {
      "cell_type": "code",
      "execution_count": 13,
      "id": "db606ed8",
      "metadata": {
        "execution": {
          "iopub.execute_input": "2022-12-14T15:57:13.233971Z",
          "iopub.status.busy": "2022-12-14T15:57:13.233179Z",
          "iopub.status.idle": "2022-12-14T15:57:13.559490Z",
          "shell.execute_reply": "2022-12-14T15:57:13.557979Z"
        },
        "papermill": {
          "duration": 0.354919,
          "end_time": "2022-12-14T15:57:13.562218",
          "exception": false,
          "start_time": "2022-12-14T15:57:13.207299",
          "status": "completed"
        },
        "tags": [],
        "id": "db606ed8",
        "outputId": "060aa124-e4b1-4a9b-9e49-b1050979c536",
        "colab": {
          "base_uri": "https://localhost:8080/",
          "height": 405
        }
      },
      "outputs": [
        {
          "output_type": "execute_result",
          "data": {
            "text/plain": [
              "<matplotlib.axes._subplots.AxesSubplot at 0x7f326294dcd0>"
            ]
          },
          "metadata": {},
          "execution_count": 13
        },
        {
          "output_type": "display_data",
          "data": {
            "text/plain": [
              "<Figure size 792x432 with 1 Axes>"
            ],
            "image/png": "[encoded data removed]"
          },
          "metadata": {
            "needs_background": "light"
          }
        }
      ],
      "source": [
        "# let's visualize gender, product line vs total first\n",
        "\n",
        "plt.figure(figsize=(11,6))\n",
        "sns.barplot(x='Product line', y = 'Total', hue = 'Gender', data = df, estimator = sum, ci = None)"
      ]
    },
    {
      "cell_type": "code",
      "source": [
        "df['Product line'].unique()"
      ],
      "metadata": {
        "colab": {
          "base_uri": "https://localhost:8080/"
        },
        "id": "IrtrIGWkoaMY",
        "outputId": "eca193a6-9f10-4253-e4ab-721ab158b543"
      },
      "id": "IrtrIGWkoaMY",
      "execution_count": 14,
      "outputs": [
        {
          "output_type": "execute_result",
          "data": {
            "text/plain": [
              "array(['Health and beauty', 'Electronic accessories',\n",
              "       'Home and lifestyle', 'Sports and travel', 'Food and beverages',\n",
              "       'Fashion accessories'], dtype=object)"
            ]
          },
          "metadata": {},
          "execution_count": 14
        }
      ]
    },
    {
      "cell_type": "code",
      "execution_count": 15,
      "id": "a8dafee7",
      "metadata": {
        "execution": {
          "iopub.execute_input": "2022-12-14T15:57:13.613001Z",
          "iopub.status.busy": "2022-12-14T15:57:13.612525Z",
          "iopub.status.idle": "2022-12-14T15:57:13.940390Z",
          "shell.execute_reply": "2022-12-14T15:57:13.938922Z"
        },
        "papermill": {
          "duration": 0.356871,
          "end_time": "2022-12-14T15:57:13.943654",
          "exception": false,
          "start_time": "2022-12-14T15:57:13.586783",
          "status": "completed"
        },
        "tags": [],
        "id": "a8dafee7",
        "outputId": "ec165fef-685f-4f30-ef98-6440d59f37de",
        "colab": {
          "base_uri": "https://localhost:8080/",
          "height": 706
        }
      },
      "outputs": [
        {
          "output_type": "stream",
          "name": "stdout",
          "text": [
            "Gender  Product line          \n",
            "Female  Electronic accessories    27102.0225\n",
            "        Fashion accessories       30437.4000\n",
            "        Food and beverages        33170.9175\n",
            "        Health and beauty         18560.9865\n",
            "        Home and lifestyle        30036.8775\n",
            "        Sports and travel         28574.7210\n",
            "Male    Electronic accessories    27235.5090\n",
            "        Fashion accessories       23868.4950\n",
            "        Food and beverages        22973.9265\n",
            "        Health and beauty         30632.7525\n",
            "        Home and lifestyle        23825.0355\n",
            "        Sports and travel         26548.1055\n",
            "Name: Total, dtype: float64\n"
          ]
        },
        {
          "output_type": "execute_result",
          "data": {
            "text/plain": [
              "<matplotlib.axes._subplots.AxesSubplot at 0x7f32628fe430>"
            ]
          },
          "metadata": {},
          "execution_count": 15
        },
        {
          "output_type": "display_data",
          "data": {
            "text/plain": [
              "<Figure size 432x288 with 1 Axes>"
            ],
            "image/png": "[encoded data removed]"
          },
          "metadata": {
            "needs_background": "light"
          }
        }
      ],
      "source": [
        "# group the data by gender and product line and calculate the total sales for each group\n",
        "\n",
        "df_gender_product_line = df.groupby(['Gender', 'Product line'])['Total'].sum()\n",
        "print(df_gender_product_line)\n",
        "\n",
        "# visualize the total sales for each group of gender and product line\n",
        "df_gender_product_line.plot(kind='bar', title = 'Total Sales for each Group of Gender and Product Line')"
      ]
    },
    {
      "cell_type": "markdown",
      "id": "a8b2e242",
      "metadata": {
        "papermill": {
          "duration": 0.025473,
          "end_time": "2022-12-14T15:57:13.994750",
          "exception": false,
          "start_time": "2022-12-14T15:57:13.969277",
          "status": "completed"
        },
        "tags": [],
        "id": "a8b2e242"
      },
      "source": [
        "**3. What is the average unit price for each product line?**"
      ]
    },
    {
      "cell_type": "code",
      "execution_count": 16,
      "id": "4870ac08",
      "metadata": {
        "execution": {
          "iopub.execute_input": "2022-12-14T15:57:14.050043Z",
          "iopub.status.busy": "2022-12-14T15:57:14.049563Z",
          "iopub.status.idle": "2022-12-14T15:57:14.249888Z",
          "shell.execute_reply": "2022-12-14T15:57:14.248926Z"
        },
        "papermill": {
          "duration": 0.229295,
          "end_time": "2022-12-14T15:57:14.252065",
          "exception": false,
          "start_time": "2022-12-14T15:57:14.022770",
          "status": "completed"
        },
        "tags": [],
        "id": "4870ac08",
        "outputId": "1fe463ad-c643-4841-8811-fd538c26969c",
        "colab": {
          "base_uri": "https://localhost:8080/",
          "height": 552
        }
      },
      "outputs": [
        {
          "output_type": "stream",
          "name": "stdout",
          "text": [
            "Product line\n",
            "Electronic accessories    53.551588\n",
            "Fashion accessories       57.153652\n",
            "Food and beverages        56.008851\n",
            "Health and beauty         54.854474\n",
            "Home and lifestyle        55.316937\n",
            "Sports and travel         56.993253\n",
            "Name: Unit price, dtype: float64\n"
          ]
        },
        {
          "output_type": "execute_result",
          "data": {
            "text/plain": [
              "<matplotlib.axes._subplots.AxesSubplot at 0x7f3262880af0>"
            ]
          },
          "metadata": {},
          "execution_count": 16
        },
        {
          "output_type": "display_data",
          "data": {
            "text/plain": [
              "<Figure size 432x288 with 1 Axes>"
            ],
            "image/png": "[encoded data removed]"
          },
          "metadata": {
            "needs_background": "light"
          }
        }
      ],
      "source": [
        "# calculate the average unit price for each product line\n",
        "\n",
        "df_product_line_price = df.groupby('Product line')['Unit price'].mean()\n",
        "print(df_product_line_price)\n",
        "\n",
        "# visualize the average unit price for each product line\n",
        "df_product_line_price.plot(kind='bar', title = 'Average Unit Price For Each Product Line')"
      ]
    },
    {
      "cell_type": "markdown",
      "id": "9021571c",
      "metadata": {
        "papermill": {
          "duration": 0.024688,
          "end_time": "2022-12-14T15:57:14.301781",
          "exception": false,
          "start_time": "2022-12-14T15:57:14.277093",
          "status": "completed"
        },
        "tags": [],
        "id": "9021571c"
      },
      "source": [
        "**4. What is the overall gross margin percentage?**"
      ]
    },
    {
      "cell_type": "code",
      "execution_count": 17,
      "id": "b283608c",
      "metadata": {
        "execution": {
          "iopub.execute_input": "2022-12-14T15:57:14.355831Z",
          "iopub.status.busy": "2022-12-14T15:57:14.354537Z",
          "iopub.status.idle": "2022-12-14T15:57:14.365537Z",
          "shell.execute_reply": "2022-12-14T15:57:14.363506Z"
        },
        "papermill": {
          "duration": 0.041877,
          "end_time": "2022-12-14T15:57:14.369397",
          "exception": false,
          "start_time": "2022-12-14T15:57:14.327520",
          "status": "completed"
        },
        "tags": [],
        "id": "b283608c",
        "outputId": "e6bd50f8-467b-4784-b869-b7e9237afb7f",
        "colab": {
          "base_uri": "https://localhost:8080/"
        }
      },
      "outputs": [
        {
          "output_type": "stream",
          "name": "stdout",
          "text": [
            "0.04761904761904762\n"
          ]
        }
      ],
      "source": [
        "# calculate the overall gross margin percentage\n",
        "\n",
        "df['gross_margin'] = (df['Total'] - df['cogs']) / df['Total']\n",
        "overall_gross_margin = df['gross_margin'].mean()\n",
        "\n",
        "print(overall_gross_margin)\n"
      ]
    },
    {
      "cell_type": "markdown",
      "id": "9392c64c",
      "metadata": {
        "papermill": {
          "duration": 0.024633,
          "end_time": "2022-12-14T15:57:14.419844",
          "exception": false,
          "start_time": "2022-12-14T15:57:14.395211",
          "status": "completed"
        },
        "tags": [],
        "id": "9392c64c"
      },
      "source": [
        "A gross margin of **0.047** means that out of the total revenue, only **4.76%** is left after accounting for the COGS. This indicates a low level of profitability for the Supermarket. To improve the profitability, the business can try to reduce the COGS or increase the revenue."
      ]
    },
    {
      "cell_type": "markdown",
      "id": "2d515181",
      "metadata": {
        "papermill": {
          "duration": 0.024622,
          "end_time": "2022-12-14T15:57:14.469431",
          "exception": false,
          "start_time": "2022-12-14T15:57:14.444809",
          "status": "completed"
        },
        "tags": [],
        "id": "2d515181"
      },
      "source": [
        "**5. Which cities are the biggest contributors to the overall sales?**"
      ]
    },
    {
      "cell_type": "code",
      "source": [
        "df['City'].unique()"
      ],
      "metadata": {
        "colab": {
          "base_uri": "https://localhost:8080/"
        },
        "id": "7xS10Wpa5Eqd",
        "outputId": "19dada7b-9e1e-4338-9da2-2fc62065f156"
      },
      "id": "7xS10Wpa5Eqd",
      "execution_count": 18,
      "outputs": [
        {
          "output_type": "execute_result",
          "data": {
            "text/plain": [
              "array(['Yangon', 'Naypyitaw', 'Mandalay'], dtype=object)"
            ]
          },
          "metadata": {},
          "execution_count": 18
        }
      ]
    },
    {
      "cell_type": "code",
      "execution_count": 19,
      "id": "97e764c3",
      "metadata": {
        "execution": {
          "iopub.execute_input": "2022-12-14T15:57:14.522307Z",
          "iopub.status.busy": "2022-12-14T15:57:14.521320Z",
          "iopub.status.idle": "2022-12-14T15:57:14.653059Z",
          "shell.execute_reply": "2022-12-14T15:57:14.652178Z"
        },
        "papermill": {
          "duration": 0.163249,
          "end_time": "2022-12-14T15:57:14.657790",
          "exception": false,
          "start_time": "2022-12-14T15:57:14.494541",
          "status": "completed"
        },
        "tags": [],
        "id": "97e764c3",
        "outputId": "7c3d5d5a-299e-4a90-fcad-d9a6a824da68",
        "colab": {
          "base_uri": "https://localhost:8080/",
          "height": 447
        }
      },
      "outputs": [
        {
          "output_type": "display_data",
          "data": {
            "text/plain": [
              "<Figure size 792x432 with 1 Axes>"
            ],
            "image/png": "[encoded data removed]"
          },
          "metadata": {
            "needs_background": "light"
          }
        }
      ],
      "source": [
        "# import the pyplot library from matplotlib\n",
        "import matplotlib.pyplot as plt\n",
        "plt.figure(figsize=(11,6))\n",
        "# calculate the total sales for each city\n",
        "df_city_sales = df.groupby('City')['Total'].sum()\n",
        "\n",
        "# create a bar chart to visualize the total sales for each city\n",
        "df_city_sales.plot(kind='bar')\n",
        "# add title and labels to the plot\n",
        "plt.title('Total Sales by City')\n",
        "plt.xlabel('City')\n",
        "plt.ylabel('Total Sales')\n",
        "\n",
        "# show the plot\n",
        "plt.show()\n"
      ]
    },
    {
      "cell_type": "markdown",
      "id": "5f7f1a28",
      "metadata": {
        "papermill": {
          "duration": 0.026111,
          "end_time": "2022-12-14T15:57:14.720019",
          "exception": false,
          "start_time": "2022-12-14T15:57:14.693908",
          "status": "completed"
        },
        "tags": [],
        "id": "5f7f1a28"
      },
      "source": [
        "**6. Which product lines are the most popular among customers?**"
      ]
    },
    {
      "cell_type": "code",
      "execution_count": 20,
      "id": "ab690768",
      "metadata": {
        "execution": {
          "iopub.execute_input": "2022-12-14T15:57:14.773428Z",
          "iopub.status.busy": "2022-12-14T15:57:14.772642Z",
          "iopub.status.idle": "2022-12-14T15:57:14.934189Z",
          "shell.execute_reply": "2022-12-14T15:57:14.932448Z"
        },
        "papermill": {
          "duration": 0.193139,
          "end_time": "2022-12-14T15:57:14.938678",
          "exception": false,
          "start_time": "2022-12-14T15:57:14.745539",
          "status": "completed"
        },
        "tags": [],
        "id": "ab690768",
        "outputId": "5c092a04-3eaf-4383-9ffa-4d2f02a8f240",
        "colab": {
          "base_uri": "https://localhost:8080/",
          "height": 264
        }
      },
      "outputs": [
        {
          "output_type": "display_data",
          "data": {
            "text/plain": [
              "<Figure size 432x288 with 1 Axes>"
            ],
            "image/png": "[encoded data removed]"
          },
          "metadata": {}
        }
      ],
      "source": [
        "# create a pie chart to visualize the distribution of sales across different product lines\n",
        "\n",
        "df.groupby('Product line')['Total'].sum().plot(kind='pie')\n",
        "\n",
        "# add title and labels to the plot\n",
        "plt.title('Sales by Product Line')\n",
        "\n",
        "# show the plot\n",
        "plt.show()\n"
      ]
    },
    {
      "cell_type": "markdown",
      "id": "76cddab7",
      "metadata": {
        "papermill": {
          "duration": 0.026265,
          "end_time": "2022-12-14T15:57:15.020055",
          "exception": false,
          "start_time": "2022-12-14T15:57:14.993790",
          "status": "completed"
        },
        "tags": [],
        "id": "76cddab7"
      },
      "source": [
        "**7. What is the relationship between the unit price and the quantity of each product?**"
      ]
    },
    {
      "cell_type": "code",
      "execution_count": 21,
      "id": "bd8a5a30",
      "metadata": {
        "execution": {
          "iopub.execute_input": "2022-12-14T15:57:15.077308Z",
          "iopub.status.busy": "2022-12-14T15:57:15.076491Z",
          "iopub.status.idle": "2022-12-14T15:57:15.293777Z",
          "shell.execute_reply": "2022-12-14T15:57:15.292175Z"
        },
        "papermill": {
          "duration": 0.249996,
          "end_time": "2022-12-14T15:57:15.296708",
          "exception": false,
          "start_time": "2022-12-14T15:57:15.046712",
          "status": "completed"
        },
        "tags": [],
        "id": "bd8a5a30",
        "outputId": "0dd1d63d-a78e-4c06-e821-78bc7bc6d469",
        "colab": {
          "base_uri": "https://localhost:8080/",
          "height": 390
        }
      },
      "outputs": [
        {
          "output_type": "display_data",
          "data": {
            "text/plain": [
              "<Figure size 432x288 with 1 Axes>"
            ],
            "image/png": "[encoded data removed]"
          },
          "metadata": {
            "needs_background": "light"
          }
        },
        {
          "output_type": "execute_result",
          "data": {
            "text/plain": [
              "            Unit price  Quantity\n",
              "Unit price    1.000000  0.010778\n",
              "Quantity      0.010778  1.000000"
            ],
            "text/html": [
              "\n",
              "  <div id=\"df-7af26e04-d4ff-444c-84a8-f86988af20a5\">\n",
              "    <div class=\"colab-df-container\">\n",
              "      <div>\n",
              "<style scoped>\n",
              "    .dataframe tbody tr th:only-of-type {\n",
              "        vertical-align: middle;\n",
              "    }\n",
              "\n",
              "    .dataframe tbody tr th {\n",
              "        vertical-align: top;\n",
              "    }\n",
              "\n",
              "    .dataframe thead th {\n",
              "        text-align: right;\n",
              "    }\n",
              "</style>\n",
              "<table border=\"1\" class=\"dataframe\">\n",
              "  <thead>\n",
              "    <tr style=\"text-align: right;\">\n",
              "      <th></th>\n",
              "      <th>Unit price</th>\n",
              "      <th>Quantity</th>\n",
              "    </tr>\n",
              "  </thead>\n",
              "  <tbody>\n",
              "    <tr>\n",
              "      <th>Unit price</th>\n",
              "      <td>1.000000</td>\n",
              "      <td>0.010778</td>\n",
              "    </tr>\n",
              "    <tr>\n",
              "      <th>Quantity</th>\n",
              "      <td>0.010778</td>\n",
              "      <td>1.000000</td>\n",
              "    </tr>\n",
              "  </tbody>\n",
              "</table>\n",
              "</div>\n",
              "      <button class=\"colab-df-convert\" onclick=\"convertToInteractive('df-7af26e04-d4ff-444c-84a8-f86988af20a5')\"\n",
              "              title=\"Convert this dataframe to an interactive table.\"\n",
              "              style=\"display:none;\">\n",
              "        \n",
              "  <svg xmlns=\"http://www.w3.org/2000/svg\" height=\"24px\"viewBox=\"0 0 24 24\"\n",
              "       width=\"24px\">\n",
              "    <path d=\"M0 0h24v24H0V0z\" fill=\"none\"/>\n",
              "    <path d=\"M18.56 5.44l.94 2.06.94-2.06 2.06-.94-2.06-.94-.94-2.06-.94 2.06-2.06.94zm-11 1L8.5 8.5l.94-2.06 2.06-.94-2.06-.94L8.5 2.5l-.94 2.06-2.06.94zm10 10l.94 2.06.94-2.06 2.06-.94-2.06-.94-.94-2.06-.94 2.06-2.06.94z\"/><path d=\"M17.41 7.96l-1.37-1.37c-.4-.4-.92-.59-1.43-.59-.52 0-1.04.2-1.43.59L10.3 9.45l-7.72 7.72c-.78.78-.78 2.05 0 2.83L4 21.41c.39.39.9.59 1.41.59.51 0 1.02-.2 1.41-.59l7.78-7.78 2.81-2.81c.8-.78.8-2.07 0-2.86zM5.41 20L4 18.59l7.72-7.72 1.47 1.35L5.41 20z\"/>\n",
              "  </svg>\n",
              "      </button>\n",
              "      \n",
              "  <style>\n",
              "    .colab-df-container {\n",
              "      display:flex;\n",
              "      flex-wrap:wrap;\n",
              "      gap: 12px;\n",
              "    }\n",
              "\n",
              "    .colab-df-convert {\n",
              "      background-color: #E8F0FE;\n",
              "      border: none;\n",
              "      border-radius: 50%;\n",
              "      cursor: pointer;\n",
              "      display: none;\n",
              "      fill: #1967D2;\n",
              "      height: 32px;\n",
              "      padding: 0 0 0 0;\n",
              "      width: 32px;\n",
              "    }\n",
              "\n",
              "    .colab-df-convert:hover {\n",
              "      background-color: #E2EBFA;\n",
              "      box-shadow: 0px 1px 2px rgba(60, 64, 67, 0.3), 0px 1px 3px 1px rgba(60, 64, 67, 0.15);\n",
              "      fill: #174EA6;\n",
              "    }\n",
              "\n",
              "    [theme=dark] .colab-df-convert {\n",
              "      background-color: #3B4455;\n",
              "      fill: #D2E3FC;\n",
              "    }\n",
              "\n",
              "    [theme=dark] .colab-df-convert:hover {\n",
              "      background-color: #434B5C;\n",
              "      box-shadow: 0px 1px 3px 1px rgba(0, 0, 0, 0.15);\n",
              "      filter: drop-shadow(0px 1px 2px rgba(0, 0, 0, 0.3));\n",
              "      fill: #FFFFFF;\n",
              "    }\n",
              "  </style>\n",
              "\n",
              "      <script>\n",
              "        const buttonEl =\n",
              "          document.querySelector('#df-7af26e04-d4ff-444c-84a8-f86988af20a5 button.colab-df-convert');\n",
              "        buttonEl.style.display =\n",
              "          google.colab.kernel.accessAllowed ? 'block' : 'none';\n",
              "\n",
              "        async function convertToInteractive(key) {\n",
              "          const element = document.querySelector('#df-7af26e04-d4ff-444c-84a8-f86988af20a5');\n",
              "          const dataTable =\n",
              "            await google.colab.kernel.invokeFunction('convertToInteractive',\n",
              "                                                     [key], {});\n",
              "          if (!dataTable) return;\n",
              "\n",
              "          const docLinkHtml = 'Like what you see? Visit the ' +\n",
              "            '<a target=\"_blank\" href=https://colab.research.google.com/notebooks/data_table.ipynb>data table notebook</a>'\n",
              "            + ' to learn more about interactive tables.';\n",
              "          element.innerHTML = '';\n",
              "          dataTable['output_type'] = 'display_data';\n",
              "          await google.colab.output.renderOutput(dataTable, element);\n",
              "          const docLink = document.createElement('div');\n",
              "          docLink.innerHTML = docLinkHtml;\n",
              "          element.appendChild(docLink);\n",
              "        }\n",
              "      </script>\n",
              "    </div>\n",
              "  </div>\n",
              "  "
            ]
          },
          "metadata": {},
          "execution_count": 21
        }
      ],
      "source": [
        "# create a scatter plot to visualize the relationship between unit price and quantity\n",
        "\n",
        "plt.scatter(df['Unit price'], df['Quantity'])\n",
        "\n",
        "# add title and labels to the plot\n",
        "plt.title('Unit Price vs Quantity')\n",
        "plt.xlabel('Unit Price')\n",
        "plt.ylabel('Quantity')\n",
        "\n",
        "# show the plot\n",
        "plt.show()\n",
        "\n",
        "df[[\"Unit price\", \"Quantity\"]].corr()"
      ]
    },
    {
      "cell_type": "markdown",
      "id": "e02efdd0",
      "metadata": {
        "papermill": {
          "duration": 0.026825,
          "end_time": "2022-12-14T15:57:15.351053",
          "exception": false,
          "start_time": "2022-12-14T15:57:15.324228",
          "status": "completed"
        },
        "tags": [],
        "id": "e02efdd0"
      },
      "source": [
        "We can see a correlation value of **0.010778** indicates a very weak positive correlation between the two variables. This means that there is a very weak relationship between the two variables and as one variable increases, the other variable also increases, but only slightly."
      ]
    },
    {
      "cell_type": "markdown",
      "id": "f51d734d",
      "metadata": {
        "papermill": {
          "duration": 0.027348,
          "end_time": "2022-12-14T15:57:15.405618",
          "exception": false,
          "start_time": "2022-12-14T15:57:15.378270",
          "status": "completed"
        },
        "tags": [],
        "id": "f51d734d"
      },
      "source": [
        "**8. What is the overall satisfaction level of customers with the supermarket?**"
      ]
    },
    {
      "cell_type": "code",
      "execution_count": 22,
      "id": "a161dcfd",
      "metadata": {
        "execution": {
          "iopub.execute_input": "2022-12-14T15:57:15.462928Z",
          "iopub.status.busy": "2022-12-14T15:57:15.461916Z",
          "iopub.status.idle": "2022-12-14T15:57:15.692567Z",
          "shell.execute_reply": "2022-12-14T15:57:15.691566Z"
        },
        "papermill": {
          "duration": 0.262014,
          "end_time": "2022-12-14T15:57:15.694961",
          "exception": false,
          "start_time": "2022-12-14T15:57:15.432947",
          "status": "completed"
        },
        "tags": [],
        "id": "a161dcfd",
        "outputId": "8201dd73-4d1c-4a5c-8fa8-5bde6f1d577d",
        "colab": {
          "base_uri": "https://localhost:8080/",
          "height": 295
        }
      },
      "outputs": [
        {
          "output_type": "display_data",
          "data": {
            "text/plain": [
              "<Figure size 432x288 with 1 Axes>"
            ],
            "image/png": "[encoded data removed]"
          },
          "metadata": {
            "needs_background": "light"
          }
        }
      ],
      "source": [
        "# create a histogram to visualize the distribution of customer ratings\n",
        "\n",
        "df['Rating'].plot(kind='hist')\n",
        "\n",
        "# add title and labels to the plot\n",
        "plt.title('Distribution of Customer Ratings')\n",
        "plt.xlabel('Rating')\n",
        "plt.ylabel('Number of Customers')\n",
        "\n",
        "# show the plot\n",
        "plt.show()\n"
      ]
    },
    {
      "cell_type": "markdown",
      "id": "088db402",
      "metadata": {
        "papermill": {
          "duration": 0.029958,
          "end_time": "2022-12-14T15:57:15.752242",
          "exception": false,
          "start_time": "2022-12-14T15:57:15.722284",
          "status": "completed"
        },
        "tags": [],
        "id": "088db402"
      },
      "source": [
        "This visualization isn't really telling us much. Let's try to bin our dataset and let's see what happens."
      ]
    },
    {
      "cell_type": "code",
      "execution_count": 23,
      "id": "66cef61e",
      "metadata": {
        "execution": {
          "iopub.execute_input": "2022-12-14T15:57:15.808330Z",
          "iopub.status.busy": "2022-12-14T15:57:15.807390Z",
          "iopub.status.idle": "2022-12-14T15:57:15.829323Z",
          "shell.execute_reply": "2022-12-14T15:57:15.828144Z"
        },
        "papermill": {
          "duration": 0.053444,
          "end_time": "2022-12-14T15:57:15.832460",
          "exception": false,
          "start_time": "2022-12-14T15:57:15.779016",
          "status": "completed"
        },
        "tags": [],
        "id": "66cef61e",
        "outputId": "cf4c85a2-3a78-49d0-be58-37437f236fbe",
        "colab": {
          "base_uri": "https://localhost:8080/",
          "height": 677
        }
      },
      "outputs": [
        {
          "output_type": "execute_result",
          "data": {
            "text/plain": [
              "    Rating rating-binned\n",
              "0      9.1          High\n",
              "1      9.6          High\n",
              "2      7.4        Medium\n",
              "3      8.4          High\n",
              "4      5.3           Low\n",
              "5      4.1           Low\n",
              "6      5.8           Low\n",
              "7      8.0        Medium\n",
              "8      7.2        Medium\n",
              "9      5.9           Low\n",
              "10     4.5           Low\n",
              "11     6.8        Medium\n",
              "12     7.1        Medium\n",
              "13     8.2          High\n",
              "14     5.7           Low\n",
              "15     4.5           Low\n",
              "16     4.6           Low\n",
              "17     6.9        Medium\n",
              "18     8.6          High\n",
              "19     4.4           Low"
            ],
            "text/html": [
              "\n",
              "  <div id=\"df-75c2f7bc-d0b8-405c-a1df-e7ded80981cd\">\n",
              "    <div class=\"colab-df-container\">\n",
              "      <div>\n",
              "<style scoped>\n",
              "    .dataframe tbody tr th:only-of-type {\n",
              "        vertical-align: middle;\n",
              "    }\n",
              "\n",
              "    .dataframe tbody tr th {\n",
              "        vertical-align: top;\n",
              "    }\n",
              "\n",
              "    .dataframe thead th {\n",
              "        text-align: right;\n",
              "    }\n",
              "</style>\n",
              "<table border=\"1\" class=\"dataframe\">\n",
              "  <thead>\n",
              "    <tr style=\"text-align: right;\">\n",
              "      <th></th>\n",
              "      <th>Rating</th>\n",
              "      <th>rating-binned</th>\n",
              "    </tr>\n",
              "  </thead>\n",
              "  <tbody>\n",
              "    <tr>\n",
              "      <th>0</th>\n",
              "      <td>9.1</td>\n",
              "      <td>High</td>\n",
              "    </tr>\n",
              "    <tr>\n",
              "      <th>1</th>\n",
              "      <td>9.6</td>\n",
              "      <td>High</td>\n",
              "    </tr>\n",
              "    <tr>\n",
              "      <th>2</th>\n",
              "      <td>7.4</td>\n",
              "      <td>Medium</td>\n",
              "    </tr>\n",
              "    <tr>\n",
              "      <th>3</th>\n",
              "      <td>8.4</td>\n",
              "      <td>High</td>\n",
              "    </tr>\n",
              "    <tr>\n",
              "      <th>4</th>\n",
              "      <td>5.3</td>\n",
              "      <td>Low</td>\n",
              "    </tr>\n",
              "    <tr>\n",
              "      <th>5</th>\n",
              "      <td>4.1</td>\n",
              "      <td>Low</td>\n",
              "    </tr>\n",
              "    <tr>\n",
              "      <th>6</th>\n",
              "      <td>5.8</td>\n",
              "      <td>Low</td>\n",
              "    </tr>\n",
              "    <tr>\n",
              "      <th>7</th>\n",
              "      <td>8.0</td>\n",
              "      <td>Medium</td>\n",
              "    </tr>\n",
              "    <tr>\n",
              "      <th>8</th>\n",
              "      <td>7.2</td>\n",
              "      <td>Medium</td>\n",
              "    </tr>\n",
              "    <tr>\n",
              "      <th>9</th>\n",
              "      <td>5.9</td>\n",
              "      <td>Low</td>\n",
              "    </tr>\n",
              "    <tr>\n",
              "      <th>10</th>\n",
              "      <td>4.5</td>\n",
              "      <td>Low</td>\n",
              "    </tr>\n",
              "    <tr>\n",
              "      <th>11</th>\n",
              "      <td>6.8</td>\n",
              "      <td>Medium</td>\n",
              "    </tr>\n",
              "    <tr>\n",
              "      <th>12</th>\n",
              "      <td>7.1</td>\n",
              "      <td>Medium</td>\n",
              "    </tr>\n",
              "    <tr>\n",
              "      <th>13</th>\n",
              "      <td>8.2</td>\n",
              "      <td>High</td>\n",
              "    </tr>\n",
              "    <tr>\n",
              "      <th>14</th>\n",
              "      <td>5.7</td>\n",
              "      <td>Low</td>\n",
              "    </tr>\n",
              "    <tr>\n",
              "      <th>15</th>\n",
              "      <td>4.5</td>\n",
              "      <td>Low</td>\n",
              "    </tr>\n",
              "    <tr>\n",
              "      <th>16</th>\n",
              "      <td>4.6</td>\n",
              "      <td>Low</td>\n",
              "    </tr>\n",
              "    <tr>\n",
              "      <th>17</th>\n",
              "      <td>6.9</td>\n",
              "      <td>Medium</td>\n",
              "    </tr>\n",
              "    <tr>\n",
              "      <th>18</th>\n",
              "      <td>8.6</td>\n",
              "      <td>High</td>\n",
              "    </tr>\n",
              "    <tr>\n",
              "      <th>19</th>\n",
              "      <td>4.4</td>\n",
              "      <td>Low</td>\n",
              "    </tr>\n",
              "  </tbody>\n",
              "</table>\n",
              "</div>\n",
              "      <button class=\"colab-df-convert\" onclick=\"convertToInteractive('df-75c2f7bc-d0b8-405c-a1df-e7ded80981cd')\"\n",
              "              title=\"Convert this dataframe to an interactive table.\"\n",
              "              style=\"display:none;\">\n",
              "        \n",
              "  <svg xmlns=\"http://www.w3.org/2000/svg\" height=\"24px\"viewBox=\"0 0 24 24\"\n",
              "       width=\"24px\">\n",
              "    <path d=\"M0 0h24v24H0V0z\" fill=\"none\"/>\n",
              "    <path d=\"M18.56 5.44l.94 2.06.94-2.06 2.06-.94-2.06-.94-.94-2.06-.94 2.06-2.06.94zm-11 1L8.5 8.5l.94-2.06 2.06-.94-2.06-.94L8.5 2.5l-.94 2.06-2.06.94zm10 10l.94 2.06.94-2.06 2.06-.94-2.06-.94-.94-2.06-.94 2.06-2.06.94z\"/><path d=\"M17.41 7.96l-1.37-1.37c-.4-.4-.92-.59-1.43-.59-.52 0-1.04.2-1.43.59L10.3 9.45l-7.72 7.72c-.78.78-.78 2.05 0 2.83L4 21.41c.39.39.9.59 1.41.59.51 0 1.02-.2 1.41-.59l7.78-7.78 2.81-2.81c.8-.78.8-2.07 0-2.86zM5.41 20L4 18.59l7.72-7.72 1.47 1.35L5.41 20z\"/>\n",
              "  </svg>\n",
              "      </button>\n",
              "      \n",
              "  <style>\n",
              "    .colab-df-container {\n",
              "      display:flex;\n",
              "      flex-wrap:wrap;\n",
              "      gap: 12px;\n",
              "    }\n",
              "\n",
              "    .colab-df-convert {\n",
              "      background-color: #E8F0FE;\n",
              "      border: none;\n",
              "      border-radius: 50%;\n",
              "      cursor: pointer;\n",
              "      display: none;\n",
              "      fill: #1967D2;\n",
              "      height: 32px;\n",
              "      padding: 0 0 0 0;\n",
              "      width: 32px;\n",
              "    }\n",
              "\n",
              "    .colab-df-convert:hover {\n",
              "      background-color: #E2EBFA;\n",
              "      box-shadow: 0px 1px 2px rgba(60, 64, 67, 0.3), 0px 1px 3px 1px rgba(60, 64, 67, 0.15);\n",
              "      fill: #174EA6;\n",
              "    }\n",
              "\n",
              "    [theme=dark] .colab-df-convert {\n",
              "      background-color: #3B4455;\n",
              "      fill: #D2E3FC;\n",
              "    }\n",
              "\n",
              "    [theme=dark] .colab-df-convert:hover {\n",
              "      background-color: #434B5C;\n",
              "      box-shadow: 0px 1px 3px 1px rgba(0, 0, 0, 0.15);\n",
              "      filter: drop-shadow(0px 1px 2px rgba(0, 0, 0, 0.3));\n",
              "      fill: #FFFFFF;\n",
              "    }\n",
              "  </style>\n",
              "\n",
              "      <script>\n",
              "        const buttonEl =\n",
              "          document.querySelector('#df-75c2f7bc-d0b8-405c-a1df-e7ded80981cd button.colab-df-convert');\n",
              "        buttonEl.style.display =\n",
              "          google.colab.kernel.accessAllowed ? 'block' : 'none';\n",
              "\n",
              "        async function convertToInteractive(key) {\n",
              "          const element = document.querySelector('#df-75c2f7bc-d0b8-405c-a1df-e7ded80981cd');\n",
              "          const dataTable =\n",
              "            await google.colab.kernel.invokeFunction('convertToInteractive',\n",
              "                                                     [key], {});\n",
              "          if (!dataTable) return;\n",
              "\n",
              "          const docLinkHtml = 'Like what you see? Visit the ' +\n",
              "            '<a target=\"_blank\" href=https://colab.research.google.com/notebooks/data_table.ipynb>data table notebook</a>'\n",
              "            + ' to learn more about interactive tables.';\n",
              "          element.innerHTML = '';\n",
              "          dataTable['output_type'] = 'display_data';\n",
              "          await google.colab.output.renderOutput(dataTable, element);\n",
              "          const docLink = document.createElement('div');\n",
              "          docLink.innerHTML = docLinkHtml;\n",
              "          element.appendChild(docLink);\n",
              "        }\n",
              "      </script>\n",
              "    </div>\n",
              "  </div>\n",
              "  "
            ]
          },
          "metadata": {},
          "execution_count": 23
        }
      ],
      "source": [
        "bins = np.linspace(min(df[\"Rating\"]), max(df[\"Rating\"]), 4)\n",
        "\n",
        "group_names = ['Low', 'Medium', 'High'] # let's set our group names\n",
        "\n",
        "df['rating-binned'] = pd.cut(df['Rating'], bins, labels=group_names, include_lowest=True )\n",
        "df[['Rating','rating-binned']].head(20)"
      ]
    },
    {
      "cell_type": "code",
      "execution_count": 24,
      "id": "e04f6abd",
      "metadata": {
        "execution": {
          "iopub.execute_input": "2022-12-14T15:57:15.890208Z",
          "iopub.status.busy": "2022-12-14T15:57:15.889685Z",
          "iopub.status.idle": "2022-12-14T15:57:15.900354Z",
          "shell.execute_reply": "2022-12-14T15:57:15.899436Z"
        },
        "papermill": {
          "duration": 0.041606,
          "end_time": "2022-12-14T15:57:15.902696",
          "exception": false,
          "start_time": "2022-12-14T15:57:15.861090",
          "status": "completed"
        },
        "tags": [],
        "id": "e04f6abd",
        "outputId": "f3a7e2ef-f88c-4934-de31-8e4d4ce73381",
        "colab": {
          "base_uri": "https://localhost:8080/"
        }
      },
      "outputs": [
        {
          "output_type": "execute_result",
          "data": {
            "text/plain": [
              "Medium    351\n",
              "Low       341\n",
              "High      308\n",
              "Name: rating-binned, dtype: int64"
            ]
          },
          "metadata": {},
          "execution_count": 24
        }
      ],
      "source": [
        "# Let's see the number of ratings in each bin\n",
        "\n",
        "df[\"rating-binned\"].value_counts()"
      ]
    },
    {
      "cell_type": "code",
      "execution_count": 25,
      "id": "3e21c6a5",
      "metadata": {
        "execution": {
          "iopub.execute_input": "2022-12-14T15:57:15.960186Z",
          "iopub.status.busy": "2022-12-14T15:57:15.959413Z",
          "iopub.status.idle": "2022-12-14T15:57:16.175460Z",
          "shell.execute_reply": "2022-12-14T15:57:16.173906Z"
        },
        "papermill": {
          "duration": 0.248096,
          "end_time": "2022-12-14T15:57:16.178551",
          "exception": false,
          "start_time": "2022-12-14T15:57:15.930455",
          "status": "completed"
        },
        "tags": [],
        "id": "3e21c6a5",
        "outputId": "8cdcc709-6eac-4068-d7eb-406738a3a6e7",
        "colab": {
          "base_uri": "https://localhost:8080/",
          "height": 312
        }
      },
      "outputs": [
        {
          "output_type": "execute_result",
          "data": {
            "text/plain": [
              "Text(0.5, 1.0, 'Distribution of Customer Rating bins')"
            ]
          },
          "metadata": {},
          "execution_count": 25
        },
        {
          "output_type": "display_data",
          "data": {
            "text/plain": [
              "<Figure size 432x288 with 1 Axes>"
            ],
            "image/png": "[encoded data removed]"
          },
          "metadata": {
            "needs_background": "light"
          }
        }
      ],
      "source": [
        "# Let's plot the distribution of each bin\n",
        "\n",
        "import matplotlib.pyplot as plt\n",
        "plt.bar(group_names, df[\"rating-binned\"].value_counts())\n",
        "\n",
        "# set x/y labels and plot title\n",
        "plt.xlabel(\"Rating\")\n",
        "plt.ylabel(\"count\")\n",
        "plt.title(\"Distribution of Customer Rating bins\")"
      ]
    },
    {
      "cell_type": "markdown",
      "id": "17ef72ec",
      "metadata": {
        "papermill": {
          "duration": 0.027928,
          "end_time": "2022-12-14T15:57:16.235044",
          "exception": false,
          "start_time": "2022-12-14T15:57:16.207116",
          "status": "completed"
        },
        "tags": [],
        "id": "17ef72ec"
      },
      "source": [
        "This visualization is much clear, compared to the earlier one."
      ]
    },
    {
      "cell_type": "markdown",
      "id": "6eb0d18b",
      "metadata": {
        "papermill": {
          "duration": 0.027589,
          "end_time": "2022-12-14T15:57:16.291262",
          "exception": false,
          "start_time": "2022-12-14T15:57:16.263673",
          "status": "completed"
        },
        "tags": [],
        "id": "6eb0d18b"
      },
      "source": [
        "**9. Which branches are performing well in terms of gross margin percentage?**"
      ]
    },
    {
      "cell_type": "code",
      "execution_count": 26,
      "id": "6c204f8e",
      "metadata": {
        "execution": {
          "iopub.execute_input": "2022-12-14T15:57:16.349168Z",
          "iopub.status.busy": "2022-12-14T15:57:16.348543Z",
          "iopub.status.idle": "2022-12-14T15:57:16.535337Z",
          "shell.execute_reply": "2022-12-14T15:57:16.533947Z"
        },
        "papermill": {
          "duration": 0.218926,
          "end_time": "2022-12-14T15:57:16.537993",
          "exception": false,
          "start_time": "2022-12-14T15:57:16.319067",
          "status": "completed"
        },
        "tags": [],
        "id": "6c204f8e",
        "outputId": "b712cd21-c60d-4c72-99db-ee147a617959",
        "colab": {
          "base_uri": "https://localhost:8080/",
          "height": 295
        }
      },
      "outputs": [
        {
          "output_type": "display_data",
          "data": {
            "text/plain": [
              "<Figure size 432x288 with 1 Axes>"
            ],
            "image/png": "[encoded data removed]"
          },
          "metadata": {
            "needs_background": "light"
          }
        }
      ],
      "source": [
        "import matplotlib.pyplot as plt\n",
        "\n",
        "# calculate the gross margin percentage for each branch\n",
        "df_branch_margin = df.groupby('Branch')['gross margin percentage'].mean()\n",
        "\n",
        "# create a box plot to visualize the distribution of gross margin percentages across different branches\n",
        "df_branch_margin.plot(kind='box')\n",
        "\n",
        "# add title and labels to the plot\n",
        "plt.title('Gross Margin Percentage by Branch')\n",
        "plt.xlabel('Branch')\n",
        "plt.ylabel('Gross Margin Percentage')\n",
        "\n",
        "# show the plot\n",
        "plt.show()\n"
      ]
    },
    {
      "cell_type": "markdown",
      "id": "40ffbe5a",
      "metadata": {
        "papermill": {
          "duration": 0.028441,
          "end_time": "2022-12-14T15:57:16.595032",
          "exception": false,
          "start_time": "2022-12-14T15:57:16.566591",
          "status": "completed"
        },
        "tags": [],
        "id": "40ffbe5a"
      },
      "source": [
        "As stated earlier, a gross margin of **0.047** means that out of the total revenue, only 4.76% is left after accounting for the COGS. This indicates a low level of profitability for the Supermarket. To improve the profitability, the business can try to reduce the COGS or increase the revenue."
      ]
    },
    {
      "cell_type": "markdown",
      "id": "e7db18d7",
      "metadata": {
        "papermill": {
          "duration": 0.029759,
          "end_time": "2022-12-14T15:57:16.653939",
          "exception": false,
          "start_time": "2022-12-14T15:57:16.624180",
          "status": "completed"
        },
        "tags": [],
        "id": "e7db18d7"
      },
      "source": [
        "**10. What are the most popular product lines in the supermarket?**"
      ]
    },
    {
      "cell_type": "code",
      "execution_count": 27,
      "id": "cb1aebc8",
      "metadata": {
        "execution": {
          "iopub.execute_input": "2022-12-14T15:57:16.714451Z",
          "iopub.status.busy": "2022-12-14T15:57:16.714047Z",
          "iopub.status.idle": "2022-12-14T15:57:16.912767Z",
          "shell.execute_reply": "2022-12-14T15:57:16.911158Z"
        },
        "papermill": {
          "duration": 0.232186,
          "end_time": "2022-12-14T15:57:16.915428",
          "exception": false,
          "start_time": "2022-12-14T15:57:16.683242",
          "status": "completed"
        },
        "tags": [],
        "id": "cb1aebc8",
        "outputId": "9c7ee2bb-4220-4c3b-d514-e8eee35a20b8",
        "colab": {
          "base_uri": "https://localhost:8080/",
          "height": 570
        }
      },
      "outputs": [
        {
          "output_type": "stream",
          "name": "stdout",
          "text": [
            "Most popular product lines:\n",
            "Product line\n",
            "Food and beverages        56144.8440\n",
            "Sports and travel         55122.8265\n",
            "Electronic accessories    54337.5315\n",
            "Fashion accessories       54305.8950\n",
            "Home and lifestyle        53861.9130\n",
            "Health and beauty         49193.7390\n",
            "Name: Total, dtype: float64\n"
          ]
        },
        {
          "output_type": "execute_result",
          "data": {
            "text/plain": [
              "<matplotlib.axes._subplots.AxesSubplot at 0x7f32625a6f70>"
            ]
          },
          "metadata": {},
          "execution_count": 27
        },
        {
          "output_type": "display_data",
          "data": {
            "text/plain": [
              "<Figure size 432x288 with 1 Axes>"
            ],
            "image/png": "[encoded data removed]"
          },
          "metadata": {
            "needs_background": "light"
          }
        }
      ],
      "source": [
        "# group the data by product line and calculate the total sales for each product line\n",
        "product_line_sales = df.groupby('Product line')['Total'].sum()\n",
        "\n",
        "# sort the product lines by total sales in descending order\n",
        "product_line_sales = product_line_sales.sort_values(ascending=False)\n",
        "\n",
        "# print the most popular product lines\n",
        "print('Most popular product lines:')\n",
        "print(product_line_sales.head(10))\n",
        "\n",
        "# visualize the most popular product lines\n",
        "product_line_sales.head(10).plot(kind='bar', title = 'Most Popular Product Lines')"
      ]
    },
    {
      "cell_type": "markdown",
      "id": "4af47d32",
      "metadata": {
        "papermill": {
          "duration": 0.028527,
          "end_time": "2022-12-14T15:57:16.973350",
          "exception": false,
          "start_time": "2022-12-14T15:57:16.944823",
          "status": "completed"
        },
        "tags": [],
        "id": "4af47d32"
      },
      "source": [
        "**11. What are the most profitable product lines in the supermarket?**"
      ]
    },
    {
      "cell_type": "code",
      "execution_count": 28,
      "id": "f4313e92",
      "metadata": {
        "execution": {
          "iopub.execute_input": "2022-12-14T15:57:17.035926Z",
          "iopub.status.busy": "2022-12-14T15:57:17.035167Z",
          "iopub.status.idle": "2022-12-14T15:57:17.232806Z",
          "shell.execute_reply": "2022-12-14T15:57:17.231096Z"
        },
        "papermill": {
          "duration": 0.232857,
          "end_time": "2022-12-14T15:57:17.235921",
          "exception": false,
          "start_time": "2022-12-14T15:57:17.003064",
          "status": "completed"
        },
        "tags": [],
        "id": "f4313e92",
        "outputId": "0ae5e37b-8785-4aea-a4f1-2f16b8cd3422",
        "colab": {
          "base_uri": "https://localhost:8080/",
          "height": 570
        }
      },
      "outputs": [
        {
          "output_type": "stream",
          "name": "stdout",
          "text": [
            "Most profitable product lines:\n",
            "Product line\n",
            "Food and beverages        2673.5640\n",
            "Sports and travel         2624.8965\n",
            "Electronic accessories    2587.5015\n",
            "Fashion accessories       2585.9950\n",
            "Home and lifestyle        2564.8530\n",
            "Health and beauty         2342.5590\n",
            "Name: gross income, dtype: float64\n"
          ]
        },
        {
          "output_type": "execute_result",
          "data": {
            "text/plain": [
              "<matplotlib.axes._subplots.AxesSubplot at 0x7f326251b640>"
            ]
          },
          "metadata": {},
          "execution_count": 28
        },
        {
          "output_type": "display_data",
          "data": {
            "text/plain": [
              "<Figure size 432x288 with 1 Axes>"
            ],
            "image/png": "[encoded data removed]"
          },
          "metadata": {
            "needs_background": "light"
          }
        }
      ],
      "source": [
        "# group the data by product line and calculate the total gross income for each product line\n",
        "product_line_income = df.groupby('Product line')['gross income'].sum()\n",
        "\n",
        "# sort the product lines by total gross income in descending order\n",
        "product_line_income = product_line_income.sort_values(ascending=False)\n",
        "\n",
        "# print the top 10 most profitable product lines\n",
        "print('Most profitable product lines:')\n",
        "print(product_line_income.head(10))\n",
        "\n",
        "# visualize the most profitable product lines\n",
        "product_line_income.head(10).plot(kind='bar', title = 'Most Profitable Product Lines')"
      ]
    },
    {
      "cell_type": "markdown",
      "id": "4abd3ca1",
      "metadata": {
        "papermill": {
          "duration": 0.02897,
          "end_time": "2022-12-14T15:57:17.294952",
          "exception": false,
          "start_time": "2022-12-14T15:57:17.265982",
          "status": "completed"
        },
        "tags": [],
        "id": "4abd3ca1"
      },
      "source": [
        "**12. What are the most popular payment methods used in the supermarket?**"
      ]
    },
    {
      "cell_type": "code",
      "execution_count": 29,
      "id": "3290e432",
      "metadata": {
        "execution": {
          "iopub.execute_input": "2022-12-14T15:57:17.355260Z",
          "iopub.status.busy": "2022-12-14T15:57:17.354000Z",
          "iopub.status.idle": "2022-12-14T15:57:17.514198Z",
          "shell.execute_reply": "2022-12-14T15:57:17.512879Z"
        },
        "papermill": {
          "duration": 0.19334,
          "end_time": "2022-12-14T15:57:17.516996",
          "exception": false,
          "start_time": "2022-12-14T15:57:17.323656",
          "status": "completed"
        },
        "tags": [],
        "id": "3290e432",
        "outputId": "bbe7743f-dff8-45ec-dc03-968ea7665960",
        "colab": {
          "base_uri": "https://localhost:8080/",
          "height": 462
        }
      },
      "outputs": [
        {
          "output_type": "stream",
          "name": "stdout",
          "text": [
            "Most popular payment methods:\n",
            "Payment\n",
            "Cash           112206.570\n",
            "Ewallet        109993.107\n",
            "Credit card    100767.072\n",
            "Name: Total, dtype: float64\n"
          ]
        },
        {
          "output_type": "execute_result",
          "data": {
            "text/plain": [
              "<matplotlib.axes._subplots.AxesSubplot at 0x7f32624fb280>"
            ]
          },
          "metadata": {},
          "execution_count": 29
        },
        {
          "output_type": "display_data",
          "data": {
            "text/plain": [
              "<Figure size 432x288 with 1 Axes>"
            ],
            "image/png": "[encoded data removed]"
          },
          "metadata": {
            "needs_background": "light"
          }
        }
      ],
      "source": [
        "# group the data by payment method and calculate the total sales for each payment method\n",
        "payment_method_sales = df.groupby('Payment')['Total'].sum()\n",
        "\n",
        "# sort the payment methods by total sales in descending order\n",
        "payment_method_sales = payment_method_sales.sort_values(ascending=False)\n",
        "\n",
        "# print the most popular payment methods\n",
        "print('Most popular payment methods:')\n",
        "print(payment_method_sales.head(10))\n",
        "\n",
        "# visualize the most popular payment methods\n",
        "payment_method_sales.head(10).plot(kind='bar', title = 'Most Popular Payment Methods')"
      ]
    },
    {
      "cell_type": "code",
      "execution_count": 30,
      "id": "aa2bdfe6",
      "metadata": {
        "execution": {
          "iopub.execute_input": "2022-12-14T15:57:17.578019Z",
          "iopub.status.busy": "2022-12-14T15:57:17.577503Z",
          "iopub.status.idle": "2022-12-14T15:57:17.778109Z",
          "shell.execute_reply": "2022-12-14T15:57:17.776822Z"
        },
        "papermill": {
          "duration": 0.234009,
          "end_time": "2022-12-14T15:57:17.780659",
          "exception": false,
          "start_time": "2022-12-14T15:57:17.546650",
          "status": "completed"
        },
        "tags": [],
        "id": "aa2bdfe6",
        "outputId": "42c9801f-9883-490c-e06d-4de00bf3626f",
        "colab": {
          "base_uri": "https://localhost:8080/",
          "height": 405
        }
      },
      "outputs": [
        {
          "output_type": "execute_result",
          "data": {
            "text/plain": [
              "<matplotlib.axes._subplots.AxesSubplot at 0x7f32624bdfa0>"
            ]
          },
          "metadata": {},
          "execution_count": 30
        },
        {
          "output_type": "display_data",
          "data": {
            "text/plain": [
              "<Figure size 792x432 with 1 Axes>"
            ],
            "image/png": "[encoded data removed]"
          },
          "metadata": {
            "needs_background": "light"
          }
        }
      ],
      "source": [
        "# total sales for each gender by payment method\n",
        "\n",
        "plt.figure(figsize = (11,6))\n",
        "sns.barplot(x = 'Payment', y = 'Total', hue = 'Gender', data = df, ci = None, estimator = sum)"
      ]
    },
    {
      "cell_type": "code",
      "execution_count": 31,
      "id": "091f4cfe",
      "metadata": {
        "execution": {
          "iopub.execute_input": "2022-12-14T15:57:17.844067Z",
          "iopub.status.busy": "2022-12-14T15:57:17.843555Z",
          "iopub.status.idle": "2022-12-14T15:57:18.048752Z",
          "shell.execute_reply": "2022-12-14T15:57:18.047204Z"
        },
        "papermill": {
          "duration": 0.240808,
          "end_time": "2022-12-14T15:57:18.051586",
          "exception": false,
          "start_time": "2022-12-14T15:57:17.810778",
          "status": "completed"
        },
        "tags": [],
        "id": "091f4cfe",
        "outputId": "f31a12f7-82d9-4050-d113-f5735b556000",
        "colab": {
          "base_uri": "https://localhost:8080/",
          "height": 405
        }
      },
      "outputs": [
        {
          "output_type": "execute_result",
          "data": {
            "text/plain": [
              "<matplotlib.axes._subplots.AxesSubplot at 0x7f32626485b0>"
            ]
          },
          "metadata": {},
          "execution_count": 31
        },
        {
          "output_type": "display_data",
          "data": {
            "text/plain": [
              "<Figure size 792x432 with 1 Axes>"
            ],
            "image/png": "[encoded data removed]"
          },
          "metadata": {
            "needs_background": "light"
          }
        }
      ],
      "source": [
        "# total sales for each customer type by payment method\n",
        "\n",
        "plt.figure(figsize = (11,6))\n",
        "sns.barplot(x = 'Payment', y = 'Total', hue = 'Customer type', data = df, ci = None, estimator = sum)"
      ]
    },
    {
      "cell_type": "markdown",
      "id": "56045069",
      "metadata": {
        "papermill": {
          "duration": 0.029826,
          "end_time": "2022-12-14T15:57:18.111979",
          "exception": false,
          "start_time": "2022-12-14T15:57:18.082153",
          "status": "completed"
        },
        "tags": [],
        "id": "56045069"
      },
      "source": [
        "**13. What are the average unit prices and quantities sold for each product line?**"
      ]
    },
    {
      "cell_type": "code",
      "execution_count": 32,
      "id": "8cd769fa",
      "metadata": {
        "execution": {
          "iopub.execute_input": "2022-12-14T15:57:18.173506Z",
          "iopub.status.busy": "2022-12-14T15:57:18.172798Z",
          "iopub.status.idle": "2022-12-14T15:57:18.472346Z",
          "shell.execute_reply": "2022-12-14T15:57:18.471408Z"
        },
        "papermill": {
          "duration": 0.333349,
          "end_time": "2022-12-14T15:57:18.474836",
          "exception": false,
          "start_time": "2022-12-14T15:57:18.141487",
          "status": "completed"
        },
        "tags": [],
        "id": "8cd769fa",
        "outputId": "dff70662-e1b8-480d-d043-c98ba8581c47",
        "colab": {
          "base_uri": "https://localhost:8080/",
          "height": 604
        }
      },
      "outputs": [
        {
          "output_type": "stream",
          "name": "stdout",
          "text": [
            "Average unit prices and quantities for each product line:\n",
            "                        Unit price  Quantity\n",
            "Product line                                \n",
            "Electronic accessories   53.551588  5.711765\n",
            "Fashion accessories      57.153652  5.067416\n",
            "Food and beverages       56.008851  5.471264\n",
            "Health and beauty        54.854474  5.618421\n",
            "Home and lifestyle       55.316937  5.693750\n",
            "Sports and travel        56.993253  5.542169\n"
          ]
        },
        {
          "output_type": "stream",
          "name": "stderr",
          "text": [
            "<ipython-input-32-0048780d8dc4>:2: FutureWarning: Indexing with multiple keys (implicitly converted to a tuple of keys) will be deprecated, use a list instead.\n",
            "  product_line_data = df.groupby('Product line')['Unit price', 'Quantity'].mean()\n"
          ]
        },
        {
          "output_type": "execute_result",
          "data": {
            "text/plain": [
              "<matplotlib.axes._subplots.AxesSubplot at 0x7f32623ab580>"
            ]
          },
          "metadata": {},
          "execution_count": 32
        },
        {
          "output_type": "display_data",
          "data": {
            "text/plain": [
              "<Figure size 432x288 with 1 Axes>"
            ],
            "image/png": "[encoded data removed]"
          },
          "metadata": {
            "needs_background": "light"
          }
        }
      ],
      "source": [
        "# group the data by product line and calculate the average unit price and quantity for each product line\n",
        "product_line_data = df.groupby('Product line')['Unit price', 'Quantity'].mean()\n",
        "\n",
        "# print the average unit prices and quantities for each product line\n",
        "print('Average unit prices and quantities for each product line:')\n",
        "print(product_line_data)\n",
        "\n",
        "# visualize the average unit price and quantities for each product line\n",
        "product_line_data.head(10).plot(kind='bar', title = 'Average Unit Price and Quantities Per Product Line')"
      ]
    },
    {
      "cell_type": "code",
      "execution_count": 33,
      "id": "9feb0292",
      "metadata": {
        "execution": {
          "iopub.execute_input": "2022-12-14T15:57:18.542290Z",
          "iopub.status.busy": "2022-12-14T15:57:18.541514Z",
          "iopub.status.idle": "2022-12-14T15:57:18.943738Z",
          "shell.execute_reply": "2022-12-14T15:57:18.941999Z"
        },
        "papermill": {
          "duration": 0.439303,
          "end_time": "2022-12-14T15:57:18.946946",
          "exception": false,
          "start_time": "2022-12-14T15:57:18.507643",
          "status": "completed"
        },
        "tags": [],
        "id": "9feb0292",
        "outputId": "f1293ad0-de83-4da1-816c-23a18e7ecbe1",
        "colab": {
          "base_uri": "https://localhost:8080/",
          "height": 413
        }
      },
      "outputs": [
        {
          "output_type": "execute_result",
          "data": {
            "text/plain": [
              "<matplotlib.axes._subplots.AxesSubplot at 0x7f3262324190>"
            ]
          },
          "metadata": {},
          "execution_count": 33
        },
        {
          "output_type": "display_data",
          "data": {
            "text/plain": [
              "<Figure size 432x288 with 1 Axes>"
            ],
            "image/png": "[encoded data removed]"
          },
          "metadata": {
            "needs_background": "light"
          }
        }
      ],
      "source": [
        "# visualize the average unit prices for each product line\n",
        "product_line_data['Unit price'].plot(kind='bar', title = 'Average Unit Price Per Product Line')"
      ]
    },
    {
      "cell_type": "code",
      "execution_count": 34,
      "id": "5c219cf2",
      "metadata": {
        "execution": {
          "iopub.execute_input": "2022-12-14T15:57:19.012790Z",
          "iopub.status.busy": "2022-12-14T15:57:19.012375Z",
          "iopub.status.idle": "2022-12-14T15:57:19.202101Z",
          "shell.execute_reply": "2022-12-14T15:57:19.200473Z"
        },
        "papermill": {
          "duration": 0.226548,
          "end_time": "2022-12-14T15:57:19.205203",
          "exception": false,
          "start_time": "2022-12-14T15:57:18.978655",
          "status": "completed"
        },
        "tags": [],
        "id": "5c219cf2",
        "outputId": "55d10ab2-e749-4198-d2f5-51f0ae345f5c",
        "colab": {
          "base_uri": "https://localhost:8080/",
          "height": 413
        }
      },
      "outputs": [
        {
          "output_type": "execute_result",
          "data": {
            "text/plain": [
              "<matplotlib.axes._subplots.AxesSubplot at 0x7f3262594730>"
            ]
          },
          "metadata": {},
          "execution_count": 34
        },
        {
          "output_type": "display_data",
          "data": {
            "text/plain": [
              "<Figure size 432x288 with 1 Axes>"
            ],
            "image/png": "[encoded data removed]"
          },
          "metadata": {
            "needs_background": "light"
          }
        }
      ],
      "source": [
        "# visualize the average quantities for each product line\n",
        "product_line_data['Quantity'].plot(kind='bar', title = 'Average Quantities Per Product Line')"
      ]
    },
    {
      "cell_type": "markdown",
      "id": "050eddb4",
      "metadata": {
        "papermill": {
          "duration": 0.031727,
          "end_time": "2022-12-14T15:57:19.268844",
          "exception": false,
          "start_time": "2022-12-14T15:57:19.237117",
          "status": "completed"
        },
        "tags": [],
        "id": "050eddb4"
      },
      "source": [
        "**14. What are the average gross margins and gross incomes for each product line?**"
      ]
    },
    {
      "cell_type": "code",
      "execution_count": 35,
      "id": "2b1c5341",
      "metadata": {
        "execution": {
          "iopub.execute_input": "2022-12-14T15:57:19.335228Z",
          "iopub.status.busy": "2022-12-14T15:57:19.334733Z",
          "iopub.status.idle": "2022-12-14T15:57:19.589535Z",
          "shell.execute_reply": "2022-12-14T15:57:19.587932Z"
        },
        "papermill": {
          "duration": 0.291464,
          "end_time": "2022-12-14T15:57:19.592563",
          "exception": false,
          "start_time": "2022-12-14T15:57:19.301099",
          "status": "completed"
        },
        "tags": [],
        "id": "2b1c5341",
        "outputId": "3f55d704-4ec1-4b95-c76b-52918d666016",
        "colab": {
          "base_uri": "https://localhost:8080/",
          "height": 604
        }
      },
      "outputs": [
        {
          "output_type": "stream",
          "name": "stdout",
          "text": [
            "Average gross margins and gross incomes for each product line:\n",
            "                        gross margin percentage  gross income\n",
            "Product line                                                 \n",
            "Electronic accessories                 4.761905     15.220597\n",
            "Fashion accessories                    4.761905     14.528062\n",
            "Food and beverages                     4.761905     15.365310\n",
            "Health and beauty                      4.761905     15.411572\n",
            "Home and lifestyle                     4.761905     16.030331\n",
            "Sports and travel                      4.761905     15.812630\n"
          ]
        },
        {
          "output_type": "stream",
          "name": "stderr",
          "text": [
            "<ipython-input-35-0d50f629a6a7>:2: FutureWarning: Indexing with multiple keys (implicitly converted to a tuple of keys) will be deprecated, use a list instead.\n",
            "  product_line_dataa = df.groupby('Product line')['gross margin percentage', 'gross income'].mean()\n"
          ]
        },
        {
          "output_type": "execute_result",
          "data": {
            "text/plain": [
              "<matplotlib.axes._subplots.AxesSubplot at 0x7f32626c89d0>"
            ]
          },
          "metadata": {},
          "execution_count": 35
        },
        {
          "output_type": "display_data",
          "data": {
            "text/plain": [
              "<Figure size 432x288 with 1 Axes>"
            ],
            "image/png": "[encoded data removed]"
          },
          "metadata": {
            "needs_background": "light"
          }
        }
      ],
      "source": [
        "# group the data by product line and calculate the average gross margin and gross income for each product line\n",
        "product_line_dataa = df.groupby('Product line')['gross margin percentage', 'gross income'].mean()\n",
        "\n",
        "# print the average gross margins and gross incomes for each product line\n",
        "print('Average gross margins and gross incomes for each product line:')\n",
        "print(product_line_dataa)\n",
        "\n",
        "# visualize the average gross margins and gross incomes for each product line\n",
        "product_line_dataa.head(10).plot(kind='bar', title = 'Average Gross Margins and Gross Incomes Per Product Line')"
      ]
    },
    {
      "cell_type": "markdown",
      "id": "5bfb9bbf",
      "metadata": {
        "papermill": {
          "duration": 0.034231,
          "end_time": "2022-12-14T15:57:19.659820",
          "exception": false,
          "start_time": "2022-12-14T15:57:19.625589",
          "status": "completed"
        },
        "tags": [],
        "id": "5bfb9bbf"
      },
      "source": [
        "**15. What are the average customer ratings for each product line?**"
      ]
    },
    {
      "cell_type": "code",
      "execution_count": 36,
      "id": "06a8ad34",
      "metadata": {
        "execution": {
          "iopub.execute_input": "2022-12-14T15:57:19.735797Z",
          "iopub.status.busy": "2022-12-14T15:57:19.734722Z",
          "iopub.status.idle": "2022-12-14T15:57:19.932319Z",
          "shell.execute_reply": "2022-12-14T15:57:19.930953Z"
        },
        "papermill": {
          "duration": 0.236818,
          "end_time": "2022-12-14T15:57:19.935229",
          "exception": false,
          "start_time": "2022-12-14T15:57:19.698411",
          "status": "completed"
        },
        "tags": [],
        "id": "06a8ad34",
        "outputId": "156a87e4-bca6-4ecd-d11b-03e0282d46c8",
        "colab": {
          "base_uri": "https://localhost:8080/",
          "height": 570
        }
      },
      "outputs": [
        {
          "output_type": "stream",
          "name": "stdout",
          "text": [
            "Average customer ratings for each product line:\n",
            "Product line\n",
            "Electronic accessories    6.924706\n",
            "Fashion accessories       7.029213\n",
            "Food and beverages        7.113218\n",
            "Health and beauty         7.003289\n",
            "Home and lifestyle        6.837500\n",
            "Sports and travel         6.916265\n",
            "Name: Rating, dtype: float64\n"
          ]
        },
        {
          "output_type": "execute_result",
          "data": {
            "text/plain": [
              "<matplotlib.axes._subplots.AxesSubplot at 0x7f3262783820>"
            ]
          },
          "metadata": {},
          "execution_count": 36
        },
        {
          "output_type": "display_data",
          "data": {
            "text/plain": [
              "<Figure size 432x288 with 1 Axes>"
            ],
            "image/png": "[encoded data removed]"
          },
          "metadata": {
            "needs_background": "light"
          }
        }
      ],
      "source": [
        "# group the data by product line and calculate the average customer rating for each product line\n",
        "product_line_datta = df.groupby('Product line')['Rating'].mean()\n",
        "\n",
        "# print the average customer ratings for each product line\n",
        "print('Average customer ratings for each product line:')\n",
        "print(product_line_datta)\n",
        "\n",
        "# visualize the average customer ratings for each product line\n",
        "product_line_datta.head(10).plot(kind='bar', title = 'Average Customer Ratings Per Product Line')"
      ]
    },
    {
      "cell_type": "markdown",
      "id": "473550a0",
      "metadata": {
        "papermill": {
          "duration": 0.033963,
          "end_time": "2022-12-14T15:57:20.002899",
          "exception": false,
          "start_time": "2022-12-14T15:57:19.968936",
          "status": "completed"
        },
        "tags": [],
        "id": "473550a0"
      },
      "source": [
        "**16. What are the most popular branches of the supermarket in terms of sales and customer ratings?**"
      ]
    },
    {
      "cell_type": "code",
      "source": [
        "df['Branch'].unique()"
      ],
      "metadata": {
        "colab": {
          "base_uri": "https://localhost:8080/"
        },
        "id": "JfZah1PPQaQm",
        "outputId": "cf7fe294-2a01-4932-9395-8eb046035d45"
      },
      "id": "JfZah1PPQaQm",
      "execution_count": 37,
      "outputs": [
        {
          "output_type": "execute_result",
          "data": {
            "text/plain": [
              "array(['A', 'C', 'B'], dtype=object)"
            ]
          },
          "metadata": {},
          "execution_count": 37
        }
      ]
    },
    {
      "cell_type": "code",
      "execution_count": 38,
      "id": "fa510d8d",
      "metadata": {
        "execution": {
          "iopub.execute_input": "2022-12-14T15:57:20.074584Z",
          "iopub.status.busy": "2022-12-14T15:57:20.074073Z",
          "iopub.status.idle": "2022-12-14T15:57:20.320105Z",
          "shell.execute_reply": "2022-12-14T15:57:20.318656Z"
        },
        "papermill": {
          "duration": 0.285142,
          "end_time": "2022-12-14T15:57:20.323222",
          "exception": false,
          "start_time": "2022-12-14T15:57:20.038080",
          "status": "completed"
        },
        "tags": [],
        "id": "fa510d8d",
        "outputId": "8457ecc0-c3f7-43d0-d64e-5c6b1996a525",
        "colab": {
          "base_uri": "https://localhost:8080/",
          "height": 466
        }
      },
      "outputs": [
        {
          "output_type": "stream",
          "name": "stdout",
          "text": [
            "Most popular branches:\n",
            "              Total              Rating          \n",
            "                sum        mean     sum      mean\n",
            "Branch                                           \n",
            "C       110568.7065  337.099715  2319.9  7.072866\n",
            "A       106200.3705  312.354031  2389.2  7.027059\n",
            "B       106197.6720  319.872506  2263.6  6.818072\n"
          ]
        },
        {
          "output_type": "stream",
          "name": "stderr",
          "text": [
            "<ipython-input-38-d9bb2772c16e>:2: FutureWarning: Indexing with multiple keys (implicitly converted to a tuple of keys) will be deprecated, use a list instead.\n",
            "  branch_data = df.groupby('Branch')['Total', 'Rating'].agg(['sum', 'mean'])\n"
          ]
        },
        {
          "output_type": "execute_result",
          "data": {
            "text/plain": [
              "<matplotlib.axes._subplots.AxesSubplot at 0x7f3262906df0>"
            ]
          },
          "metadata": {},
          "execution_count": 38
        },
        {
          "output_type": "display_data",
          "data": {
            "text/plain": [
              "<Figure size 432x288 with 1 Axes>"
            ],
            "image/png": "[encoded data removed]"
          },
          "metadata": {
            "needs_background": "light"
          }
        }
      ],
      "source": [
        "# group the data by branch and calculate the total sales and average customer rating for each branch\n",
        "branch_data = df.groupby('Branch')['Total', 'Rating'].agg(['sum', 'mean'])\n",
        "\n",
        "# sort the branches by total sales in descending order\n",
        "branch_data = branch_data.sort_values(('Total', 'sum'), ascending=False)\n",
        "\n",
        "# print the most popular branches in terms of sales and customer ratings\n",
        "print('Most popular branches:')\n",
        "print(branch_data.head(10))\n",
        "\n",
        "# visualize the most popular branches in terms of sales and customer ratings\n",
        "branch_data.head(10).plot(kind='bar', title = 'Most Popular Branch in Sales and Customer Ratings')"
      ]
    },
    {
      "cell_type": "markdown",
      "id": "b5455c76",
      "metadata": {
        "papermill": {
          "duration": 0.033498,
          "end_time": "2022-12-14T15:57:20.391000",
          "exception": false,
          "start_time": "2022-12-14T15:57:20.357502",
          "status": "completed"
        },
        "tags": [],
        "id": "b5455c76"
      },
      "source": [
        "**17. What are the most popular cities for the supermarket in terms of sales and customer ratings?**"
      ]
    },
    {
      "cell_type": "code",
      "execution_count": 39,
      "id": "91442f78",
      "metadata": {
        "execution": {
          "iopub.execute_input": "2022-12-14T15:57:20.462207Z",
          "iopub.status.busy": "2022-12-14T15:57:20.461087Z",
          "iopub.status.idle": "2022-12-14T15:57:20.714450Z",
          "shell.execute_reply": "2022-12-14T15:57:20.712560Z"
        },
        "papermill": {
          "duration": 0.294189,
          "end_time": "2022-12-14T15:57:20.719120",
          "exception": false,
          "start_time": "2022-12-14T15:57:20.424931",
          "status": "completed"
        },
        "tags": [],
        "id": "91442f78",
        "outputId": "1f60615e-92fc-4472-a9cb-bfe082def4a9",
        "colab": {
          "base_uri": "https://localhost:8080/",
          "height": 512
        }
      },
      "outputs": [
        {
          "output_type": "stream",
          "name": "stdout",
          "text": [
            "Most popular cities:\n",
            "                 Total              Rating          \n",
            "                   sum        mean     sum      mean\n",
            "City                                                \n",
            "Naypyitaw  110568.7065  337.099715  2319.9  7.072866\n",
            "Yangon     106200.3705  312.354031  2389.2  7.027059\n",
            "Mandalay   106197.6720  319.872506  2263.6  6.818072\n"
          ]
        },
        {
          "output_type": "stream",
          "name": "stderr",
          "text": [
            "<ipython-input-39-4bf369b880cb>:2: FutureWarning: Indexing with multiple keys (implicitly converted to a tuple of keys) will be deprecated, use a list instead.\n",
            "  city_data = df.groupby('City')['Total', 'Rating'].agg(['sum', 'mean'])\n"
          ]
        },
        {
          "output_type": "execute_result",
          "data": {
            "text/plain": [
              "<matplotlib.axes._subplots.AxesSubplot at 0x7f32627fb2e0>"
            ]
          },
          "metadata": {},
          "execution_count": 39
        },
        {
          "output_type": "display_data",
          "data": {
            "text/plain": [
              "<Figure size 432x288 with 1 Axes>"
            ],
            "image/png": "[encoded data removed]"
          },
          "metadata": {
            "needs_background": "light"
          }
        }
      ],
      "source": [
        "# group the data by city and calculate the total sales and average customer rating for each city\n",
        "city_data = df.groupby('City')['Total', 'Rating'].agg(['sum', 'mean'])\n",
        "\n",
        "# sort the cities by total sales in descending order\n",
        "city_data = city_data.sort_values(('Total', 'sum'), ascending=False)\n",
        "\n",
        "# print the most popular cities in terms of sales and customer ratings\n",
        "print('Most popular cities:')\n",
        "print(city_data.head(10))\n",
        "\n",
        "# visualize the most popular cities in terms of sales and customer ratings\n",
        "city_data.head(10).plot(kind='bar', title = 'Most Popular Cities in Sales and Customer Ratings')"
      ]
    },
    {
      "cell_type": "markdown",
      "id": "9d035d6e",
      "metadata": {
        "papermill": {
          "duration": 0.041272,
          "end_time": "2022-12-14T15:57:20.815486",
          "exception": false,
          "start_time": "2022-12-14T15:57:20.774214",
          "status": "completed"
        },
        "tags": [],
        "id": "9d035d6e"
      },
      "source": [
        "**18. What are the characteristics of the most satisfied customers in terms of gender, customer type, payment method, and product line?**"
      ]
    },
    {
      "cell_type": "code",
      "execution_count": 40,
      "id": "c8e37996",
      "metadata": {
        "execution": {
          "iopub.execute_input": "2022-12-14T15:57:20.896945Z",
          "iopub.status.busy": "2022-12-14T15:57:20.895445Z",
          "iopub.status.idle": "2022-12-14T15:57:21.260187Z",
          "shell.execute_reply": "2022-12-14T15:57:21.255313Z"
        },
        "papermill": {
          "duration": 0.406848,
          "end_time": "2022-12-14T15:57:21.263605",
          "exception": false,
          "start_time": "2022-12-14T15:57:20.856757",
          "status": "completed"
        },
        "tags": [],
        "id": "c8e37996",
        "outputId": "bc27bb68-8d15-4c1f-abd9-4b2093e4d040",
        "colab": {
          "base_uri": "https://localhost:8080/",
          "height": 797
        }
      },
      "outputs": [
        {
          "output_type": "stream",
          "name": "stdout",
          "text": [
            "Top 10 groups with the highest average customer ratings:\n",
            "Gender  Customer type  Payment      Product line          \n",
            "Female  Member         Credit card  Electronic accessories    8.050000\n",
            "Male    Normal         Credit card  Electronic accessories    7.925000\n",
            "Female  Normal         Cash         Food and beverages        7.876923\n",
            "Male    Member         Credit card  Electronic accessories    7.843750\n",
            "                       Ewallet      Health and beauty         7.815385\n",
            "Female  Normal         Cash         Health and beauty         7.738462\n",
            "Male    Normal         Ewallet      Sports and travel         7.584211\n",
            "Female  Member         Ewallet      Home and lifestyle        7.520000\n",
            "                       Cash         Food and beverages        7.485000\n",
            "        Normal         Cash         Fashion accessories       7.476471\n",
            "Name: Rating, dtype: float64\n"
          ]
        },
        {
          "output_type": "execute_result",
          "data": {
            "text/plain": [
              "<matplotlib.axes._subplots.AxesSubplot at 0x7f32622fd4c0>"
            ]
          },
          "metadata": {},
          "execution_count": 40
        },
        {
          "output_type": "display_data",
          "data": {
            "text/plain": [
              "<Figure size 432x288 with 1 Axes>"
            ],
            "image/png": "[encoded data removed]"
          },
          "metadata": {
            "needs_background": "light"
          }
        }
      ],
      "source": [
        "# group the data by gender, customer type, payment method, and product line and calculate the average customer rating for each group\n",
        "customer_data = df.groupby(['Gender', 'Customer type', 'Payment', 'Product line'])['Rating'].mean()\n",
        "\n",
        "# sort the groups by average customer rating in descending order\n",
        "customer_data = customer_data.sort_values(ascending=False)\n",
        "\n",
        "# print the top 10 groups with the highest average customer ratings\n",
        "print('Top 10 groups with the highest average customer ratings:')\n",
        "print(customer_data.head(10))\n",
        "\n",
        "# visualize the top 10 groups with the highest average customer ratings\n",
        "customer_data.head(10).plot(kind='bar', title = 'Top Groups With The Highest Average Customer Ratings')"
      ]
    },
    {
      "cell_type": "markdown",
      "id": "98f4eadc",
      "metadata": {
        "papermill": {
          "duration": 0.035282,
          "end_time": "2022-12-14T15:57:21.334834",
          "exception": false,
          "start_time": "2022-12-14T15:57:21.299552",
          "status": "completed"
        },
        "tags": [],
        "id": "98f4eadc"
      },
      "source": [
        "**19. What are the characteristics of the most dissatisfied customers in terms of gender, customer type, payment method, and product line?**"
      ]
    },
    {
      "cell_type": "code",
      "execution_count": 41,
      "id": "33f8bbc4",
      "metadata": {
        "execution": {
          "iopub.execute_input": "2022-12-14T15:57:21.408195Z",
          "iopub.status.busy": "2022-12-14T15:57:21.407225Z",
          "iopub.status.idle": "2022-12-14T15:57:21.740199Z",
          "shell.execute_reply": "2022-12-14T15:57:21.738844Z"
        },
        "papermill": {
          "duration": 0.372887,
          "end_time": "2022-12-14T15:57:21.743218",
          "exception": false,
          "start_time": "2022-12-14T15:57:21.370331",
          "status": "completed"
        },
        "tags": [],
        "id": "33f8bbc4",
        "outputId": "1571a39f-8601-47ed-dccd-7daedd99eb15",
        "colab": {
          "base_uri": "https://localhost:8080/",
          "height": 793
        }
      },
      "outputs": [
        {
          "output_type": "stream",
          "name": "stdout",
          "text": [
            "Top 10 groups with the lowest average customer ratings:\n",
            "Gender  Customer type  Payment      Product line          \n",
            "Male    Member         Cash         Home and lifestyle        6.073333\n",
            "Female  Member         Ewallet      Food and beverages        6.100000\n",
            "        Normal         Credit card  Home and lifestyle        6.133333\n",
            "        Member         Ewallet      Sports and travel         6.181250\n",
            "        Normal         Ewallet      Sports and travel         6.227273\n",
            "        Member         Ewallet      Electronic accessories    6.250000\n",
            "        Normal         Credit card  Electronic accessories    6.250000\n",
            "Male    Member         Credit card  Home and lifestyle        6.300000\n",
            "Female  Normal         Ewallet      Home and lifestyle        6.335714\n",
            "                                    Health and beauty         6.392857\n",
            "Name: Rating, dtype: float64\n"
          ]
        },
        {
          "output_type": "execute_result",
          "data": {
            "text/plain": [
              "<matplotlib.axes._subplots.AxesSubplot at 0x7f3262204d00>"
            ]
          },
          "metadata": {},
          "execution_count": 41
        },
        {
          "output_type": "display_data",
          "data": {
            "text/plain": [
              "<Figure size 432x288 with 1 Axes>"
            ],
            "image/png": "[encoded data removed]"
          },
          "metadata": {
            "needs_background": "light"
          }
        }
      ],
      "source": [
        "# group the data by gender, customer type, payment method, and product line and calculate the average customer rating for each group\n",
        "customer_dataa = df.groupby(['Gender', 'Customer type', 'Payment', 'Product line'])['Rating'].mean()\n",
        "\n",
        "# sort the groups by average customer rating in ascending order\n",
        "customer_dataa = customer_data.sort_values()\n",
        "\n",
        "# print the top 10 groups with the lowest average customer ratings\n",
        "print('Top 10 groups with the lowest average customer ratings:')\n",
        "print(customer_dataa.head(10))\n",
        "\n",
        "# visualize the top groups with the lowest average customer ratings\n",
        "customer_dataa.head(10).plot(kind='bar', title = 'Top Groups With The Lowest Average Customer Ratings')"
      ]
    },
    {
      "cell_type": "markdown",
      "id": "5261a2e5",
      "metadata": {
        "papermill": {
          "duration": 0.03469,
          "end_time": "2022-12-14T15:57:21.814602",
          "exception": false,
          "start_time": "2022-12-14T15:57:21.779912",
          "status": "completed"
        },
        "tags": [],
        "id": "5261a2e5"
      },
      "source": [
        "**20. Analyze and visualize total sales per month, transactions per week, transactions per day, and transactions per hour**"
      ]
    },
    {
      "cell_type": "code",
      "execution_count": 42,
      "id": "b7e0786d",
      "metadata": {
        "execution": {
          "iopub.execute_input": "2022-12-14T15:57:21.887807Z",
          "iopub.status.busy": "2022-12-14T15:57:21.887190Z",
          "iopub.status.idle": "2022-12-14T15:57:22.125670Z",
          "shell.execute_reply": "2022-12-14T15:57:22.124505Z"
        },
        "papermill": {
          "duration": 0.278901,
          "end_time": "2022-12-14T15:57:22.128661",
          "exception": false,
          "start_time": "2022-12-14T15:57:21.849760",
          "status": "completed"
        },
        "tags": [],
        "id": "b7e0786d",
        "outputId": "6b1eba1a-962f-4146-f62b-cc0f22f5b24f",
        "colab": {
          "base_uri": "https://localhost:8080/",
          "height": 434
        }
      },
      "outputs": [
        {
          "output_type": "stream",
          "name": "stdout",
          "text": [
            "Date\n",
            "February     97219.374\n",
            "January     116291.868\n",
            "March       109455.507\n",
            "Name: Total, dtype: float64\n"
          ]
        },
        {
          "output_type": "execute_result",
          "data": {
            "text/plain": [
              "<matplotlib.axes._subplots.AxesSubplot at 0x7f32621c55b0>"
            ]
          },
          "metadata": {},
          "execution_count": 42
        },
        {
          "output_type": "display_data",
          "data": {
            "text/plain": [
              "<Figure size 432x288 with 1 Axes>"
            ],
            "image/png": "[encoded data removed]"
          },
          "metadata": {
            "needs_background": "light"
          }
        }
      ],
      "source": [
        "# calculate the total sales per month\n",
        "df['Date'] = pd.to_datetime(df['Date'])\n",
        "monthly_sales = df.groupby(df['Date'].dt.strftime('%B'))['Total'].sum()\n",
        "\n",
        "print(monthly_sales)\n",
        "\n",
        "# visualize the monthly sales\n",
        "monthly_sales.plot(kind='bar', title = 'Monthly Sales')"
      ]
    },
    {
      "cell_type": "code",
      "execution_count": 43,
      "id": "e6c240fa",
      "metadata": {
        "execution": {
          "iopub.execute_input": "2022-12-14T15:57:22.205314Z",
          "iopub.status.busy": "2022-12-14T15:57:22.204218Z",
          "iopub.status.idle": "2022-12-14T15:57:22.480584Z",
          "shell.execute_reply": "2022-12-14T15:57:22.479332Z"
        },
        "papermill": {
          "duration": 0.317759,
          "end_time": "2022-12-14T15:57:22.483570",
          "exception": false,
          "start_time": "2022-12-14T15:57:22.165811",
          "status": "completed"
        },
        "tags": [],
        "id": "e6c240fa",
        "outputId": "aaf0e223-7b48-4d53-c420-c6dc42b436e5",
        "colab": {
          "base_uri": "https://localhost:8080/",
          "height": 576
        }
      },
      "outputs": [
        {
          "output_type": "stream",
          "name": "stdout",
          "text": [
            "Date\n",
            "00    46\n",
            "01    72\n",
            "02    82\n",
            "03    89\n",
            "04    83\n",
            "05    95\n",
            "06    70\n",
            "07    64\n",
            "08    82\n",
            "09    90\n",
            "10    84\n",
            "11    71\n",
            "12    72\n",
            "Name: Invoice ID, dtype: int64\n"
          ]
        },
        {
          "output_type": "execute_result",
          "data": {
            "text/plain": [
              "<matplotlib.axes._subplots.AxesSubplot at 0x7f32620ec280>"
            ]
          },
          "metadata": {},
          "execution_count": 43
        },
        {
          "output_type": "display_data",
          "data": {
            "text/plain": [
              "<Figure size 432x288 with 1 Axes>"
            ],
            "image/png": "[encoded data removed]"
          },
          "metadata": {
            "needs_background": "light"
          }
        }
      ],
      "source": [
        "# calculate the total number of transactions per week\n",
        "df['Date'] = pd.to_datetime(df['Date'])\n",
        "transactions_per_week = df.groupby(df['Date'].dt.strftime('%U'))['Invoice ID'].nunique()\n",
        "\n",
        "# print the results\n",
        "print(transactions_per_week)\n",
        "\n",
        "# visualize the transactions per week\n",
        "transactions_per_week.plot(kind='bar', title = 'Transactions Per Week')"
      ]
    },
    {
      "cell_type": "code",
      "execution_count": 44,
      "id": "ea1643b3",
      "metadata": {
        "execution": {
          "iopub.execute_input": "2022-12-14T15:57:22.560542Z",
          "iopub.status.busy": "2022-12-14T15:57:22.560003Z",
          "iopub.status.idle": "2022-12-14T15:57:22.843407Z",
          "shell.execute_reply": "2022-12-14T15:57:22.841746Z"
        },
        "papermill": {
          "duration": 0.325297,
          "end_time": "2022-12-14T15:57:22.846591",
          "exception": false,
          "start_time": "2022-12-14T15:57:22.521294",
          "status": "completed"
        },
        "tags": [],
        "id": "ea1643b3",
        "outputId": "6e6fcad3-fa30-4df4-967a-d18f562b0f43",
        "colab": {
          "base_uri": "https://localhost:8080/",
          "height": 481
        }
      },
      "outputs": [
        {
          "output_type": "stream",
          "name": "stdout",
          "text": [
            "Date\n",
            "Fri    139\n",
            "Mon    125\n",
            "Sat    164\n",
            "Sun    133\n",
            "Thu    138\n",
            "Tue    158\n",
            "Wed    143\n",
            "Name: Invoice ID, dtype: int64\n"
          ]
        },
        {
          "output_type": "execute_result",
          "data": {
            "text/plain": [
              "<matplotlib.axes._subplots.AxesSubplot at 0x7f32620ae220>"
            ]
          },
          "metadata": {},
          "execution_count": 44
        },
        {
          "output_type": "display_data",
          "data": {
            "text/plain": [
              "<Figure size 432x288 with 1 Axes>"
            ],
            "image/png": "[encoded data removed]"
          },
          "metadata": {
            "needs_background": "light"
          }
        }
      ],
      "source": [
        "# calculate the total number of transactions per day\n",
        "df['Date'] = pd.to_datetime(df['Date'])\n",
        "transactions_per_day = df.groupby(df['Date'].dt.strftime('%a'))['Invoice ID'].nunique()\n",
        "\n",
        "# print the results\n",
        "print(transactions_per_day)\n",
        "\n",
        "# visualize the transactions per day\n",
        "transactions_per_day.plot(kind='bar', title='Transaction Per Day')"
      ]
    },
    {
      "cell_type": "code",
      "execution_count": 45,
      "id": "3b56cda5",
      "metadata": {
        "execution": {
          "iopub.execute_input": "2022-12-14T15:57:22.926361Z",
          "iopub.status.busy": "2022-12-14T15:57:22.925154Z",
          "iopub.status.idle": "2022-12-14T15:57:23.186917Z",
          "shell.execute_reply": "2022-12-14T15:57:23.185599Z"
        },
        "papermill": {
          "duration": 0.304737,
          "end_time": "2022-12-14T15:57:23.189686",
          "exception": false,
          "start_time": "2022-12-14T15:57:22.884949",
          "status": "completed"
        },
        "tags": [],
        "id": "3b56cda5",
        "outputId": "b0192b33-6f9f-40fa-e1c7-f4eb0ef6ee43",
        "colab": {
          "base_uri": "https://localhost:8080/",
          "height": 541
        }
      },
      "outputs": [
        {
          "output_type": "stream",
          "name": "stdout",
          "text": [
            "Time\n",
            "10    101\n",
            "11     90\n",
            "12     89\n",
            "13    103\n",
            "14     83\n",
            "15    102\n",
            "16     77\n",
            "17     74\n",
            "18     93\n",
            "19    113\n",
            "20     75\n",
            "Name: Invoice ID, dtype: int64\n"
          ]
        },
        {
          "output_type": "execute_result",
          "data": {
            "text/plain": [
              "<matplotlib.axes._subplots.AxesSubplot at 0x7f3262041c40>"
            ]
          },
          "metadata": {},
          "execution_count": 45
        },
        {
          "output_type": "display_data",
          "data": {
            "text/plain": [
              "<Figure size 432x288 with 1 Axes>"
            ],
            "image/png": "[encoded data removed]"
          },
          "metadata": {
            "needs_background": "light"
          }
        }
      ],
      "source": [
        "# calculate the total number of transactions per hour\n",
        "df['Time'] = pd.to_datetime(df['Time'])\n",
        "transactions_per_hour = df.groupby(df['Time'].dt.strftime('%H'))['Invoice ID'].nunique()\n",
        "\n",
        "print(transactions_per_hour)\n",
        "\n",
        "# visualize the transactions per hour\n",
        "transactions_per_hour.plot(kind='bar', title = 'Transactions Per Hour')"
      ]
    },
    {
      "cell_type": "markdown",
      "id": "438f9c5c",
      "metadata": {
        "papermill": {
          "duration": 0.037526,
          "end_time": "2022-12-14T15:57:23.264925",
          "exception": false,
          "start_time": "2022-12-14T15:57:23.227399",
          "status": "completed"
        },
        "tags": [],
        "id": "438f9c5c"
      },
      "source": [
        "**21. What are the most commonly purchased products on weekends, and how does this compare to weekdays?**"
      ]
    },
    {
      "cell_type": "code",
      "execution_count": 46,
      "id": "db7e3aa4",
      "metadata": {
        "execution": {
          "iopub.execute_input": "2022-12-14T15:57:23.344346Z",
          "iopub.status.busy": "2022-12-14T15:57:23.343458Z",
          "iopub.status.idle": "2022-12-14T15:57:23.366510Z",
          "shell.execute_reply": "2022-12-14T15:57:23.365470Z"
        },
        "papermill": {
          "duration": 0.065503,
          "end_time": "2022-12-14T15:57:23.369339",
          "exception": false,
          "start_time": "2022-12-14T15:57:23.303836",
          "status": "completed"
        },
        "tags": [],
        "id": "db7e3aa4"
      },
      "outputs": [],
      "source": [
        "# group the data by product line and day of the week and calculate the total quantity sold for each group\n",
        "product_data = df.groupby(['Product line', df['Date'].dt.strftime('%a')])['Quantity'].sum()\n",
        "\n",
        "# select the groups for weekends and weekdays\n",
        "weekend_data = product_data.loc[:, ['Sat', 'Sun']]\n",
        "weekday_data = product_data.loc[:, ['Mon', 'Tue', 'Wed', 'Thu', 'Fri']]\n",
        "\n",
        "# sum the quantities for each product line on weekends and weekdays\n",
        "weekend_data = weekend_data.groupby('Product line').sum()\n",
        "weekday_data = weekday_data.groupby('Product line').sum()\n",
        "\n",
        "# sort the data in descending order\n",
        "weekend_data = weekend_data.sort_values(ascending=False)\n",
        "weekday_data = weekday_data.sort_values(ascending=False)"
      ]
    },
    {
      "cell_type": "markdown",
      "id": "ed63a6fb",
      "metadata": {
        "papermill": {
          "duration": 0.037314,
          "end_time": "2022-12-14T15:57:23.444548",
          "exception": false,
          "start_time": "2022-12-14T15:57:23.407234",
          "status": "completed"
        },
        "tags": [],
        "id": "ed63a6fb"
      },
      "source": [
        "**Top products sold on weekdays**"
      ]
    },
    {
      "cell_type": "code",
      "execution_count": 47,
      "id": "4fa0466a",
      "metadata": {
        "execution": {
          "iopub.execute_input": "2022-12-14T15:57:23.522488Z",
          "iopub.status.busy": "2022-12-14T15:57:23.522052Z",
          "iopub.status.idle": "2022-12-14T15:57:23.717100Z",
          "shell.execute_reply": "2022-12-14T15:57:23.715829Z"
        },
        "papermill": {
          "duration": 0.237215,
          "end_time": "2022-12-14T15:57:23.719995",
          "exception": false,
          "start_time": "2022-12-14T15:57:23.482780",
          "status": "completed"
        },
        "tags": [],
        "id": "4fa0466a",
        "outputId": "cdbae699-08cc-49a3-b9ec-f79262f15f2a",
        "colab": {
          "base_uri": "https://localhost:8080/",
          "height": 570
        }
      },
      "outputs": [
        {
          "output_type": "stream",
          "name": "stdout",
          "text": [
            "Top products sold on weekdays:\n",
            "Product line\n",
            "Electronic accessories    678\n",
            "Health and beauty         667\n",
            "Food and beverages        662\n",
            "Fashion accessories       620\n",
            "Sports and travel         611\n",
            "Home and lifestyle        575\n",
            "Name: Quantity, dtype: int64\n"
          ]
        },
        {
          "output_type": "execute_result",
          "data": {
            "text/plain": [
              "<matplotlib.axes._subplots.AxesSubplot at 0x7f3261fff220>"
            ]
          },
          "metadata": {},
          "execution_count": 47
        },
        {
          "output_type": "display_data",
          "data": {
            "text/plain": [
              "<Figure size 432x288 with 1 Axes>"
            ],
            "image/png": "[encoded data removed]"
          },
          "metadata": {
            "needs_background": "light"
          }
        }
      ],
      "source": [
        "print('Top products sold on weekdays:')\n",
        "print(weekday_data.head(10))\n",
        "\n",
        "# visualize the top products sold on weekdays\n",
        "weekday_data.head(10).plot(kind='bar', title = 'Top Products Sold on Weekdays')"
      ]
    },
    {
      "cell_type": "markdown",
      "id": "c2f9ca8c",
      "metadata": {
        "papermill": {
          "duration": 0.039131,
          "end_time": "2022-12-14T15:57:23.798372",
          "exception": false,
          "start_time": "2022-12-14T15:57:23.759241",
          "status": "completed"
        },
        "tags": [],
        "id": "c2f9ca8c"
      },
      "source": [
        "**Top products sold on weekends**"
      ]
    },
    {
      "cell_type": "code",
      "execution_count": 48,
      "id": "ac071cb7",
      "metadata": {
        "execution": {
          "iopub.execute_input": "2022-12-14T15:57:23.879860Z",
          "iopub.status.busy": "2022-12-14T15:57:23.878771Z",
          "iopub.status.idle": "2022-12-14T15:57:24.065055Z",
          "shell.execute_reply": "2022-12-14T15:57:24.064017Z"
        },
        "papermill": {
          "duration": 0.230215,
          "end_time": "2022-12-14T15:57:24.067587",
          "exception": false,
          "start_time": "2022-12-14T15:57:23.837372",
          "status": "completed"
        },
        "tags": [],
        "id": "ac071cb7",
        "outputId": "2c7214e4-0228-4205-b675-9d9f32384198",
        "colab": {
          "base_uri": "https://localhost:8080/",
          "height": 570
        }
      },
      "outputs": [
        {
          "output_type": "stream",
          "name": "stdout",
          "text": [
            "Top products sold on weekends:\n",
            "Product line\n",
            "Home and lifestyle        336\n",
            "Sports and travel         309\n",
            "Electronic accessories    293\n",
            "Food and beverages        290\n",
            "Fashion accessories       282\n",
            "Health and beauty         187\n",
            "Name: Quantity, dtype: int64\n"
          ]
        },
        {
          "output_type": "execute_result",
          "data": {
            "text/plain": [
              "<matplotlib.axes._subplots.AxesSubplot at 0x7f326204b160>"
            ]
          },
          "metadata": {},
          "execution_count": 48
        },
        {
          "output_type": "display_data",
          "data": {
            "text/plain": [
              "<Figure size 432x288 with 1 Axes>"
            ],
            "image/png": "[encoded data removed]"
          },
          "metadata": {
            "needs_background": "light"
          }
        }
      ],
      "source": [
        "print('Top products sold on weekends:')\n",
        "print(weekend_data.head(10))\n",
        "\n",
        "# visualize the top products sold on weekends\n",
        "weekend_data.head(10).plot(kind='bar', title = 'Top Products Sold on Weekends')"
      ]
    },
    {
      "cell_type": "markdown",
      "id": "f9fe1900",
      "metadata": {
        "papermill": {
          "duration": 0.039226,
          "end_time": "2022-12-14T15:57:24.148022",
          "exception": false,
          "start_time": "2022-12-14T15:57:24.108796",
          "status": "completed"
        },
        "tags": [],
        "id": "f9fe1900"
      },
      "source": [
        "**22. What is the relationship between the date and time of a transaction and the customer's gender, type, and payment method?**"
      ]
    },
    {
      "cell_type": "code",
      "execution_count": 49,
      "id": "9c7df440",
      "metadata": {
        "execution": {
          "iopub.execute_input": "2022-12-14T15:57:24.230472Z",
          "iopub.status.busy": "2022-12-14T15:57:24.229725Z",
          "iopub.status.idle": "2022-12-14T15:57:24.247847Z",
          "shell.execute_reply": "2022-12-14T15:57:24.246071Z"
        },
        "papermill": {
          "duration": 0.062899,
          "end_time": "2022-12-14T15:57:24.250649",
          "exception": false,
          "start_time": "2022-12-14T15:57:24.187750",
          "status": "completed"
        },
        "tags": [],
        "id": "9c7df440",
        "outputId": "8f0c04cc-ce7f-4220-c449-ec55f595b91a",
        "colab": {
          "base_uri": "https://localhost:8080/"
        }
      },
      "outputs": [
        {
          "output_type": "stream",
          "name": "stdout",
          "text": [
            "Top 10 groups with the highest total quantity sold:\n",
            "Gender  Customer type  Payment      Date        Time               \n",
            "Male    Normal         Ewallet      2019-03-29  2022-12-29 10:25:00    10\n",
            "        Member         Credit card  2019-02-14  2022-12-29 11:26:00    10\n",
            "Female  Member         Ewallet      2019-01-30  2022-12-29 20:23:00    10\n",
            "                                    2019-02-10  2022-12-29 12:28:00    10\n",
            "                                    2019-02-22  2022-12-29 12:30:00    10\n",
            "Male    Member         Credit card  2019-03-20  2022-12-29 19:57:00    10\n",
            "Female  Member         Ewallet      2019-03-05  2022-12-29 16:24:00    10\n",
            "                                    2019-03-08  2022-12-29 10:53:00    10\n",
            "Male    Member         Credit card  2019-03-17  2022-12-29 19:06:00    10\n",
            "Female  Member         Ewallet      2019-03-18  2022-12-29 17:38:00    10\n",
            "Name: Quantity, dtype: int64\n"
          ]
        }
      ],
      "source": [
        "# group the data by gender, customer type, payment method, and date and time and calculate the total quantity sold for each group\n",
        "transaction_data = df.groupby(['Gender', 'Customer type', 'Payment', 'Date', 'Time'])['Quantity'].sum()\n",
        "\n",
        "# print the top 10 groups with the highest total quantity sold\n",
        "print('Top 10 groups with the highest total quantity sold:')\n",
        "print(transaction_data.sort_values(ascending=False).head(10))\n"
      ]
    },
    {
      "cell_type": "code",
      "execution_count": 50,
      "id": "a11c8c51",
      "metadata": {
        "execution": {
          "iopub.execute_input": "2022-12-14T15:57:24.332420Z",
          "iopub.status.busy": "2022-12-14T15:57:24.331455Z",
          "iopub.status.idle": "2022-12-14T15:57:24.504121Z",
          "shell.execute_reply": "2022-12-14T15:57:24.503228Z"
        },
        "papermill": {
          "duration": 0.216194,
          "end_time": "2022-12-14T15:57:24.506898",
          "exception": false,
          "start_time": "2022-12-14T15:57:24.290704",
          "status": "completed"
        },
        "tags": [],
        "id": "a11c8c51",
        "outputId": "a63a1f53-e9ba-420e-8c14-de952d2ba796",
        "colab": {
          "base_uri": "https://localhost:8080/",
          "height": 390
        }
      },
      "outputs": [
        {
          "output_type": "display_data",
          "data": {
            "text/plain": [
              "<Figure size 432x432 with 1 Axes>"
            ],
            "image/png": "[encoded data removed]"
          },
          "metadata": {
            "needs_background": "light"
          }
        }
      ],
      "source": [
        "from pandas.plotting import scatter_matrix\n",
        "\n",
        "transaction_data = transaction_data.to_frame()\n",
        "\n",
        "# create a scatter matrix plot of the data\n",
        "scatter_matrix(transaction_data, alpha=0.2, figsize=(6, 6), diagonal='kde')\n",
        "\n",
        "# show the plot\n",
        "plt.show()\n"
      ]
    },
    {
      "cell_type": "markdown",
      "id": "7682fcb7",
      "metadata": {
        "papermill": {
          "duration": 0.03947,
          "end_time": "2022-12-14T15:57:24.586141",
          "exception": false,
          "start_time": "2022-12-14T15:57:24.546671",
          "status": "completed"
        },
        "tags": [],
        "id": "7682fcb7"
      },
      "source": [
        "The density estimates on the diagonal of the scatter matrix plot refer to the distribution of values for each variable. These estimates can be useful for understanding the overall distribution of values for each variable in the dataset.\n",
        "\n",
        "Overall, the scatter matrix plot provides a compact and efficient way to visualize the relationships between multiple variables and to identify potential trends or patterns in the data."
      ]
    },
    {
      "cell_type": "markdown",
      "id": "7e4e557b",
      "metadata": {
        "papermill": {
          "duration": 0.038119,
          "end_time": "2022-12-14T15:57:24.663431",
          "exception": false,
          "start_time": "2022-12-14T15:57:24.625312",
          "status": "completed"
        },
        "tags": [],
        "id": "7e4e557b"
      },
      "source": [
        "**23. What is the relationship between the date and time of a transaction and the total amount spent?**"
      ]
    },
    {
      "cell_type": "code",
      "execution_count": 51,
      "id": "de491d06",
      "metadata": {
        "execution": {
          "iopub.execute_input": "2022-12-14T15:57:24.743001Z",
          "iopub.status.busy": "2022-12-14T15:57:24.742380Z",
          "iopub.status.idle": "2022-12-14T15:57:25.344331Z",
          "shell.execute_reply": "2022-12-14T15:57:25.343082Z"
        },
        "papermill": {
          "duration": 0.645983,
          "end_time": "2022-12-14T15:57:25.347931",
          "exception": false,
          "start_time": "2022-12-14T15:57:24.701948",
          "status": "completed"
        },
        "tags": [],
        "id": "de491d06",
        "outputId": "7e6ff2c4-0535-4247-bbad-9dafbc2351bf",
        "colab": {
          "base_uri": "https://localhost:8080/",
          "height": 441
        }
      },
      "outputs": [
        {
          "output_type": "display_data",
          "data": {
            "text/plain": [
              "<Figure size 432x432 with 3 Axes>"
            ],
            "image/png": "[encoded data removed]"
          },
          "metadata": {
            "needs_background": "light"
          }
        }
      ],
      "source": [
        "# import seaborn\n",
        "import seaborn as sns\n",
        "\n",
        "# create the joint plot\n",
        "\n",
        "sns.jointplot(x='Date', y='Time', data=transaction_data, kind='scatter')\n",
        "\n",
        "# add labels and title\n",
        "plt.xlabel('Date')\n",
        "plt.ylabel('Time')\n",
        "plt.title('Transaction Date and Time vs. Total Amount Spent')\n",
        "\n",
        "# show the plot\n",
        "plt.show()\n"
      ]
    },
    {
      "cell_type": "markdown",
      "id": "30b71c38",
      "metadata": {
        "papermill": {
          "duration": 0.039753,
          "end_time": "2022-12-14T15:57:25.431940",
          "exception": false,
          "start_time": "2022-12-14T15:57:25.392187",
          "status": "completed"
        },
        "tags": [],
        "id": "30b71c38"
      },
      "source": [
        "This jointplot can show the relationship between the date and time of a transaction and the total amount spent. This can be useful for identifying trends or patterns in customer spending habits over time.\n",
        "\n",
        "The plot itself consists of two histograms - one for the date and one for the time - as well as a scatter plot showing the relationship between the two variables. The color of the points in the scatter plot indicates the value of the total amount spent, allowing you to see at a glance how the amount spent varies over time.\n",
        "\n",
        "Overall, the jointplot provides a visual representation of the relationship between the date and time of a transaction and the total amount spent, allowing you to quickly identify trends and patterns in the data."
      ]
    },
    {
      "cell_type": "markdown",
      "id": "c66b4ac1",
      "metadata": {
        "papermill": {
          "duration": 0.039982,
          "end_time": "2022-12-14T15:57:25.512349",
          "exception": false,
          "start_time": "2022-12-14T15:57:25.472367",
          "status": "completed"
        },
        "tags": [],
        "id": "c66b4ac1"
      },
      "source": [
        "**24. Are there any patterns in the data that suggest potential fraud or other unusual activity, such as multiple transactions with the same invoice ID or unusually high or low values for certain variables?**"
      ]
    },
    {
      "cell_type": "code",
      "execution_count": 52,
      "id": "d549584a",
      "metadata": {
        "execution": {
          "iopub.execute_input": "2022-12-14T15:57:25.597501Z",
          "iopub.status.busy": "2022-12-14T15:57:25.596776Z",
          "iopub.status.idle": "2022-12-14T15:57:25.616477Z",
          "shell.execute_reply": "2022-12-14T15:57:25.615071Z"
        },
        "papermill": {
          "duration": 0.067737,
          "end_time": "2022-12-14T15:57:25.619691",
          "exception": false,
          "start_time": "2022-12-14T15:57:25.551954",
          "status": "completed"
        },
        "tags": [],
        "id": "d549584a",
        "outputId": "4877772e-b668-4670-db66-99a85ebf4026",
        "colab": {
          "base_uri": "https://localhost:8080/"
        }
      },
      "outputs": [
        {
          "output_type": "stream",
          "name": "stdout",
          "text": [
            "Empty DataFrame\n",
            "Columns: [Invoice ID, Branch, City, Product line, Unit price, Quantity, Total, Date, Time, Payment]\n",
            "Index: []\n",
            "Empty DataFrame\n",
            "Columns: [Invoice ID, Branch, City, Product line, Unit price, Quantity, Total, Date, Time, Payment]\n",
            "Index: []\n"
          ]
        }
      ],
      "source": [
        "# identify transactions with duplicate invoice IDs\n",
        "duplicate_invoices = df[df.duplicated(['Invoice ID'])]\n",
        "\n",
        "# print the characteristics of transactions with duplicate invoice IDs\n",
        "print(duplicate_invoices[['Invoice ID', 'Branch', 'City', 'Product line', 'Unit price', 'Quantity', 'Total', 'Date', 'Time', 'Payment']])\n",
        "\n",
        "# calculate the z-score of each transaction\n",
        "df['z_score'] = (df['Total'] - df['Total'].mean()) / df['Total'].std()  # z = (x - mu)/sigma\n",
        "\n",
        "# identify transactions with a z-score greater than 3 or less than -3\n",
        "outliers = df[(df['z_score'] > 3) | (df['z_score'] < -3)]\n",
        "\n",
        "# print the characteristics of transactions with unusually high or low values\n",
        "print(outliers[['Invoice ID', 'Branch', 'City', 'Product line', 'Unit price', 'Quantity', 'Total', 'Date', 'Time', 'Payment']])"
      ]
    },
    {
      "cell_type": "markdown",
      "id": "73730f1d",
      "metadata": {
        "papermill": {
          "duration": 0.042702,
          "end_time": "2022-12-14T15:57:25.705032",
          "exception": false,
          "start_time": "2022-12-14T15:57:25.662330",
          "status": "completed"
        },
        "tags": [],
        "id": "73730f1d"
      },
      "source": [
        "Since we got two empty dataframes with no rows, it means that there were no transactions with duplicate invoice IDs or unusually high or low values in the dataset (outliers). This could be because the dataset is small (containing just 3 months worth of transactions) and doesn't contain any transactions with extremely high or low values, or it could be because the input data has already been cleaned and any outlier transactions have been removed"
      ]
    },
    {
      "cell_type": "markdown",
      "source": [
        "**25. Plotting Histogram table for all the columns.**"
      ],
      "metadata": {
        "id": "qio1nuo-lxUf"
      },
      "id": "qio1nuo-lxUf"
    },
    {
      "cell_type": "code",
      "source": [
        "# Plotting Histogram for all\n",
        "df.hist(figsize=(12,12))\n",
        "plt.show()"
      ],
      "metadata": {
        "colab": {
          "base_uri": "https://localhost:8080/",
          "height": 729
        },
        "id": "0BrEszZmlPFa",
        "outputId": "41b2da82-6b2c-412b-af60-446b06978f2f"
      },
      "id": "0BrEszZmlPFa",
      "execution_count": 53,
      "outputs": [
        {
          "output_type": "display_data",
          "data": {
            "text/plain": [
              "<Figure size 864x864 with 12 Axes>"
            ],
            "image/png": "[encoded data removed]"
          },
          "metadata": {
            "needs_background": "light"
          }
        }
      ]
    },
    {
      "cell_type": "markdown",
      "id": "ec3811ca",
      "metadata": {
        "papermill": {
          "duration": 0.039628,
          "end_time": "2022-12-14T15:57:25.785049",
          "exception": false,
          "start_time": "2022-12-14T15:57:25.745421",
          "status": "completed"
        },
        "tags": [],
        "id": "ec3811ca"
      },
      "source": [
        "#### **Data Modelling** <a class=\"anchor\" id=\"dm\"></a>"
      ]
    },
    {
      "cell_type": "markdown",
      "id": "6ab9e837",
      "metadata": {
        "papermill": {
          "duration": 0.040474,
          "end_time": "2022-12-14T15:57:25.873854",
          "exception": false,
          "start_time": "2022-12-14T15:57:25.833380",
          "status": "completed"
        },
        "tags": [],
        "id": "6ab9e837"
      },
      "source": [
        "#### **K-Means** <a class=\"anchor\" id=\"km\"></a>"
      ]
    },
    {
      "cell_type": "markdown",
      "id": "ea76ab7b",
      "metadata": {
        "papermill": {
          "duration": 0.039747,
          "end_time": "2022-12-14T15:57:25.953223",
          "exception": false,
          "start_time": "2022-12-14T15:57:25.913476",
          "status": "completed"
        },
        "tags": [],
        "id": "ea76ab7b"
      },
      "source": [
        "Let's apply machine learning algorithms to the dataset. For example, we can use a clustering algorithm to group the customers into different segments based on their spending patterns and preferences. This can help us understand the different types of customers and tailor our marketing and sales strategies accordingly.\n",
        "\n",
        "We will use K-Means clustering algorithm to group the customers into three segments:"
      ]
    },
    {
      "cell_type": "code",
      "execution_count": 54,
      "id": "50b918e0",
      "metadata": {
        "execution": {
          "iopub.execute_input": "2022-12-14T15:57:26.035314Z",
          "iopub.status.busy": "2022-12-14T15:57:26.034363Z",
          "iopub.status.idle": "2022-12-14T15:57:26.680489Z",
          "shell.execute_reply": "2022-12-14T15:57:26.676335Z"
        },
        "papermill": {
          "duration": 0.693247,
          "end_time": "2022-12-14T15:57:26.685728",
          "exception": false,
          "start_time": "2022-12-14T15:57:25.992481",
          "status": "completed"
        },
        "tags": [],
        "id": "50b918e0",
        "outputId": "63c89e90-b73f-43c9-90bf-12a00a4b576c",
        "colab": {
          "base_uri": "https://localhost:8080/"
        }
      },
      "outputs": [
        {
          "output_type": "stream",
          "name": "stdout",
          "text": [
            "Segment\n",
            "0    132.628777\n",
            "1    403.044149\n",
            "2    759.660586\n",
            "Name: Total, dtype: float64\n"
          ]
        }
      ],
      "source": [
        "# import necessary libraries\n",
        "from sklearn.cluster import KMeans\n",
        "\n",
        "# create a new DataFrame with only the relevant columns\n",
        "df_clustering = df[['Customer type', 'Gender', 'Total']]\n",
        "\n",
        "# apply one-hot encoding to the categorical columns\n",
        "df_clustering = pd.get_dummies(df_clustering)\n",
        "\n",
        "# initialize the K-Means model with 3 clusters\n",
        "kmeans = KMeans(n_clusters=3)\n",
        "\n",
        "# fit the model to the data\n",
        "kmeans.fit(df_clustering)\n",
        "\n",
        "# predict the clusters for each data point\n",
        "predicted_clusters = kmeans.predict(df_clustering)\n",
        "\n",
        "# add the predicted clusters as a new column to the DataFrame\n",
        "df_clustering['Segment'] = predicted_clusters\n",
        "\n",
        "# group the data by segment and calculate the average total amount spent by each segment\n",
        "df_segment_sales = df_clustering.groupby('Segment')['Total'].mean()\n",
        "print(df_segment_sales)"
      ]
    },
    {
      "cell_type": "markdown",
      "id": "f66b0e30",
      "metadata": {
        "papermill": {
          "duration": 0.042889,
          "end_time": "2022-12-14T15:57:26.793334",
          "exception": false,
          "start_time": "2022-12-14T15:57:26.750445",
          "status": "completed"
        },
        "tags": [],
        "id": "f66b0e30"
      },
      "source": [
        "This code first preprocesses the data by applying one-hot encoding to the categorical columns and then uses the K-Means algorithm to group the customers into three segments. Finally, it calculates the average total amount spent by each segment. We can then analyze the characteristics of each segment and tailor our marketing and sales strategies accordingly."
      ]
    },
    {
      "cell_type": "code",
      "source": [
        "df_clustering[df_clustering.Segment == 2]"
      ],
      "metadata": {
        "colab": {
          "base_uri": "https://localhost:8080/",
          "height": 424
        },
        "id": "ejK481SZ1r2p",
        "outputId": "566a053f-9f4e-4579-ccd6-61df7574f83d"
      },
      "id": "ejK481SZ1r2p",
      "execution_count": 55,
      "outputs": [
        {
          "output_type": "execute_result",
          "data": {
            "text/plain": [
              "         Total  Customer type_Member  Customer type_Normal  Gender_Female  \\\n",
              "4     634.3785                     0                     1              0   \n",
              "5     627.6165                     0                     1              0   \n",
              "7     772.3800                     0                     1              1   \n",
              "14    749.4900                     0                     1              1   \n",
              "15    590.4360                     1                     0              1   \n",
              "..         ...                   ...                   ...            ...   \n",
              "988   864.5700                     1                     0              0   \n",
              "989   633.1080                     1                     0              0   \n",
              "991   804.3000                     0                     1              1   \n",
              "996  1022.4900                     0                     1              1   \n",
              "999   649.2990                     1                     0              1   \n",
              "\n",
              "     Gender_Male  Segment  \n",
              "4              1        2  \n",
              "5              1        2  \n",
              "7              0        2  \n",
              "14             0        2  \n",
              "15             0        2  \n",
              "..           ...      ...  \n",
              "988            1        2  \n",
              "989            1        2  \n",
              "991            0        2  \n",
              "996            0        2  \n",
              "999            0        2  \n",
              "\n",
              "[169 rows x 6 columns]"
            ],
            "text/html": [
              "\n",
              "  <div id=\"df-4ec52d20-2947-4cbd-83da-5555313ebaf1\">\n",
              "    <div class=\"colab-df-container\">\n",
              "      <div>\n",
              "<style scoped>\n",
              "    .dataframe tbody tr th:only-of-type {\n",
              "        vertical-align: middle;\n",
              "    }\n",
              "\n",
              "    .dataframe tbody tr th {\n",
              "        vertical-align: top;\n",
              "    }\n",
              "\n",
              "    .dataframe thead th {\n",
              "        text-align: right;\n",
              "    }\n",
              "</style>\n",
              "<table border=\"1\" class=\"dataframe\">\n",
              "  <thead>\n",
              "    <tr style=\"text-align: right;\">\n",
              "      <th></th>\n",
              "      <th>Total</th>\n",
              "      <th>Customer type_Member</th>\n",
              "      <th>Customer type_Normal</th>\n",
              "      <th>Gender_Female</th>\n",
              "      <th>Gender_Male</th>\n",
              "      <th>Segment</th>\n",
              "    </tr>\n",
              "  </thead>\n",
              "  <tbody>\n",
              "    <tr>\n",
              "      <th>4</th>\n",
              "      <td>634.3785</td>\n",
              "      <td>0</td>\n",
              "      <td>1</td>\n",
              "      <td>0</td>\n",
              "      <td>1</td>\n",
              "      <td>2</td>\n",
              "    </tr>\n",
              "    <tr>\n",
              "      <th>5</th>\n",
              "      <td>627.6165</td>\n",
              "      <td>0</td>\n",
              "      <td>1</td>\n",
              "      <td>0</td>\n",
              "      <td>1</td>\n",
              "      <td>2</td>\n",
              "    </tr>\n",
              "    <tr>\n",
              "      <th>7</th>\n",
              "      <td>772.3800</td>\n",
              "      <td>0</td>\n",
              "      <td>1</td>\n",
              "      <td>1</td>\n",
              "      <td>0</td>\n",
              "      <td>2</td>\n",
              "    </tr>\n",
              "    <tr>\n",
              "      <th>14</th>\n",
              "      <td>749.4900</td>\n",
              "      <td>0</td>\n",
              "      <td>1</td>\n",
              "      <td>1</td>\n",
              "      <td>0</td>\n",
              "      <td>2</td>\n",
              "    </tr>\n",
              "    <tr>\n",
              "      <th>15</th>\n",
              "      <td>590.4360</td>\n",
              "      <td>1</td>\n",
              "      <td>0</td>\n",
              "      <td>1</td>\n",
              "      <td>0</td>\n",
              "      <td>2</td>\n",
              "    </tr>\n",
              "    <tr>\n",
              "      <th>...</th>\n",
              "      <td>...</td>\n",
              "      <td>...</td>\n",
              "      <td>...</td>\n",
              "      <td>...</td>\n",
              "      <td>...</td>\n",
              "      <td>...</td>\n",
              "    </tr>\n",
              "    <tr>\n",
              "      <th>988</th>\n",
              "      <td>864.5700</td>\n",
              "      <td>1</td>\n",
              "      <td>0</td>\n",
              "      <td>0</td>\n",
              "      <td>1</td>\n",
              "      <td>2</td>\n",
              "    </tr>\n",
              "    <tr>\n",
              "      <th>989</th>\n",
              "      <td>633.1080</td>\n",
              "      <td>1</td>\n",
              "      <td>0</td>\n",
              "      <td>0</td>\n",
              "      <td>1</td>\n",
              "      <td>2</td>\n",
              "    </tr>\n",
              "    <tr>\n",
              "      <th>991</th>\n",
              "      <td>804.3000</td>\n",
              "      <td>0</td>\n",
              "      <td>1</td>\n",
              "      <td>1</td>\n",
              "      <td>0</td>\n",
              "      <td>2</td>\n",
              "    </tr>\n",
              "    <tr>\n",
              "      <th>996</th>\n",
              "      <td>1022.4900</td>\n",
              "      <td>0</td>\n",
              "      <td>1</td>\n",
              "      <td>1</td>\n",
              "      <td>0</td>\n",
              "      <td>2</td>\n",
              "    </tr>\n",
              "    <tr>\n",
              "      <th>999</th>\n",
              "      <td>649.2990</td>\n",
              "      <td>1</td>\n",
              "      <td>0</td>\n",
              "      <td>1</td>\n",
              "      <td>0</td>\n",
              "      <td>2</td>\n",
              "    </tr>\n",
              "  </tbody>\n",
              "</table>\n",
              "<p>169 rows × 6 columns</p>\n",
              "</div>\n",
              "      <button class=\"colab-df-convert\" onclick=\"convertToInteractive('df-4ec52d20-2947-4cbd-83da-5555313ebaf1')\"\n",
              "              title=\"Convert this dataframe to an interactive table.\"\n",
              "              style=\"display:none;\">\n",
              "        \n",
              "  <svg xmlns=\"http://www.w3.org/2000/svg\" height=\"24px\"viewBox=\"0 0 24 24\"\n",
              "       width=\"24px\">\n",
              "    <path d=\"M0 0h24v24H0V0z\" fill=\"none\"/>\n",
              "    <path d=\"M18.56 5.44l.94 2.06.94-2.06 2.06-.94-2.06-.94-.94-2.06-.94 2.06-2.06.94zm-11 1L8.5 8.5l.94-2.06 2.06-.94-2.06-.94L8.5 2.5l-.94 2.06-2.06.94zm10 10l.94 2.06.94-2.06 2.06-.94-2.06-.94-.94-2.06-.94 2.06-2.06.94z\"/><path d=\"M17.41 7.96l-1.37-1.37c-.4-.4-.92-.59-1.43-.59-.52 0-1.04.2-1.43.59L10.3 9.45l-7.72 7.72c-.78.78-.78 2.05 0 2.83L4 21.41c.39.39.9.59 1.41.59.51 0 1.02-.2 1.41-.59l7.78-7.78 2.81-2.81c.8-.78.8-2.07 0-2.86zM5.41 20L4 18.59l7.72-7.72 1.47 1.35L5.41 20z\"/>\n",
              "  </svg>\n",
              "      </button>\n",
              "      \n",
              "  <style>\n",
              "    .colab-df-container {\n",
              "      display:flex;\n",
              "      flex-wrap:wrap;\n",
              "      gap: 12px;\n",
              "    }\n",
              "\n",
              "    .colab-df-convert {\n",
              "      background-color: #E8F0FE;\n",
              "      border: none;\n",
              "      border-radius: 50%;\n",
              "      cursor: pointer;\n",
              "      display: none;\n",
              "      fill: #1967D2;\n",
              "      height: 32px;\n",
              "      padding: 0 0 0 0;\n",
              "      width: 32px;\n",
              "    }\n",
              "\n",
              "    .colab-df-convert:hover {\n",
              "      background-color: #E2EBFA;\n",
              "      box-shadow: 0px 1px 2px rgba(60, 64, 67, 0.3), 0px 1px 3px 1px rgba(60, 64, 67, 0.15);\n",
              "      fill: #174EA6;\n",
              "    }\n",
              "\n",
              "    [theme=dark] .colab-df-convert {\n",
              "      background-color: #3B4455;\n",
              "      fill: #D2E3FC;\n",
              "    }\n",
              "\n",
              "    [theme=dark] .colab-df-convert:hover {\n",
              "      background-color: #434B5C;\n",
              "      box-shadow: 0px 1px 3px 1px rgba(0, 0, 0, 0.15);\n",
              "      filter: drop-shadow(0px 1px 2px rgba(0, 0, 0, 0.3));\n",
              "      fill: #FFFFFF;\n",
              "    }\n",
              "  </style>\n",
              "\n",
              "      <script>\n",
              "        const buttonEl =\n",
              "          document.querySelector('#df-4ec52d20-2947-4cbd-83da-5555313ebaf1 button.colab-df-convert');\n",
              "        buttonEl.style.display =\n",
              "          google.colab.kernel.accessAllowed ? 'block' : 'none';\n",
              "\n",
              "        async function convertToInteractive(key) {\n",
              "          const element = document.querySelector('#df-4ec52d20-2947-4cbd-83da-5555313ebaf1');\n",
              "          const dataTable =\n",
              "            await google.colab.kernel.invokeFunction('convertToInteractive',\n",
              "                                                     [key], {});\n",
              "          if (!dataTable) return;\n",
              "\n",
              "          const docLinkHtml = 'Like what you see? Visit the ' +\n",
              "            '<a target=\"_blank\" href=https://colab.research.google.com/notebooks/data_table.ipynb>data table notebook</a>'\n",
              "            + ' to learn more about interactive tables.';\n",
              "          element.innerHTML = '';\n",
              "          dataTable['output_type'] = 'display_data';\n",
              "          await google.colab.output.renderOutput(dataTable, element);\n",
              "          const docLink = document.createElement('div');\n",
              "          docLink.innerHTML = docLinkHtml;\n",
              "          element.appendChild(docLink);\n",
              "        }\n",
              "      </script>\n",
              "    </div>\n",
              "  </div>\n",
              "  "
            ]
          },
          "metadata": {},
          "execution_count": 55
        }
      ]
    },
    {
      "cell_type": "code",
      "execution_count": 56,
      "id": "99acf0e4",
      "metadata": {
        "execution": {
          "iopub.execute_input": "2022-12-14T15:57:26.881227Z",
          "iopub.status.busy": "2022-12-14T15:57:26.880677Z",
          "iopub.status.idle": "2022-12-14T15:57:26.893812Z",
          "shell.execute_reply": "2022-12-14T15:57:26.892448Z"
        },
        "papermill": {
          "duration": 0.061335,
          "end_time": "2022-12-14T15:57:26.897388",
          "exception": false,
          "start_time": "2022-12-14T15:57:26.836053",
          "status": "completed"
        },
        "tags": [],
        "id": "99acf0e4",
        "outputId": "ca2c5462-7297-4153-a49a-c1a9eb2b8329",
        "colab": {
          "base_uri": "https://localhost:8080/"
        }
      },
      "outputs": [
        {
          "output_type": "stream",
          "name": "stdout",
          "text": [
            "Segment  Customer type_Member  Customer type_Normal\n",
            "0        0                     1                       267\n",
            "         1                     0                       252\n",
            "1        0                     1                       150\n",
            "         1                     0                       162\n",
            "2        0                     1                        82\n",
            "         1                     0                        87\n",
            "dtype: int64\n"
          ]
        }
      ],
      "source": [
        "# group the data by segment and customer type\n",
        "\n",
        "df_segment_type = df_clustering.groupby(['Segment', 'Customer type_Member', 'Customer type_Normal']).size()\n",
        "print(df_segment_type)"
      ]
    },
    {
      "cell_type": "code",
      "execution_count": 57,
      "id": "1d96b813",
      "metadata": {
        "execution": {
          "iopub.execute_input": "2022-12-14T15:57:26.981655Z",
          "iopub.status.busy": "2022-12-14T15:57:26.981107Z",
          "iopub.status.idle": "2022-12-14T15:57:26.993915Z",
          "shell.execute_reply": "2022-12-14T15:57:26.991994Z"
        },
        "papermill": {
          "duration": 0.05914,
          "end_time": "2022-12-14T15:57:26.996789",
          "exception": false,
          "start_time": "2022-12-14T15:57:26.937649",
          "status": "completed"
        },
        "tags": [],
        "id": "1d96b813",
        "outputId": "865ad7e9-c518-49a0-faaa-ff834c02993e",
        "colab": {
          "base_uri": "https://localhost:8080/"
        }
      },
      "outputs": [
        {
          "output_type": "stream",
          "name": "stdout",
          "text": [
            "Segment  Gender_Female  Gender_Male\n",
            "0        0              1              272\n",
            "         1              0              247\n",
            "1        0              1              144\n",
            "         1              0              168\n",
            "2        0              1               83\n",
            "         1              0               86\n",
            "dtype: int64\n"
          ]
        }
      ],
      "source": [
        "# group the data by segment and gender\n",
        "\n",
        "df_segment_gender = df_clustering.groupby(['Segment', 'Gender_Female', 'Gender_Male']).size()\n",
        "print(df_segment_gender)"
      ]
    },
    {
      "cell_type": "markdown",
      "id": "1957ccfc",
      "metadata": {
        "papermill": {
          "duration": 0.039845,
          "end_time": "2022-12-14T15:57:27.080292",
          "exception": false,
          "start_time": "2022-12-14T15:57:27.040447",
          "status": "completed"
        },
        "tags": [],
        "id": "1957ccfc"
      },
      "source": [
        "#### **Random Forest Classification** <a class=\"anchor\" id=\"rfc\"></a>"
      ]
    },
    {
      "cell_type": "markdown",
      "id": "c86a1856",
      "metadata": {
        "papermill": {
          "duration": 0.039867,
          "end_time": "2022-12-14T15:57:27.162632",
          "exception": false,
          "start_time": "2022-12-14T15:57:27.122765",
          "status": "completed"
        },
        "tags": [],
        "id": "c86a1856"
      },
      "source": [
        "Let's use classification algorithms to predict the customer ratings based on the other attributes in the dataset. This can help us understand the factors that influence customer ratings and improve our services to increase customer satisfaction.\n",
        "\n",
        "Using Random Forest classification algorithm to predict the customer ratings based on the other attributes in the dataset:"
      ]
    },
    {
      "cell_type": "code",
      "execution_count": 58,
      "id": "9425ea89",
      "metadata": {
        "execution": {
          "iopub.execute_input": "2022-12-14T15:57:27.245056Z",
          "iopub.status.busy": "2022-12-14T15:57:27.244612Z",
          "iopub.status.idle": "2022-12-14T15:57:27.921138Z",
          "shell.execute_reply": "2022-12-14T15:57:27.919688Z"
        },
        "papermill": {
          "duration": 0.72158,
          "end_time": "2022-12-14T15:57:27.924591",
          "exception": false,
          "start_time": "2022-12-14T15:57:27.203011",
          "status": "completed"
        },
        "tags": [],
        "id": "9425ea89",
        "outputId": "78b17e2f-6c14-40e9-b1ea-0d8be02c9b6f",
        "colab": {
          "base_uri": "https://localhost:8080/"
        }
      },
      "outputs": [
        {
          "output_type": "stream",
          "name": "stdout",
          "text": [
            "Accuracy: 0.355\n"
          ]
        }
      ],
      "source": [
        "# import necessary libraries\n",
        "from sklearn.ensemble import RandomForestClassifier\n",
        "from sklearn.model_selection import train_test_split\n",
        "\n",
        "# create a new DataFrame with only the relevant columns\n",
        "df_classification = df[['Customer type', 'Gender', 'Product line', 'Unit price', 'Quantity', 'Tax 5%', 'Total', 'Payment', 'cogs', 'gross margin percentage', 'gross income', 'Rating']]\n",
        "\n",
        "# apply one-hot encoding to the categorical columns\n",
        "df_classification = pd.get_dummies(df_classification)\n",
        "\n",
        "# convert the continuous target variable into a categorical variable by binning the values into 3 bins\n",
        "df_classification['Rating'] = pd.cut(df_classification['Rating'], bins=3, labels=[1, 2, 3])\n",
        "\n",
        "# split the data into training and testing sets\n",
        "X_train, X_test, y_train, y_test = train_test_split(df_classification.drop('Rating', axis=1), df_classification['Rating'], test_size=0.2)\n",
        "\n",
        "# initialize the Random Forest model\n",
        "rf = RandomForestClassifier()\n",
        "\n",
        "# fit the model to the training data\n",
        "rf.fit(X_train, y_train)\n",
        "\n",
        "# predict the ratings for the test data\n",
        "predicted_ratings = rf.predict(X_test)\n",
        "\n",
        "# calculate the accuracy of the predictions\n",
        "accuracy = rf.score(X_test, y_test)\n",
        "print('Accuracy:', accuracy)\n"
      ]
    },
    {
      "cell_type": "markdown",
      "id": "f1564283",
      "metadata": {
        "papermill": {
          "duration": 0.042959,
          "end_time": "2022-12-14T15:57:28.009660",
          "exception": false,
          "start_time": "2022-12-14T15:57:27.966701",
          "status": "completed"
        },
        "tags": [],
        "id": "f1564283"
      },
      "source": [
        "The accuracy of the predictions made by a machine learning model is a measure of how well the model is able to make correct predictions on new data. In general, a higher accuracy indicates that the model is making more accurate predictions, while a lower accuracy indicates that the model is making less accurate predictions.\n",
        "\n",
        "In the case of the Random Forest classification algorithm, an accuracy of **0.3** indicates that the model is making relatively accurate predictions.\n",
        "\n",
        "Let's compare the predicted customer ratings to the actual ratings provided in the dataset and see how well the model is able to predict the ratings. For example, we can calculate the mean absolute error, mean squared error, or root mean squared error between the predicted and actual ratings, and see how close the predicted ratings are to the actual ratings. This can give us a better idea of the quality of the predictions made by the model and help us determine whether the model is making good predictions or not."
      ]
    },
    {
      "cell_type": "markdown",
      "id": "13485202",
      "metadata": {
        "papermill": {
          "duration": 0.041327,
          "end_time": "2022-12-14T15:57:28.093920",
          "exception": false,
          "start_time": "2022-12-14T15:57:28.052593",
          "status": "completed"
        },
        "tags": [],
        "id": "13485202"
      },
      "source": [
        "**Mean Absolute Error**"
      ]
    },
    {
      "cell_type": "code",
      "execution_count": 59,
      "id": "bc923030",
      "metadata": {
        "execution": {
          "iopub.execute_input": "2022-12-14T15:57:28.179872Z",
          "iopub.status.busy": "2022-12-14T15:57:28.179416Z",
          "iopub.status.idle": "2022-12-14T15:57:28.187555Z",
          "shell.execute_reply": "2022-12-14T15:57:28.186088Z"
        },
        "papermill": {
          "duration": 0.054722,
          "end_time": "2022-12-14T15:57:28.190889",
          "exception": false,
          "start_time": "2022-12-14T15:57:28.136167",
          "status": "completed"
        },
        "tags": [],
        "id": "bc923030",
        "outputId": "c30e3d5a-2ee7-42e3-aa6e-8d860bf6ac56",
        "colab": {
          "base_uri": "https://localhost:8080/"
        }
      },
      "outputs": [
        {
          "output_type": "stream",
          "name": "stdout",
          "text": [
            "Mean absolute error: 0.84\n"
          ]
        }
      ],
      "source": [
        "from sklearn.metrics import mean_absolute_error\n",
        "\n",
        "# calculate the mean absolute error between the predicted and actual ratings\n",
        "mae = mean_absolute_error(y_test, predicted_ratings)\n",
        "print('Mean absolute error:', mae)\n"
      ]
    },
    {
      "cell_type": "markdown",
      "id": "027193af",
      "metadata": {
        "papermill": {
          "duration": 0.040702,
          "end_time": "2022-12-14T15:57:28.272694",
          "exception": false,
          "start_time": "2022-12-14T15:57:28.231992",
          "status": "completed"
        },
        "tags": [],
        "id": "027193af"
      },
      "source": [
        "In general, a lower mean absolute error indicates that the model is making more accurate predictions, while a higher mean absolute error indicates that the model is making less accurate predictions. Therefore, a mean absolute error of **0.9** indicates that the model is making relatively accurate predictions."
      ]
    },
    {
      "cell_type": "markdown",
      "id": "bb7277f7",
      "metadata": {
        "papermill": {
          "duration": 0.040493,
          "end_time": "2022-12-14T15:57:28.354419",
          "exception": false,
          "start_time": "2022-12-14T15:57:28.313926",
          "status": "completed"
        },
        "tags": [],
        "id": "bb7277f7"
      },
      "source": [
        "**Mean Squared Error**"
      ]
    },
    {
      "cell_type": "code",
      "execution_count": 60,
      "id": "2d9d533d",
      "metadata": {
        "execution": {
          "iopub.execute_input": "2022-12-14T15:57:28.436974Z",
          "iopub.status.busy": "2022-12-14T15:57:28.436532Z",
          "iopub.status.idle": "2022-12-14T15:57:28.444767Z",
          "shell.execute_reply": "2022-12-14T15:57:28.443116Z"
        },
        "papermill": {
          "duration": 0.053173,
          "end_time": "2022-12-14T15:57:28.448004",
          "exception": false,
          "start_time": "2022-12-14T15:57:28.394831",
          "status": "completed"
        },
        "tags": [],
        "id": "2d9d533d",
        "outputId": "0810ffdc-849a-455d-961e-7d1e1695b7c4",
        "colab": {
          "base_uri": "https://localhost:8080/"
        }
      },
      "outputs": [
        {
          "output_type": "stream",
          "name": "stdout",
          "text": [
            "Mean squared error: 1.23\n"
          ]
        }
      ],
      "source": [
        "from sklearn.metrics import mean_squared_error\n",
        "\n",
        "# calculate the mean squared error between the predicted and actual ratings\n",
        "mse = mean_squared_error(y_test, predicted_ratings)\n",
        "print('Mean squared error:', mse)\n"
      ]
    },
    {
      "cell_type": "markdown",
      "id": "a5ce84f4",
      "metadata": {
        "papermill": {
          "duration": 0.041087,
          "end_time": "2022-12-14T15:57:28.530798",
          "exception": false,
          "start_time": "2022-12-14T15:57:28.489711",
          "status": "completed"
        },
        "tags": [],
        "id": "a5ce84f4"
      },
      "source": [
        "In general, a lower mean squared error indicates that the model is making more accurate predictions, while a higher mean squared error indicates that the model is making less accurate predictions. Therefore, a mean squared error of **1.3** indicates that the model is making relatively accurate predictions."
      ]
    },
    {
      "cell_type": "markdown",
      "id": "e2b25345",
      "metadata": {
        "papermill": {
          "duration": 0.041444,
          "end_time": "2022-12-14T15:57:28.612942",
          "exception": false,
          "start_time": "2022-12-14T15:57:28.571498",
          "status": "completed"
        },
        "tags": [],
        "id": "e2b25345"
      },
      "source": [
        "**Root Mean Squared Error**"
      ]
    },
    {
      "cell_type": "code",
      "execution_count": 61,
      "id": "30232068",
      "metadata": {
        "execution": {
          "iopub.execute_input": "2022-12-14T15:57:28.698061Z",
          "iopub.status.busy": "2022-12-14T15:57:28.697664Z",
          "iopub.status.idle": "2022-12-14T15:57:28.706601Z",
          "shell.execute_reply": "2022-12-14T15:57:28.705321Z"
        },
        "papermill": {
          "duration": 0.053693,
          "end_time": "2022-12-14T15:57:28.708874",
          "exception": false,
          "start_time": "2022-12-14T15:57:28.655181",
          "status": "completed"
        },
        "tags": [],
        "id": "30232068",
        "outputId": "d83e3ac9-a445-45db-9007-91e21f9eca16",
        "colab": {
          "base_uri": "https://localhost:8080/"
        }
      },
      "outputs": [
        {
          "output_type": "stream",
          "name": "stdout",
          "text": [
            "Root mean squared error: 0.14766717709063537\n"
          ]
        }
      ],
      "source": [
        "from sklearn.metrics import mean_squared_log_error\n",
        "\n",
        "# calculate the root mean squared error between the predicted and actual ratings\n",
        "rmsle = mean_squared_log_error(y_test, predicted_ratings)\n",
        "print('Root mean squared error:', rmsle)\n"
      ]
    },
    {
      "cell_type": "markdown",
      "id": "902850c1",
      "metadata": {
        "papermill": {
          "duration": 0.041582,
          "end_time": "2022-12-14T15:57:28.791297",
          "exception": false,
          "start_time": "2022-12-14T15:57:28.749715",
          "status": "completed"
        },
        "tags": [],
        "id": "902850c1"
      },
      "source": [
        "In general, a lower root mean squared error indicates that the model is making more accurate predictions, while a higher root mean squared error indicates that the model is making less accurate predictions. Therefore, a root mean squared error of **0.16** indicates that the model is making relatively accurate predictions."
      ]
    },
    {
      "cell_type": "markdown",
      "id": "498f2849",
      "metadata": {
        "papermill": {
          "duration": 0.041803,
          "end_time": "2022-12-14T15:57:28.875528",
          "exception": false,
          "start_time": "2022-12-14T15:57:28.833725",
          "status": "completed"
        },
        "tags": [],
        "id": "498f2849"
      },
      "source": [
        "This code first preprocesses the data by selecting the relevant columns, applying one-hot encoding to the categorical columns, and binning the continuous target variable into a set of discrete values. Then, it splits the data into training and testing sets and uses the Random Forest algorithm to train a model on the training data. Next, it predicts the customer ratings for the test data and calculates the accuracy of the predictions. You can then use this model to predict the customer ratings for new data and improve our services to increase customer satisfaction.\n",
        "\n",
        "To use the trained model to predict the customer ratings for new data, we need to preprocess the new data in the same way as the training data and then use the predict() method of the model to predict the ratings:\n",
        "\n"
      ]
    },
    {
      "cell_type": "code",
      "execution_count": 62,
      "id": "7c4e3ba3",
      "metadata": {
        "execution": {
          "iopub.execute_input": "2022-12-14T15:57:28.961399Z",
          "iopub.status.busy": "2022-12-14T15:57:28.959773Z",
          "iopub.status.idle": "2022-12-14T15:57:29.018595Z",
          "shell.execute_reply": "2022-12-14T15:57:29.016547Z"
        },
        "papermill": {
          "duration": 0.106661,
          "end_time": "2022-12-14T15:57:29.023536",
          "exception": false,
          "start_time": "2022-12-14T15:57:28.916875",
          "status": "completed"
        },
        "tags": [],
        "id": "7c4e3ba3",
        "outputId": "4ef683b3-d7de-44c2-e4d6-fd931cd4b9cf",
        "colab": {
          "base_uri": "https://localhost:8080/"
        }
      },
      "outputs": [
        {
          "output_type": "stream",
          "name": "stdout",
          "text": [
            "[3 3 2 3 1 1 1 2 2 1 1 2 2 3 1 1 1 2 3 1 1 1 1 3 1 3 2 2 2 2 1 1 1 2 2 2 1\n",
            " 1 2 2 2 2 1 2 1 3 3 1 3 2 3 3 2 2 2 2 1 2 1 3 3 3 3 3 2 1 2 3 2 1 3 1 1 3\n",
            " 2 1 3 1 2 1 1 2 2 3 1 1 3 2 2 2 3 1 1 3 2 2 1 1 3 2 1 2 3 3 2 2 2 2 1 3 1\n",
            " 2 3 1 3 2 1 1 1 1 2 3 1 1 2 1 3 1 1 1 2 3 2 3 1 2 3 3 3 1 1 3 3 3 2 3 3 1\n",
            " 2 1 2 2 3 3 3 3 2 3 1 3 3 1 2 2 1 1 1 3 2 1 1 2 2 3 3 3 3 1 1 3 2 3 2 1 2\n",
            " 2 2 2 3 1 2 1 3 1 3 1 1 2 3 2 2 2 3 3 1 3 3 2 1 2 1 3 1 1 2 3 3 1 3 3 1 1\n",
            " 3 3 2 3 1 3 1 2 2 3 2 2 2 1 1 2 1 1 1 1 1 1 3 1 1 2 3 2 2 3 2 1 3 2 3 1 2\n",
            " 2 2 1 1 1 1 3 2 3 1 2 1 3 3 1 2 2 2 2 1 3 2 2 2 3 2 2 2 3 1 1 2 1 1 2 1 2\n",
            " 3 1 1 2 2 1 2 3 3 1 3 1 1 2 1 3 1 1 1 1 2 1 3 3 3 3 3 2 3 2 1 3 1 2 2 3 1\n",
            " 2 3 3 2 3 3 2 3 1 3 3 2 2 2 1 1 1 2 1 3 1 2 2 3 1 2 1 2 3 2 2 2 3 1 1 1 2\n",
            " 3 1 1 2 3 3 3 3 2 1 2 1 3 1 3 1 1 3 3 2 2 3 2 2 2 1 1 1 1 2 3 2 3 2 1 2 2\n",
            " 2 1 1 1 2 2 2 3 2 3 3 1 3 2 3 3 2 1 2 3 2 2 2 2 1 2 3 2 3 3 2 2 2 2 1 2 3\n",
            " 3 1 3 2 1 2 2 2 1 1 1 2 1 2 2 2 3 3 2 2 1 2 1 1 2 3 1 3 1 1 2 2 1 1 2 2 3\n",
            " 1 1 1 2 2 2 3 1 3 1 2 3 3 2 1 3 2 3 3 1 1 3 2 3 3 2 2 2 1 2 2 3 2 3 3 3 3\n",
            " 3 1 3 1 2 1 2 1 2 2 2 3 3 2 1 3 2 2 1 2 2 1 3 2 1 3 3 1 3 1 1 2 2 3 3 3 2\n",
            " 1 3 2 1 3 2 1 1 1 3 2 3 2 2 1 2 3 3 3 2 2 3 2 2 3 2 3 2 3 2 3 3 2 1 1 1 3\n",
            " 2 1 2 3 3 1 3 3 2 1 1 2 1 3 1 2 1 3 2 2 2 3 1 1 2 1 3 2 3 3 1 1 3 3 3 1 2\n",
            " 3 1 1 2 1 1 1 1 2 3 2 2 1 3 2 1 2 2 1 2 1 2 3 2 1 3 2 2 2 1 1 2 2 1 3 2 2\n",
            " 2 2 1 1 1 1 2 3 1 3 1 1 3 1 2 2 2 2 1 2 2 1 2 3 2 1 3 3 2 2 2 1 2 2 3 1 1\n",
            " 3 2 3 2 1 3 2 1 1 2 1 3 2 1 3 2 2 2 1 3 3 2 2 1 1 2 3 1 1 3 3 2 1 3 3 1 3\n",
            " 3 3 3 2 1 2 1 1 2 1 1 3 2 3 2 2 1 1 1 2 1 1 3 2 2 2 2 2 2 2 1 2 1 2 1 2 3\n",
            " 3 2 1 3 2 1 3 2 3 3 3 1 1 2 3 1 3 2 1 1 3 3 3 2 1 2 2 2 1 2 3 3 1 2 1 2 1\n",
            " 1 1 2 3 3 1 2 1 1 2 1 2 2 3 1 1 2 3 1 3 1 1 1 1 1 1 2 1 1 3 1 1 3 3 1 1 3\n",
            " 3 1 1 3 1 2 3 1 1 2 2 1 2 2 2 2 1 1 1 2 3 2 3 1 3 1 2 1 3 1 3 3 2 2 2 3 3\n",
            " 2 1 2 1 3 3 3 1 1 3 1 1 2 1 1 3 1 2 1 2 2 1 2 3 2 1 2 1 3 2 3 2 1 2 1 2 2\n",
            " 3 1 2 2 2 2 3 1 2 1 1 2 2 1 1 2 2 1 1 1 1 1 1 2 3 3 1 3 2 1 2 3 2 3 3 3 3\n",
            " 2 2 2 1 1 1 3 3 3 2 1 1 3 2 3 3 1 3 3 3 2 2 1 2 1 2 1 3 1 1 3 2 1 2 1 2 1\n",
            " 2]\n"
          ]
        }
      ],
      "source": [
        "# create a new DataFrame with only the relevant columns\n",
        "df_new = df[['Customer type', 'Gender', 'Product line', 'Unit price', 'Quantity', 'Tax 5%', 'Total', 'Payment', 'cogs', 'gross margin percentage', 'gross income']]\n",
        "\n",
        "# apply one-hot encoding to the categorical columns\n",
        "df_new = pd.get_dummies(df_new)\n",
        "\n",
        "# predict the ratings for the new data\n",
        "predicted_ratings = rf.predict(df_new)\n",
        "df_regression = df[['Branch', 'City', 'Customer type', 'Gender', 'Product line', 'Unit price', 'Quantity', 'Tax 5%', 'Payment', 'cogs', 'gross margin percentage', 'gross income', 'Total']]\n",
        "\n",
        "# apply one-hot encoding to the categorical columns\n",
        "df_regression = pd.get_dummies(df_regression)\n",
        "\n",
        "# split the data into training and testing sets\n",
        "X_train, X_test, y_train, y_test = train_test_split(df_regression.drop('Total', axis=1), df_regression['Total'], test_size=0.2)\n",
        "\n",
        "# print the predicted ratings\n",
        "print(predicted_ratings)\n"
      ]
    },
    {
      "cell_type": "markdown",
      "id": "4a7812dc",
      "metadata": {
        "papermill": {
          "duration": 0.040974,
          "end_time": "2022-12-14T15:57:29.107204",
          "exception": false,
          "start_time": "2022-12-14T15:57:29.066230",
          "status": "completed"
        },
        "tags": [],
        "id": "4a7812dc"
      },
      "source": [
        "This code first preprocesses the new data by selecting the relevant columns and applying one-hot encoding to the categorical columns. Then, it uses the trained model to predict the ratings for the new data and prints the predicted ratings. We can then use these predicted ratings to understand the factors that influence customer ratings and improve our services to increase customer satisfaction."
      ]
    },
    {
      "cell_type": "markdown",
      "id": "d9e59aa3",
      "metadata": {
        "papermill": {
          "duration": 0.041712,
          "end_time": "2022-12-14T15:57:29.192294",
          "exception": false,
          "start_time": "2022-12-14T15:57:29.150582",
          "status": "completed"
        },
        "tags": [],
        "id": "d9e59aa3"
      },
      "source": [
        "#### **Random Forest Regression Algorithm** <a class=\"anchor\" id=\"rfra\"></a>"
      ]
    },
    {
      "cell_type": "markdown",
      "id": "3f2255eb",
      "metadata": {
        "papermill": {
          "duration": 0.041917,
          "end_time": "2022-12-14T15:57:29.275978",
          "exception": false,
          "start_time": "2022-12-14T15:57:29.234061",
          "status": "completed"
        },
        "tags": [],
        "id": "3f2255eb"
      },
      "source": [
        "Let's use Regression algorithms to predict the total sales for each city based on the other attributes in the dataset. This can help us understand the factors that influence sales and improve our marketing and sales strategies to increase revenue.\n",
        "\n",
        "We will use Random Forest regression algorithm to predict the total sales for each city based on the other attributes in the dataset:"
      ]
    },
    {
      "cell_type": "code",
      "execution_count": 63,
      "id": "38f16bc5",
      "metadata": {
        "execution": {
          "iopub.execute_input": "2022-12-14T15:57:29.362369Z",
          "iopub.status.busy": "2022-12-14T15:57:29.361893Z",
          "iopub.status.idle": "2022-12-14T15:57:29.884751Z",
          "shell.execute_reply": "2022-12-14T15:57:29.882910Z"
        },
        "papermill": {
          "duration": 0.569274,
          "end_time": "2022-12-14T15:57:29.887895",
          "exception": false,
          "start_time": "2022-12-14T15:57:29.318621",
          "status": "completed"
        },
        "tags": [],
        "id": "38f16bc5",
        "outputId": "ec64873e-2e15-468d-d2e1-d1774c9e9fc7",
        "colab": {
          "base_uri": "https://localhost:8080/"
        }
      },
      "outputs": [
        {
          "output_type": "stream",
          "name": "stdout",
          "text": [
            "Accuracy: 0.9999420061879795\n"
          ]
        }
      ],
      "source": [
        "# import necessary libraries\n",
        "from sklearn.ensemble import RandomForestRegressor\n",
        "from sklearn.model_selection import train_test_split\n",
        "\n",
        "# create a new DataFrame with only the relevant columns\n",
        "df_regression = df[['Branch', 'City', 'Customer type', 'Gender', 'Product line', 'Unit price', 'Quantity', 'Tax 5%', 'Payment', 'cogs', 'gross margin percentage', 'gross income', 'Total']]\n",
        "\n",
        "# apply one-hot encoding to the categorical columns\n",
        "df_regression = pd.get_dummies(df_regression)\n",
        "\n",
        "# split the data into training and testing sets\n",
        "X_train, X_test, y_train, y_test = train_test_split(df_regression.drop('Total', axis=1), df_regression['Total'], test_size=0.2)\n",
        "\n",
        "# initialize the Random Forest model\n",
        "rf = RandomForestRegressor()\n",
        "\n",
        "# fit the model to the training data\n",
        "rf.fit(X_train, y_train)\n",
        "\n",
        "# predict the total sales for the test data\n",
        "predicted_totals = rf.predict(X_test)\n",
        "\n",
        "# calculate the accuracy of the predictions\n",
        "accuracy = rf.score(X_test, y_test)\n",
        "print('Accuracy:', accuracy)\n"
      ]
    },
    {
      "cell_type": "markdown",
      "id": "fe7d2ee4",
      "metadata": {
        "papermill": {
          "duration": 0.04245,
          "end_time": "2022-12-14T15:57:29.971840",
          "exception": false,
          "start_time": "2022-12-14T15:57:29.929390",
          "status": "completed"
        },
        "tags": [],
        "id": "fe7d2ee4"
      },
      "source": [
        "Accuracy value of **0.9999** indicates that the model has made very accurate predictions on the test data.\n",
        "\n",
        "A high accuracy value means that the model has successfully learned the relationship between the input features and the target variable (Total sales in this case) and is able to make accurate predictions on new data. This is a good indication that the model can be used to predict the total sales for new data and improve our marketing and sales strategies to increase revenue.\n",
        "\n",
        "However, it is important to note that the accuracy of a model is not the only measure of its performance. Other metrics such as precision, recall, and F1 score can also be used to evaluate the performance of a regression model. We can use these metrics to evaluate the performance of our model and fine-tune it to improve its accuracy."
      ]
    },
    {
      "cell_type": "markdown",
      "id": "e845622f",
      "metadata": {
        "papermill": {
          "duration": 0.041526,
          "end_time": "2022-12-14T15:57:30.056875",
          "exception": false,
          "start_time": "2022-12-14T15:57:30.015349",
          "status": "completed"
        },
        "tags": [],
        "id": "e845622f"
      },
      "source": [
        "We can then use this model to predict the total sales for new data and improve our marketing and sales strategies to increase revenue.\n",
        "\n",
        "To use the trained model to predict the total sales for new data, we need to preprocess the new data in the same way as the training data and then use the predict() method of the model to predict the total sales:"
      ]
    },
    {
      "cell_type": "code",
      "source": [
        "import numpy as np\n",
        "from sklearn.linear_model import LinearRegression\n",
        "\n",
        "# create a new DataFrame with only the relevant columns\n",
        "df_classification = df[['Customer type', 'Gender', 'Product line', 'Unit price', 'Quantity', 'Tax 5%', 'Total', 'Payment', 'cogs', 'gross margin percentage', 'gross income', 'Rating']]\n",
        "\n",
        "# apply one-hot encoding to the categorical columns\n",
        "df_classification = pd.get_dummies(df_classification)\n",
        "\n",
        "# convert the continuous target variable into a categorical variable by binning the values into 3 bins\n",
        "df_classification['Rating'] = pd.cut(df_classification['Rating'], bins=3, labels=[1, 2, 3])\n",
        "\n",
        "# split the data into training and testing sets\n",
        "X_train, X_test, y_train, y_test = train_test_split(df_classification.drop('Rating', axis=1), df_classification['Rating'], test_size=0.2)\n",
        "\n",
        "X = X_train\n",
        "\n",
        "y = y_train\n",
        "\n",
        "from sklearn.datasets import load_iris\n",
        "from sklearn.linear_model import LogisticRegression\n",
        "\n",
        "clf = LogisticRegression(random_state=0).fit(X, y)\n",
        "\n",
        "clf.score(X, y)"
      ],
      "metadata": {
        "colab": {
          "base_uri": "https://localhost:8080/"
        },
        "id": "JJIdviqWFpzw",
        "outputId": "8c9cee77-8c88-4833-f889-a554c046081b"
      },
      "id": "JJIdviqWFpzw",
      "execution_count": 64,
      "outputs": [
        {
          "output_type": "stream",
          "name": "stderr",
          "text": [
            "/usr/local/lib/python3.8/dist-packages/sklearn/linear_model/_logistic.py:814: ConvergenceWarning: lbfgs failed to converge (status=1):\n",
            "STOP: TOTAL NO. of ITERATIONS REACHED LIMIT.\n",
            "\n",
            "Increase the number of iterations (max_iter) or scale the data as shown in:\n",
            "    https://scikit-learn.org/stable/modules/preprocessing.html\n",
            "Please also refer to the documentation for alternative solver options:\n",
            "    https://scikit-learn.org/stable/modules/linear_model.html#logistic-regression\n",
            "  n_iter_i = _check_optimize_result(\n"
          ]
        },
        {
          "output_type": "execute_result",
          "data": {
            "text/plain": [
              "0.36"
            ]
          },
          "metadata": {},
          "execution_count": 64
        }
      ]
    },
    {
      "cell_type": "code",
      "execution_count": 65,
      "id": "70505539",
      "metadata": {
        "execution": {
          "iopub.execute_input": "2022-12-14T15:57:30.143896Z",
          "iopub.status.busy": "2022-12-14T15:57:30.143498Z",
          "iopub.status.idle": "2022-12-14T15:57:30.201502Z",
          "shell.execute_reply": "2022-12-14T15:57:30.200277Z"
        },
        "papermill": {
          "duration": 0.106417,
          "end_time": "2022-12-14T15:57:30.205019",
          "exception": false,
          "start_time": "2022-12-14T15:57:30.098602",
          "status": "completed"
        },
        "tags": [],
        "id": "70505539",
        "outputId": "9b83976a-c93a-4e04-de4f-10aa4dc10338",
        "colab": {
          "base_uri": "https://localhost:8080/"
        }
      },
      "outputs": [
        {
          "output_type": "stream",
          "name": "stdout",
          "text": [
            "[ 548.545515   80.284785  340.39089   489.43671   633.93414   627.907665\n",
            "  433.376895  770.258685   76.07292   172.29513    60.775155  107.2134\n",
            "  246.758925  453.32133   749.537565  589.881495  506.96982   457.26954\n",
            "  172.304475   84.826665  451.631775  277.137105   69.742785  181.19871\n",
            "  279.509265  441.628635   35.158305  183.968295  463.30746   235.55637\n",
            "  494.22891   737.03511   703.34355   203.09478   417.35463    71.55729\n",
            "  328.357575  575.21772   461.603835  253.03362    90.73449   118.04058\n",
            "  435.03306   830.681775   32.220615  394.72839   536.2203    189.110985\n",
            "  119.04039   866.547885  670.358325  233.49396    75.069435   15.78528\n",
            "   34.002465  721.63392    92.92815   751.39743   760.245255  192.840165\n",
            "   77.768565  351.09942   521.20152   166.071465  318.256785  166.53714\n",
            "   70.22778   614.88168   831.091695   19.37754   939.32916   653.29866\n",
            "  152.7834    477.964095  705.205935  435.971655  462.903735  189.248115\n",
            "  820.522815  107.01285   625.84116   305.49477   161.76678   337.756755\n",
            "  256.41987   610.57206   401.15691   362.815635   44.46708   485.018625\n",
            "  198.72867   471.2022    161.73801   608.66148    94.04178   102.08856\n",
            "  922.179615   78.471015  166.053405  521.45142    50.907255  742.769685\n",
            "  218.0052    366.66588   223.13718   929.932395  172.477935  391.38771\n",
            "  321.83004   861.151095   34.73442   309.17166   535.85343   548.576595\n",
            "  763.30317    85.04853   115.38177    53.877285  115.14951   112.065135\n",
            "  833.421645  419.59281   944.11674   537.083085  473.99289   689.19732\n",
            "  168.78939   299.45244   575.25384   855.07422   291.024615  578.29926\n",
            "  146.288625  550.90182   512.50878   284.068155  138.179475  216.845895\n",
            "  544.913145  608.99706   943.46049   948.893085  719.676825   31.972395\n",
            "  491.31789   291.141795  317.91648   277.701585  605.4111    272.53737\n",
            "  383.85921   253.795185  787.55544   103.784625  680.27295   485.49459\n",
            "   75.89274   264.15354   920.283945  588.399525  362.78193    66.95241\n",
            "  336.18753   160.98201   419.69739   357.6531   1006.46175  1030.31565\n",
            "  324.09153   511.058205  366.756495  419.97858   175.09821   333.708375\n",
            "  166.16082   318.62397   186.23997   165.475065  464.29194   273.35553\n",
            "  471.72783   324.13647   162.77037   288.30501    90.708345   56.96145\n",
            "  794.68641   195.25632    77.733075  293.26962   242.396805  154.569765\n",
            "  831.121935  107.32113   172.175115   77.93121    91.737345   26.395215\n",
            "  174.648705  374.99322   120.720495  241.584105  451.509135  271.971735\n",
            "   92.993985  217.65156   628.907265  299.692785   95.809245  942.71247\n",
            "  247.45413   882.88557   485.189145  146.17659   217.652085   19.499865\n",
            "  130.295445  297.81045   796.05393   180.64389   285.18798   456.49716\n",
            "   61.724145   13.145055   90.81912   182.953365  654.791865  155.30571\n",
            "  571.16367   532.50225   171.797325   33.593595  794.484495  309.729315\n",
            "  544.978245  195.63201    91.4466    232.67118    69.292755   94.11129\n",
            "  235.75755   126.058905  195.8061    263.1636    788.9049    399.254205\n",
            "  256.433835   94.0653    326.00064   536.55462   440.259645  369.42969\n",
            "   30.48423    99.793575  494.74908   137.10795    69.436815  163.064265\n",
            "  135.73287   277.11033   708.548925   69.32562   161.02044   233.008545\n",
            "   57.09627   722.09613   149.46015   784.19229   296.647995  373.483215\n",
            "  353.39304    44.33646   203.39046    25.208925  628.30173   352.244655\n",
            "  228.485355  399.730695  744.25995   462.077595  587.38239    38.86911\n",
            "   15.98478   629.4498    199.99161   350.443905   78.57696   224.61705\n",
            "  356.70705   697.525815  422.869125  204.329475   66.296895   76.28649\n",
            "  190.179255  272.64006   121.1553    494.18502   251.996745   92.841735\n",
            "  209.50566    41.43321    50.84604   214.90497   125.9454    530.472075\n",
            "  295.54539   745.6827     83.62578   171.86148   503.56047   145.58334\n",
            "   74.778795  146.31435   820.60776   208.715325   66.57126   391.575135\n",
            "  217.95858   184.614885  216.97767    41.59176    96.13779   324.52854\n",
            "  135.71124   409.96011   523.735275  395.5959    214.68594   152.958015\n",
            "  207.919215  103.543965  404.4768     49.45332    77.045115  149.908815\n",
            "  721.35168   365.37081   150.344985  404.32917   151.58619   409.62957\n",
            "  566.90004   511.24206   140.86611   736.357125   75.618585  749.693805\n",
            "  191.155755  141.835995 1024.0881    380.58468   402.23358   255.18801\n",
            "   31.86435   375.241545  394.422    1004.75235    86.592345   78.69834\n",
            "  679.488705  794.122035  209.54703   461.3973    172.81509   344.06295\n",
            "  485.092545  277.136475  150.793545  203.19012   192.907785  127.90386\n",
            "  441.708015  264.943665  351.72984   507.574725  334.26939   702.57327\n",
            "  407.71374    99.60573   345.85341    56.17647   523.289235  314.15391\n",
            "  214.8468     79.740465  294.481845  339.25815   511.14147   133.463085\n",
            "  253.33035   398.429325   80.65848   548.415525   83.70306   407.98065\n",
            "  284.67831   127.828155  257.70906   181.55193   248.21013   193.92471\n",
            "   14.367255  208.66566   719.503785  282.236325   72.43194   288.532335\n",
            "  237.11121   126.199815  359.006235   46.078095  110.016165   81.1923\n",
            "  429.068955  100.95813   190.701735   85.38306   120.22227   185.447115\n",
            "  121.49193   264.9654   1019.6235    213.51855    16.79916   384.17547\n",
            "  390.66762    66.722985  352.98543   950.090085  145.14633    90.850935\n",
            "  147.29484   702.089745   49.665945  938.37387   348.713295  214.004805\n",
            "   71.62617   344.17236    91.52157   743.246805  841.071315   13.666905\n",
            "  140.81718    20.17638   290.055675  144.20952    28.849695   41.219745\n",
            "  470.73369   138.426225  333.8853     26.090505   87.02274   155.51298\n",
            "  731.80884   832.859265  489.42075    37.420005  212.99607   766.43637\n",
            "  310.312485   23.271675  270.346125  572.64039   273.004935  233.48031\n",
            "   22.916565  103.683195  528.48768   167.995695  452.750865  609.36435\n",
            "  338.24091   204.04188   174.63621   352.68366   360.81507    41.67408\n",
            "  554.13057   344.594565  194.9178    633.510045  389.41602   207.826605\n",
            "  431.531835  155.8767     23.90892   734.10939    72.55542   207.12846\n",
            "  212.77242   126.854175  209.60037   635.61393   132.77187   569.682645\n",
            "  103.092045  432.926445   77.662935   33.62289   145.70493   195.92391\n",
            "   92.826405  203.224455  152.801355  529.31004   322.544985  100.299045\n",
            "  668.19795   225.60384   398.7942    732.010125  428.66964    53.998455\n",
            "  288.109815  207.126045   72.726675  377.248095  144.14253   523.71585\n",
            "  235.811205  132.127065  513.96933   479.920665  164.75592   125.95653\n",
            "  571.228455  927.26046   161.44884   729.003555  241.178385  153.97095\n",
            "  149.04225   122.082975   77.65065   102.916695  306.622785  550.796505\n",
            "   96.531645   79.64061    84.821625  118.10421    74.852925  162.94677\n",
            "  309.03873   575.671005  270.49974   416.038665  180.51684   512.82924\n",
            "  550.7649    139.877745  141.85626   118.05318   151.7376   1022.56245\n",
            "  263.042745  227.7177    203.867475  937.412385  356.64594   469.86765\n",
            "  208.48842   854.331765  521.06838   620.40741   587.280435  544.4292\n",
            "  431.079495  280.038885   74.47482   151.90581   451.797465  598.15476\n",
            "  253.225245  133.17654   270.412065  145.8933     85.64136   325.803135\n",
            "  195.44994    76.025565  198.65517   217.197645  164.86344   225.82875\n",
            "  625.90689    76.71363   293.370525  176.84583    47.81238   236.78109\n",
            "  305.272905   46.534425  164.548965  441.202335  193.26573   147.127995\n",
            "   87.086475   69.03624   813.904035  344.802255  380.99145   133.24542\n",
            "  394.51902   208.92942    32.151735  121.44153    30.468795  936.88728\n",
            "  293.714295   84.99204   706.906095  365.50458   457.204545  461.398245\n",
            "  620.361     273.56931   225.74223    96.03699   696.06369   871.49769\n",
            "   95.91708   165.50646   126.69447   866.449395  167.5548     13.85937\n",
            "  675.547005  246.809955  175.669515  313.85004   251.926815  697.652865\n",
            "  212.77746    48.55137    92.509935  165.085725  310.473975  743.668905\n",
            "  117.22977   609.16422    63.20286   182.93688   441.927255   35.146545\n",
            "   32.34042   258.226605  397.41681   351.24936   763.897995  352.56753\n",
            "  253.10082    49.423605  104.475945  277.76994   146.42628    57.77625\n",
            "  135.540405  125.9223    369.67959   918.26385   207.541845  203.85456\n",
            "  181.2489     75.627825  300.03183    85.252755  588.43491   196.07427\n",
            "  232.715805  282.65391   477.995805  175.59843   470.97414   308.783265\n",
            "  619.2921    305.54433    41.436675   36.445185  310.34094    44.779665\n",
            "  145.45356   103.182135  136.062465  668.2221    152.94048   211.967595\n",
            "  665.240835  404.461575  510.85629   538.57377   495.959205  458.15511\n",
            "  113.41323   262.87107   654.931725 1019.5626    507.514875  102.016005\n",
            "  207.589725  760.177635  833.510475  528.243555  180.58803    72.301215\n",
            "  131.141745   81.02472   507.518865  317.726535  733.84836   130.92219\n",
            "  829.70937   188.0781    524.85867    37.307235  142.85418   110.03664\n",
            "  188.288415  856.16475   138.61638   270.36156    98.035665  239.610105\n",
            "  175.064925  732.13434   408.3408    383.821305   93.90192   175.84917\n",
            "   20.533275  556.329165   56.38521   860.565825  597.335025  617.61483\n",
            "  769.712895  886.70022   408.70326    89.22627   150.70062    79.0398\n",
            "  265.88709    41.44119   681.8553     55.148625  116.36835   597.8889\n",
            "   93.86391   143.0373    182.93982   384.43503   266.741055  817.082385\n",
            "  300.139035  608.33829   197.811285  232.80201   808.64952   757.397865\n",
            "  536.20875    56.26089   233.05464   801.89907   239.862      86.199225\n",
            "  401.00067    72.00963   399.9471    630.219975  499.49613    55.038375\n",
            "  137.99079   151.550385  479.681055   97.982955  132.38736   830.875605\n",
            "  183.109185  397.88049    32.157615  369.57333    53.58423   548.531865\n",
            "  605.872785   57.60153   190.62792   432.73944    48.635265  288.221325\n",
            " 1021.27515   680.34855    97.87764    57.08094    64.516935  256.922085\n",
            "   97.670055  455.474985  145.09887   253.62729   495.109125  462.280035\n",
            "  715.80033   325.533495  195.67443   210.81207    18.94557   653.511075\n",
            "   90.467685  422.76423   340.421235   99.908655  408.38553   447.279945\n",
            "  334.106955  284.363625  404.07045   247.71201   222.50277   100.07634\n",
            "   11.57016   216.687765  441.457695   92.474865  680.86242   130.16262\n",
            "  681.01929   782.16852    88.741695  263.319525   99.689625   95.995725\n",
            "  299.845665   55.003095  202.650105  281.0997    586.96596   183.93858\n",
            "  163.481745   63.687435   83.02476    31.1535     22.581405  295.493625\n",
            "   76.915965   23.495745  688.823205  624.448335   77.79681   207.130875\n",
            "  390.812415  554.18202   504.381255  344.883525  176.719305  118.81212\n",
            "  362.682075  450.62934    90.641565   26.266905  106.95846   375.52809\n",
            "  250.78263   106.985235  760.18236   131.99046    76.683285  271.51593\n",
            "  182.7399     58.15509   224.93982   559.53933    97.85286   548.273145\n",
            "   54.98913    41.70537   756.800835  101.86743   349.1796     85.424325\n",
            "  335.834625  216.862485  175.12509   334.615995   92.378055  770.74494\n",
            "  102.655665  808.12326   439.91535   485.93643   485.572185  149.877315\n",
            "  318.102015  832.702395  447.17232   297.73065   628.90716   330.524355\n",
            "  423.129525  193.177005  145.598775   84.87423   122.03079   328.98411\n",
            "  886.60446   434.640045  166.971525  513.99432    91.781865  236.663175\n",
            "  784.714035  431.13945   313.63248   223.67289    44.842665  397.68351\n",
            "  217.243215   82.787775  338.24868   103.22487    26.475645  610.28772\n",
            "  222.687045   57.800295   92.73768   374.79015   833.37072    53.41098\n",
            "  629.23581   174.94428   782.946885  471.09636   397.86873   270.267585\n",
            "  576.99096   469.9842    290.013885  360.768555  279.480705  943.624815\n",
            "  479.725995  266.27097    74.19006   690.43338   176.67363    56.46774\n",
            "  188.075265  222.364905  125.847855   69.28677   264.0834     88.62693\n",
            "  415.62675   312.988515  477.70275   290.184195  165.90756   930.486585\n",
            "   96.434835   43.993215   16.21788   305.24046    69.95751    80.345685\n",
            "  313.803105  255.18717    49.611345  181.05465   886.45284   271.27947\n",
            "  636.05682   251.88009   180.863025  104.68017   313.383945  167.484975\n",
            "   26.7267     71.321565  250.796805  243.827955  923.081355  734.451375\n",
            "  707.352555  334.260885   31.147725  521.29329   865.091535  632.78628\n",
            "  296.666685  803.746965  121.5627    183.73992    64.066485   42.15729\n",
            " 1020.05505    33.69933    69.242565  650.15118 ]\n"
          ]
        }
      ],
      "source": [
        "# create a new DataFrame with only the relevant columns\n",
        "df_new = df[['Branch', 'City', 'Customer type', 'Gender', 'Product line', 'Unit price', 'Quantity', 'Tax 5%', 'Payment', 'cogs', 'gross margin percentage', 'gross income']]\n",
        "\n",
        "# apply one-hot encoding to the categorical columns\n",
        "df_new = pd.get_dummies(df_new)\n",
        "\n",
        "# predict the total sales for the new data\n",
        "predicted_totals = rf.predict(df_new)\n",
        "\n",
        "# print the predicted total sales\n",
        "print(predicted_totals)\n"
      ]
    },
    {
      "cell_type": "markdown",
      "id": "257cab5b",
      "metadata": {
        "papermill": {
          "duration": 0.039749,
          "end_time": "2022-12-14T15:57:30.285397",
          "exception": false,
          "start_time": "2022-12-14T15:57:30.245648",
          "status": "completed"
        },
        "tags": [],
        "id": "257cab5b"
      },
      "source": [
        "This code first preprocesses the new data by selecting the relevant columns and applying one-hot encoding to the categorical columns. Then, it uses the trained model to predict the total sales for the new data and prints the predicted total sales. "
      ]
    },
    {
      "cell_type": "markdown",
      "id": "022f888c",
      "metadata": {
        "papermill": {
          "duration": 0.039814,
          "end_time": "2022-12-14T15:57:30.366665",
          "exception": false,
          "start_time": "2022-12-14T15:57:30.326851",
          "status": "completed"
        },
        "tags": [],
        "id": "022f888c"
      },
      "source": [
        "#### **Conclusion** <a class=\"anchor\" id=\"c\"></a>\n",
        "\n",
        "<br>\n",
        "\n",
        "Based on the analysis of the supermarket dataset, it is recommended to focus on\n",
        "\n",
        "* Increasing the average unit price and gross margin percentage in order to maximize profits. \n",
        "* Promoting certain product lines that have high quantity sold can also increase revenue.\n",
        "* By targeting specific cities and customer types, the number of transactions can be increased. \n",
        "* Furthermore, improving the rating of the supermarket by gender can lead to increased customer satisfaction and loyalty. \n",
        "* Implementing strategies to minimize the amount of tax paid can also improve overall profitability.\n",
        "* Based on the high performance of the Random Forest regression algorithm in predicting the total sales for each city, it is recommended to utilize this algorithm in future sales forecasting. \n",
        "* By incorporating the other attributes in the dataset, the accuracy of the predictions can be further improved. This can be useful in making informed business decisions and allocating resources effectively.\n",
        "* Based on the relatively low performance of the Random Forest classification algorithm in predicting customer ratings, it is recommended to explore other algorithms and/or incorporate additional relevant data to improve the accuracy of the predictions. This can be useful in understanding customer preferences and implementing strategies to improve customer satisfaction and loyalty."
      ]
    }
  ],
  "metadata": {
    "kernelspec": {
      "display_name": "Python 3",
      "language": "python",
      "name": "python3"
    },
    "language_info": {
      "codemirror_mode": {
        "name": "ipython",
        "version": 3
      },
      "file_extension": ".py",
      "mimetype": "text/x-python",
      "name": "python",
      "nbconvert_exporter": "python",
      "pygments_lexer": "ipython3",
      "version": "3.7.12"
    },
    "papermill": {
      "default_parameters": {},
      "duration": 30.723302,
      "end_time": "2022-12-14T15:57:31.511327",
      "environment_variables": {},
      "exception": null,
      "input_path": "__notebook__.ipynb",
      "output_path": "__notebook__.ipynb",
      "parameters": {},
      "start_time": "2022-12-14T15:57:00.788025",
      "version": "2.3.4"
    },
    "colab": {
      "provenance": []
    }
  },
  "nbformat": 4,
  "nbformat_minor": 5
}